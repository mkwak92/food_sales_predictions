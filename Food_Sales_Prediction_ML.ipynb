{
  "cells": [
    {
      "cell_type": "markdown",
      "metadata": {
        "id": "view-in-github",
        "colab_type": "text"
      },
      "source": [
        "<a href=\"https://colab.research.google.com/github/mkwak92/food_sales_predictions/blob/main/Food_Sales_Prediction_ML.ipynb\" target=\"_parent\"><img src=\"https://colab.research.google.com/assets/colab-badge.svg\" alt=\"Open In Colab\"/></a>"
      ]
    },
    {
      "cell_type": "markdown",
      "metadata": {
        "id": "Kl_H1BdDDQpv"
      },
      "source": [
        "# Project 1 Machine Learning (cont.)\n",
        "- Matthew Kwak\n",
        "\n",
        "- Before splitting your data, you can drop duplicates and fix inconsistencies in categorical data.* (*There is a way to do this after the split, but for this project, you may perform this step before the split)\n",
        "- Identify the features (X) and target (y): Assign the \"Item_Outlet_Sales\" column as your target and the rest of the relevant variables as your features matrix.  \n",
        "- Perform a train test split \n",
        "- Create a preprocessing object to prepare the dataset for Machine Learning\n",
        "Make sure your imputation of missing values occurs  after the train test split using SimpleImputer.  "
      ]
    },
    {
      "cell_type": "code",
      "execution_count": null,
      "metadata": {
        "id": "6riBbPBbDD-c"
      },
      "outputs": [],
      "source": [
        "import pandas as pd\n",
        "import numpy as np\n",
        "from sklearn.preprocessing import StandardScaler, OneHotEncoder, OrdinalEncoder\n",
        "from sklearn.impute import SimpleImputer\n",
        "from sklearn.compose import make_column_selector, make_column_transformer\n",
        "from sklearn.pipeline import make_pipeline\n",
        "from sklearn.model_selection import train_test_split\n",
        "from sklearn.metrics import mean_absolute_error, mean_squared_error, r2_score\n",
        "from sklearn import set_config\n",
        "set_config(display='diagram')\n",
        "\n",
        "filename= 'https://docs.google.com/spreadsheets/d/e/2PACX-1vTjJvfknetCj7XU5ZzDHiFUvloXpJnaakjRJjE8U8r5JMRnIdE_HIeFr3ODrNsUi8djGxvuQThaJsl7/pub?gid=1975659408&single=true&output=csv'\n",
        "df = pd.read_csv(filename, header=0)\n",
        "df.head()\n",
        "ml_df = df.copy()"
      ]
    },
    {
      "cell_type": "markdown",
      "metadata": {
        "id": "M3WkddIeEjfC"
      },
      "source": [
        "- Before splitting your data, you can drop duplicates and fix inconsistencies in categorical data.* (*There is a way to do this after the split, but for this project, you may perform this step before the split)"
      ]
    },
    {
      "cell_type": "code",
      "execution_count": null,
      "metadata": {
        "id": "ssy1Kxr4WfY4"
      },
      "outputs": [],
      "source": [
        "def eval_regression(true, pred):\n",
        "  \"\"\"Takes true and predicted values (arrays) and prints MAE, MSE, RMSE and R2\"\"\"\n",
        "  mae = mean_absolute_error(true, pred)\n",
        "  mse = mean_squared_error(true, pred)\n",
        "  rmse = np.sqrt(mse)\n",
        "  r2 = r2_score(true, pred)\n",
        "\n",
        "  print(f'MAE {mae},\\n MSE {mse},\\n RMSE: {rmse},\\n R^2: {r2} ')"
      ]
    },
    {
      "cell_type": "markdown",
      "metadata": {
        "id": "9O1PLLheUqFc"
      },
      "source": [
        "# Data Cleaning"
      ]
    },
    {
      "cell_type": "code",
      "execution_count": null,
      "metadata": {
        "colab": {
          "base_uri": "https://localhost:8080/"
        },
        "id": "NG4iJNUmEYUX",
        "outputId": "e95130de-1d3d-48cb-bbc6-8f568fc6730f"
      },
      "outputs": [
        {
          "output_type": "stream",
          "name": "stdout",
          "text": [
            "<class 'pandas.core.frame.DataFrame'>\n",
            "RangeIndex: 8523 entries, 0 to 8522\n",
            "Data columns (total 12 columns):\n",
            " #   Column                     Non-Null Count  Dtype  \n",
            "---  ------                     --------------  -----  \n",
            " 0   Item_Identifier            8523 non-null   object \n",
            " 1   Item_Weight                7060 non-null   float64\n",
            " 2   Item_Fat_Content           8523 non-null   object \n",
            " 3   Item_Visibility            8523 non-null   float64\n",
            " 4   Item_Type                  8523 non-null   object \n",
            " 5   Item_MRP                   8523 non-null   float64\n",
            " 6   Outlet_Identifier          8523 non-null   object \n",
            " 7   Outlet_Establishment_Year  8523 non-null   int64  \n",
            " 8   Outlet_Size                6113 non-null   object \n",
            " 9   Outlet_Location_Type       8523 non-null   object \n",
            " 10  Outlet_Type                8523 non-null   object \n",
            " 11  Item_Outlet_Sales          8523 non-null   float64\n",
            "dtypes: float64(4), int64(1), object(7)\n",
            "memory usage: 799.2+ KB\n"
          ]
        }
      ],
      "source": [
        "ml_df.info()"
      ]
    },
    {
      "cell_type": "code",
      "execution_count": null,
      "metadata": {
        "colab": {
          "base_uri": "https://localhost:8080/"
        },
        "id": "1bjylHrIExdW",
        "outputId": "5d103867-0ec8-461a-9db4-7b7b03a7bb83"
      },
      "outputs": [
        {
          "output_type": "execute_result",
          "data": {
            "text/plain": [
              "0"
            ]
          },
          "metadata": {},
          "execution_count": 146
        }
      ],
      "source": [
        "ml_df.duplicated().sum()"
      ]
    },
    {
      "cell_type": "code",
      "execution_count": null,
      "metadata": {
        "colab": {
          "base_uri": "https://localhost:8080/"
        },
        "id": "2RPLykGkE1ui",
        "outputId": "58bca5d2-bf87-4d05-e4bb-de95e6d876b9"
      },
      "outputs": [
        {
          "output_type": "execute_result",
          "data": {
            "text/plain": [
              "array(['Low Fat', 'Regular', 'low fat', 'LF', 'reg'], dtype=object)"
            ]
          },
          "metadata": {},
          "execution_count": 147
        }
      ],
      "source": [
        "ml_df['Item_Fat_Content'].unique()"
      ]
    },
    {
      "cell_type": "code",
      "execution_count": null,
      "metadata": {
        "id": "K-pUnhnvFbyy"
      },
      "outputs": [],
      "source": [
        "ml_df['Item_Fat_Content'].replace({'Low Fat':0, 'low fat':0,'LF':0,'Regular':1,'reg':1},inplace=True)"
      ]
    },
    {
      "cell_type": "code",
      "execution_count": null,
      "metadata": {
        "colab": {
          "base_uri": "https://localhost:8080/"
        },
        "id": "Mw-HWIIBFx8l",
        "outputId": "e152c743-1ace-4e86-ff66-550c07f4121f"
      },
      "outputs": [
        {
          "output_type": "execute_result",
          "data": {
            "text/plain": [
              "array(['Medium', nan, 'High', 'Small'], dtype=object)"
            ]
          },
          "metadata": {},
          "execution_count": 149
        }
      ],
      "source": [
        "ml_df['Outlet_Size'].unique()"
      ]
    },
    {
      "cell_type": "code",
      "execution_count": null,
      "metadata": {
        "id": "GkDa_KFIGHh1"
      },
      "outputs": [],
      "source": [
        "ml_df['Outlet_Size'].replace({'Small':0,'Medium':1,'High':2},inplace=True)"
      ]
    },
    {
      "cell_type": "code",
      "execution_count": null,
      "metadata": {
        "colab": {
          "base_uri": "https://localhost:8080/"
        },
        "id": "D0AbRfoEGSuU",
        "outputId": "30033b3c-44b8-42ef-9682-4677413e497b"
      },
      "outputs": [
        {
          "output_type": "stream",
          "name": "stdout",
          "text": [
            "<class 'pandas.core.frame.DataFrame'>\n",
            "RangeIndex: 8523 entries, 0 to 8522\n",
            "Data columns (total 12 columns):\n",
            " #   Column                     Non-Null Count  Dtype  \n",
            "---  ------                     --------------  -----  \n",
            " 0   Item_Identifier            8523 non-null   object \n",
            " 1   Item_Weight                7060 non-null   float64\n",
            " 2   Item_Fat_Content           8523 non-null   int64  \n",
            " 3   Item_Visibility            8523 non-null   float64\n",
            " 4   Item_Type                  8523 non-null   object \n",
            " 5   Item_MRP                   8523 non-null   float64\n",
            " 6   Outlet_Identifier          8523 non-null   object \n",
            " 7   Outlet_Establishment_Year  8523 non-null   int64  \n",
            " 8   Outlet_Size                6113 non-null   float64\n",
            " 9   Outlet_Location_Type       8523 non-null   object \n",
            " 10  Outlet_Type                8523 non-null   object \n",
            " 11  Item_Outlet_Sales          8523 non-null   float64\n",
            "dtypes: float64(5), int64(2), object(5)\n",
            "memory usage: 799.2+ KB\n"
          ]
        }
      ],
      "source": [
        "ml_df.info()"
      ]
    },
    {
      "cell_type": "code",
      "execution_count": null,
      "metadata": {
        "colab": {
          "base_uri": "https://localhost:8080/"
        },
        "id": "nI_bZ3MAwURD",
        "outputId": "b5db7942-f484-4769-a6c1-df496dd85f42"
      },
      "outputs": [
        {
          "output_type": "execute_result",
          "data": {
            "text/plain": [
              "Item_Identifier                 0\n",
              "Item_Weight                  1463\n",
              "Item_Fat_Content                0\n",
              "Item_Visibility                 0\n",
              "Item_Type                       0\n",
              "Item_MRP                        0\n",
              "Outlet_Identifier               0\n",
              "Outlet_Establishment_Year       0\n",
              "Outlet_Size                  2410\n",
              "Outlet_Location_Type            0\n",
              "Outlet_Type                     0\n",
              "Item_Outlet_Sales               0\n",
              "dtype: int64"
            ]
          },
          "metadata": {},
          "execution_count": 152
        }
      ],
      "source": [
        "ml_df.isna().sum()"
      ]
    },
    {
      "cell_type": "code",
      "execution_count": null,
      "metadata": {
        "colab": {
          "base_uri": "https://localhost:8080/",
          "height": 300
        },
        "id": "uUvwXIfxGVSS",
        "outputId": "05909b0e-f19e-47d1-833e-af4148e7f677"
      },
      "outputs": [
        {
          "output_type": "execute_result",
          "data": {
            "text/plain": [
              "       Item_Weight  Item_Fat_Content  Item_Visibility     Item_MRP  \\\n",
              "count  7060.000000       8523.000000      8523.000000  8523.000000   \n",
              "mean     12.857645          0.352693         0.066132   140.992782   \n",
              "std       4.643456          0.477836         0.051598    62.275067   \n",
              "min       4.555000          0.000000         0.000000    31.290000   \n",
              "25%       8.773750          0.000000         0.026989    93.826500   \n",
              "50%      12.600000          0.000000         0.053931   143.012800   \n",
              "75%      16.850000          1.000000         0.094585   185.643700   \n",
              "max      21.350000          1.000000         0.328391   266.888400   \n",
              "\n",
              "       Outlet_Establishment_Year  Outlet_Size  Item_Outlet_Sales  \n",
              "count                8523.000000  6113.000000        8523.000000  \n",
              "mean                 1997.831867     0.761819        2181.288914  \n",
              "std                     8.371760     0.697463        1706.499616  \n",
              "min                  1985.000000     0.000000          33.290000  \n",
              "25%                  1987.000000     0.000000         834.247400  \n",
              "50%                  1999.000000     1.000000        1794.331000  \n",
              "75%                  2004.000000     1.000000        3101.296400  \n",
              "max                  2009.000000     2.000000       13086.964800  "
            ],
            "text/html": [
              "\n",
              "  <div id=\"df-caef4088-0ca7-495f-8d77-179d9c64cf59\">\n",
              "    <div class=\"colab-df-container\">\n",
              "      <div>\n",
              "<style scoped>\n",
              "    .dataframe tbody tr th:only-of-type {\n",
              "        vertical-align: middle;\n",
              "    }\n",
              "\n",
              "    .dataframe tbody tr th {\n",
              "        vertical-align: top;\n",
              "    }\n",
              "\n",
              "    .dataframe thead th {\n",
              "        text-align: right;\n",
              "    }\n",
              "</style>\n",
              "<table border=\"1\" class=\"dataframe\">\n",
              "  <thead>\n",
              "    <tr style=\"text-align: right;\">\n",
              "      <th></th>\n",
              "      <th>Item_Weight</th>\n",
              "      <th>Item_Fat_Content</th>\n",
              "      <th>Item_Visibility</th>\n",
              "      <th>Item_MRP</th>\n",
              "      <th>Outlet_Establishment_Year</th>\n",
              "      <th>Outlet_Size</th>\n",
              "      <th>Item_Outlet_Sales</th>\n",
              "    </tr>\n",
              "  </thead>\n",
              "  <tbody>\n",
              "    <tr>\n",
              "      <th>count</th>\n",
              "      <td>7060.000000</td>\n",
              "      <td>8523.000000</td>\n",
              "      <td>8523.000000</td>\n",
              "      <td>8523.000000</td>\n",
              "      <td>8523.000000</td>\n",
              "      <td>6113.000000</td>\n",
              "      <td>8523.000000</td>\n",
              "    </tr>\n",
              "    <tr>\n",
              "      <th>mean</th>\n",
              "      <td>12.857645</td>\n",
              "      <td>0.352693</td>\n",
              "      <td>0.066132</td>\n",
              "      <td>140.992782</td>\n",
              "      <td>1997.831867</td>\n",
              "      <td>0.761819</td>\n",
              "      <td>2181.288914</td>\n",
              "    </tr>\n",
              "    <tr>\n",
              "      <th>std</th>\n",
              "      <td>4.643456</td>\n",
              "      <td>0.477836</td>\n",
              "      <td>0.051598</td>\n",
              "      <td>62.275067</td>\n",
              "      <td>8.371760</td>\n",
              "      <td>0.697463</td>\n",
              "      <td>1706.499616</td>\n",
              "    </tr>\n",
              "    <tr>\n",
              "      <th>min</th>\n",
              "      <td>4.555000</td>\n",
              "      <td>0.000000</td>\n",
              "      <td>0.000000</td>\n",
              "      <td>31.290000</td>\n",
              "      <td>1985.000000</td>\n",
              "      <td>0.000000</td>\n",
              "      <td>33.290000</td>\n",
              "    </tr>\n",
              "    <tr>\n",
              "      <th>25%</th>\n",
              "      <td>8.773750</td>\n",
              "      <td>0.000000</td>\n",
              "      <td>0.026989</td>\n",
              "      <td>93.826500</td>\n",
              "      <td>1987.000000</td>\n",
              "      <td>0.000000</td>\n",
              "      <td>834.247400</td>\n",
              "    </tr>\n",
              "    <tr>\n",
              "      <th>50%</th>\n",
              "      <td>12.600000</td>\n",
              "      <td>0.000000</td>\n",
              "      <td>0.053931</td>\n",
              "      <td>143.012800</td>\n",
              "      <td>1999.000000</td>\n",
              "      <td>1.000000</td>\n",
              "      <td>1794.331000</td>\n",
              "    </tr>\n",
              "    <tr>\n",
              "      <th>75%</th>\n",
              "      <td>16.850000</td>\n",
              "      <td>1.000000</td>\n",
              "      <td>0.094585</td>\n",
              "      <td>185.643700</td>\n",
              "      <td>2004.000000</td>\n",
              "      <td>1.000000</td>\n",
              "      <td>3101.296400</td>\n",
              "    </tr>\n",
              "    <tr>\n",
              "      <th>max</th>\n",
              "      <td>21.350000</td>\n",
              "      <td>1.000000</td>\n",
              "      <td>0.328391</td>\n",
              "      <td>266.888400</td>\n",
              "      <td>2009.000000</td>\n",
              "      <td>2.000000</td>\n",
              "      <td>13086.964800</td>\n",
              "    </tr>\n",
              "  </tbody>\n",
              "</table>\n",
              "</div>\n",
              "      <button class=\"colab-df-convert\" onclick=\"convertToInteractive('df-caef4088-0ca7-495f-8d77-179d9c64cf59')\"\n",
              "              title=\"Convert this dataframe to an interactive table.\"\n",
              "              style=\"display:none;\">\n",
              "        \n",
              "  <svg xmlns=\"http://www.w3.org/2000/svg\" height=\"24px\"viewBox=\"0 0 24 24\"\n",
              "       width=\"24px\">\n",
              "    <path d=\"M0 0h24v24H0V0z\" fill=\"none\"/>\n",
              "    <path d=\"M18.56 5.44l.94 2.06.94-2.06 2.06-.94-2.06-.94-.94-2.06-.94 2.06-2.06.94zm-11 1L8.5 8.5l.94-2.06 2.06-.94-2.06-.94L8.5 2.5l-.94 2.06-2.06.94zm10 10l.94 2.06.94-2.06 2.06-.94-2.06-.94-.94-2.06-.94 2.06-2.06.94z\"/><path d=\"M17.41 7.96l-1.37-1.37c-.4-.4-.92-.59-1.43-.59-.52 0-1.04.2-1.43.59L10.3 9.45l-7.72 7.72c-.78.78-.78 2.05 0 2.83L4 21.41c.39.39.9.59 1.41.59.51 0 1.02-.2 1.41-.59l7.78-7.78 2.81-2.81c.8-.78.8-2.07 0-2.86zM5.41 20L4 18.59l7.72-7.72 1.47 1.35L5.41 20z\"/>\n",
              "  </svg>\n",
              "      </button>\n",
              "      \n",
              "  <style>\n",
              "    .colab-df-container {\n",
              "      display:flex;\n",
              "      flex-wrap:wrap;\n",
              "      gap: 12px;\n",
              "    }\n",
              "\n",
              "    .colab-df-convert {\n",
              "      background-color: #E8F0FE;\n",
              "      border: none;\n",
              "      border-radius: 50%;\n",
              "      cursor: pointer;\n",
              "      display: none;\n",
              "      fill: #1967D2;\n",
              "      height: 32px;\n",
              "      padding: 0 0 0 0;\n",
              "      width: 32px;\n",
              "    }\n",
              "\n",
              "    .colab-df-convert:hover {\n",
              "      background-color: #E2EBFA;\n",
              "      box-shadow: 0px 1px 2px rgba(60, 64, 67, 0.3), 0px 1px 3px 1px rgba(60, 64, 67, 0.15);\n",
              "      fill: #174EA6;\n",
              "    }\n",
              "\n",
              "    [theme=dark] .colab-df-convert {\n",
              "      background-color: #3B4455;\n",
              "      fill: #D2E3FC;\n",
              "    }\n",
              "\n",
              "    [theme=dark] .colab-df-convert:hover {\n",
              "      background-color: #434B5C;\n",
              "      box-shadow: 0px 1px 3px 1px rgba(0, 0, 0, 0.15);\n",
              "      filter: drop-shadow(0px 1px 2px rgba(0, 0, 0, 0.3));\n",
              "      fill: #FFFFFF;\n",
              "    }\n",
              "  </style>\n",
              "\n",
              "      <script>\n",
              "        const buttonEl =\n",
              "          document.querySelector('#df-caef4088-0ca7-495f-8d77-179d9c64cf59 button.colab-df-convert');\n",
              "        buttonEl.style.display =\n",
              "          google.colab.kernel.accessAllowed ? 'block' : 'none';\n",
              "\n",
              "        async function convertToInteractive(key) {\n",
              "          const element = document.querySelector('#df-caef4088-0ca7-495f-8d77-179d9c64cf59');\n",
              "          const dataTable =\n",
              "            await google.colab.kernel.invokeFunction('convertToInteractive',\n",
              "                                                     [key], {});\n",
              "          if (!dataTable) return;\n",
              "\n",
              "          const docLinkHtml = 'Like what you see? Visit the ' +\n",
              "            '<a target=\"_blank\" href=https://colab.research.google.com/notebooks/data_table.ipynb>data table notebook</a>'\n",
              "            + ' to learn more about interactive tables.';\n",
              "          element.innerHTML = '';\n",
              "          dataTable['output_type'] = 'display_data';\n",
              "          await google.colab.output.renderOutput(dataTable, element);\n",
              "          const docLink = document.createElement('div');\n",
              "          docLink.innerHTML = docLinkHtml;\n",
              "          element.appendChild(docLink);\n",
              "        }\n",
              "      </script>\n",
              "    </div>\n",
              "  </div>\n",
              "  "
            ]
          },
          "metadata": {},
          "execution_count": 153
        }
      ],
      "source": [
        "ml_df.describe()"
      ]
    },
    {
      "cell_type": "markdown",
      "metadata": {
        "id": "LQxBc4r0Jlye"
      },
      "source": [
        "- Identify the features (X) and target (y): Assign the \"Item_Outlet_Sales\" column as your target and the rest of the relevant variables as your features matrix."
      ]
    },
    {
      "cell_type": "code",
      "execution_count": null,
      "metadata": {
        "id": "_YZBCqTWGuQI"
      },
      "outputs": [],
      "source": [
        "X = ml_df.drop(['Item_Identifier','Outlet_Identifier','Item_Outlet_Sales'], axis=1)\n",
        "y = ml_df['Item_Outlet_Sales']"
      ]
    },
    {
      "cell_type": "code",
      "execution_count": null,
      "metadata": {
        "colab": {
          "base_uri": "https://localhost:8080/",
          "height": 424
        },
        "id": "R3aSpLLUKRTr",
        "outputId": "9d4633b3-37da-4a17-8dea-38b9fe77ae04"
      },
      "outputs": [
        {
          "output_type": "execute_result",
          "data": {
            "text/plain": [
              "      Item_Weight  Item_Fat_Content  Item_Visibility              Item_Type  \\\n",
              "0           9.300                 0         0.016047                  Dairy   \n",
              "1           5.920                 1         0.019278            Soft Drinks   \n",
              "2          17.500                 0         0.016760                   Meat   \n",
              "3          19.200                 1         0.000000  Fruits and Vegetables   \n",
              "4           8.930                 0         0.000000              Household   \n",
              "...           ...               ...              ...                    ...   \n",
              "8518        6.865                 0         0.056783            Snack Foods   \n",
              "8519        8.380                 1         0.046982           Baking Goods   \n",
              "8520       10.600                 0         0.035186     Health and Hygiene   \n",
              "8521        7.210                 1         0.145221            Snack Foods   \n",
              "8522       14.800                 0         0.044878            Soft Drinks   \n",
              "\n",
              "      Item_MRP  Outlet_Establishment_Year  Outlet_Size Outlet_Location_Type  \\\n",
              "0     249.8092                       1999          1.0               Tier 1   \n",
              "1      48.2692                       2009          1.0               Tier 3   \n",
              "2     141.6180                       1999          1.0               Tier 1   \n",
              "3     182.0950                       1998          NaN               Tier 3   \n",
              "4      53.8614                       1987          2.0               Tier 3   \n",
              "...        ...                        ...          ...                  ...   \n",
              "8518  214.5218                       1987          2.0               Tier 3   \n",
              "8519  108.1570                       2002          NaN               Tier 2   \n",
              "8520   85.1224                       2004          0.0               Tier 2   \n",
              "8521  103.1332                       2009          1.0               Tier 3   \n",
              "8522   75.4670                       1997          0.0               Tier 1   \n",
              "\n",
              "            Outlet_Type  \n",
              "0     Supermarket Type1  \n",
              "1     Supermarket Type2  \n",
              "2     Supermarket Type1  \n",
              "3         Grocery Store  \n",
              "4     Supermarket Type1  \n",
              "...                 ...  \n",
              "8518  Supermarket Type1  \n",
              "8519  Supermarket Type1  \n",
              "8520  Supermarket Type1  \n",
              "8521  Supermarket Type2  \n",
              "8522  Supermarket Type1  \n",
              "\n",
              "[8523 rows x 9 columns]"
            ],
            "text/html": [
              "\n",
              "  <div id=\"df-c4890067-4dec-434c-bce7-2e82e945947b\">\n",
              "    <div class=\"colab-df-container\">\n",
              "      <div>\n",
              "<style scoped>\n",
              "    .dataframe tbody tr th:only-of-type {\n",
              "        vertical-align: middle;\n",
              "    }\n",
              "\n",
              "    .dataframe tbody tr th {\n",
              "        vertical-align: top;\n",
              "    }\n",
              "\n",
              "    .dataframe thead th {\n",
              "        text-align: right;\n",
              "    }\n",
              "</style>\n",
              "<table border=\"1\" class=\"dataframe\">\n",
              "  <thead>\n",
              "    <tr style=\"text-align: right;\">\n",
              "      <th></th>\n",
              "      <th>Item_Weight</th>\n",
              "      <th>Item_Fat_Content</th>\n",
              "      <th>Item_Visibility</th>\n",
              "      <th>Item_Type</th>\n",
              "      <th>Item_MRP</th>\n",
              "      <th>Outlet_Establishment_Year</th>\n",
              "      <th>Outlet_Size</th>\n",
              "      <th>Outlet_Location_Type</th>\n",
              "      <th>Outlet_Type</th>\n",
              "    </tr>\n",
              "  </thead>\n",
              "  <tbody>\n",
              "    <tr>\n",
              "      <th>0</th>\n",
              "      <td>9.300</td>\n",
              "      <td>0</td>\n",
              "      <td>0.016047</td>\n",
              "      <td>Dairy</td>\n",
              "      <td>249.8092</td>\n",
              "      <td>1999</td>\n",
              "      <td>1.0</td>\n",
              "      <td>Tier 1</td>\n",
              "      <td>Supermarket Type1</td>\n",
              "    </tr>\n",
              "    <tr>\n",
              "      <th>1</th>\n",
              "      <td>5.920</td>\n",
              "      <td>1</td>\n",
              "      <td>0.019278</td>\n",
              "      <td>Soft Drinks</td>\n",
              "      <td>48.2692</td>\n",
              "      <td>2009</td>\n",
              "      <td>1.0</td>\n",
              "      <td>Tier 3</td>\n",
              "      <td>Supermarket Type2</td>\n",
              "    </tr>\n",
              "    <tr>\n",
              "      <th>2</th>\n",
              "      <td>17.500</td>\n",
              "      <td>0</td>\n",
              "      <td>0.016760</td>\n",
              "      <td>Meat</td>\n",
              "      <td>141.6180</td>\n",
              "      <td>1999</td>\n",
              "      <td>1.0</td>\n",
              "      <td>Tier 1</td>\n",
              "      <td>Supermarket Type1</td>\n",
              "    </tr>\n",
              "    <tr>\n",
              "      <th>3</th>\n",
              "      <td>19.200</td>\n",
              "      <td>1</td>\n",
              "      <td>0.000000</td>\n",
              "      <td>Fruits and Vegetables</td>\n",
              "      <td>182.0950</td>\n",
              "      <td>1998</td>\n",
              "      <td>NaN</td>\n",
              "      <td>Tier 3</td>\n",
              "      <td>Grocery Store</td>\n",
              "    </tr>\n",
              "    <tr>\n",
              "      <th>4</th>\n",
              "      <td>8.930</td>\n",
              "      <td>0</td>\n",
              "      <td>0.000000</td>\n",
              "      <td>Household</td>\n",
              "      <td>53.8614</td>\n",
              "      <td>1987</td>\n",
              "      <td>2.0</td>\n",
              "      <td>Tier 3</td>\n",
              "      <td>Supermarket Type1</td>\n",
              "    </tr>\n",
              "    <tr>\n",
              "      <th>...</th>\n",
              "      <td>...</td>\n",
              "      <td>...</td>\n",
              "      <td>...</td>\n",
              "      <td>...</td>\n",
              "      <td>...</td>\n",
              "      <td>...</td>\n",
              "      <td>...</td>\n",
              "      <td>...</td>\n",
              "      <td>...</td>\n",
              "    </tr>\n",
              "    <tr>\n",
              "      <th>8518</th>\n",
              "      <td>6.865</td>\n",
              "      <td>0</td>\n",
              "      <td>0.056783</td>\n",
              "      <td>Snack Foods</td>\n",
              "      <td>214.5218</td>\n",
              "      <td>1987</td>\n",
              "      <td>2.0</td>\n",
              "      <td>Tier 3</td>\n",
              "      <td>Supermarket Type1</td>\n",
              "    </tr>\n",
              "    <tr>\n",
              "      <th>8519</th>\n",
              "      <td>8.380</td>\n",
              "      <td>1</td>\n",
              "      <td>0.046982</td>\n",
              "      <td>Baking Goods</td>\n",
              "      <td>108.1570</td>\n",
              "      <td>2002</td>\n",
              "      <td>NaN</td>\n",
              "      <td>Tier 2</td>\n",
              "      <td>Supermarket Type1</td>\n",
              "    </tr>\n",
              "    <tr>\n",
              "      <th>8520</th>\n",
              "      <td>10.600</td>\n",
              "      <td>0</td>\n",
              "      <td>0.035186</td>\n",
              "      <td>Health and Hygiene</td>\n",
              "      <td>85.1224</td>\n",
              "      <td>2004</td>\n",
              "      <td>0.0</td>\n",
              "      <td>Tier 2</td>\n",
              "      <td>Supermarket Type1</td>\n",
              "    </tr>\n",
              "    <tr>\n",
              "      <th>8521</th>\n",
              "      <td>7.210</td>\n",
              "      <td>1</td>\n",
              "      <td>0.145221</td>\n",
              "      <td>Snack Foods</td>\n",
              "      <td>103.1332</td>\n",
              "      <td>2009</td>\n",
              "      <td>1.0</td>\n",
              "      <td>Tier 3</td>\n",
              "      <td>Supermarket Type2</td>\n",
              "    </tr>\n",
              "    <tr>\n",
              "      <th>8522</th>\n",
              "      <td>14.800</td>\n",
              "      <td>0</td>\n",
              "      <td>0.044878</td>\n",
              "      <td>Soft Drinks</td>\n",
              "      <td>75.4670</td>\n",
              "      <td>1997</td>\n",
              "      <td>0.0</td>\n",
              "      <td>Tier 1</td>\n",
              "      <td>Supermarket Type1</td>\n",
              "    </tr>\n",
              "  </tbody>\n",
              "</table>\n",
              "<p>8523 rows × 9 columns</p>\n",
              "</div>\n",
              "      <button class=\"colab-df-convert\" onclick=\"convertToInteractive('df-c4890067-4dec-434c-bce7-2e82e945947b')\"\n",
              "              title=\"Convert this dataframe to an interactive table.\"\n",
              "              style=\"display:none;\">\n",
              "        \n",
              "  <svg xmlns=\"http://www.w3.org/2000/svg\" height=\"24px\"viewBox=\"0 0 24 24\"\n",
              "       width=\"24px\">\n",
              "    <path d=\"M0 0h24v24H0V0z\" fill=\"none\"/>\n",
              "    <path d=\"M18.56 5.44l.94 2.06.94-2.06 2.06-.94-2.06-.94-.94-2.06-.94 2.06-2.06.94zm-11 1L8.5 8.5l.94-2.06 2.06-.94-2.06-.94L8.5 2.5l-.94 2.06-2.06.94zm10 10l.94 2.06.94-2.06 2.06-.94-2.06-.94-.94-2.06-.94 2.06-2.06.94z\"/><path d=\"M17.41 7.96l-1.37-1.37c-.4-.4-.92-.59-1.43-.59-.52 0-1.04.2-1.43.59L10.3 9.45l-7.72 7.72c-.78.78-.78 2.05 0 2.83L4 21.41c.39.39.9.59 1.41.59.51 0 1.02-.2 1.41-.59l7.78-7.78 2.81-2.81c.8-.78.8-2.07 0-2.86zM5.41 20L4 18.59l7.72-7.72 1.47 1.35L5.41 20z\"/>\n",
              "  </svg>\n",
              "      </button>\n",
              "      \n",
              "  <style>\n",
              "    .colab-df-container {\n",
              "      display:flex;\n",
              "      flex-wrap:wrap;\n",
              "      gap: 12px;\n",
              "    }\n",
              "\n",
              "    .colab-df-convert {\n",
              "      background-color: #E8F0FE;\n",
              "      border: none;\n",
              "      border-radius: 50%;\n",
              "      cursor: pointer;\n",
              "      display: none;\n",
              "      fill: #1967D2;\n",
              "      height: 32px;\n",
              "      padding: 0 0 0 0;\n",
              "      width: 32px;\n",
              "    }\n",
              "\n",
              "    .colab-df-convert:hover {\n",
              "      background-color: #E2EBFA;\n",
              "      box-shadow: 0px 1px 2px rgba(60, 64, 67, 0.3), 0px 1px 3px 1px rgba(60, 64, 67, 0.15);\n",
              "      fill: #174EA6;\n",
              "    }\n",
              "\n",
              "    [theme=dark] .colab-df-convert {\n",
              "      background-color: #3B4455;\n",
              "      fill: #D2E3FC;\n",
              "    }\n",
              "\n",
              "    [theme=dark] .colab-df-convert:hover {\n",
              "      background-color: #434B5C;\n",
              "      box-shadow: 0px 1px 3px 1px rgba(0, 0, 0, 0.15);\n",
              "      filter: drop-shadow(0px 1px 2px rgba(0, 0, 0, 0.3));\n",
              "      fill: #FFFFFF;\n",
              "    }\n",
              "  </style>\n",
              "\n",
              "      <script>\n",
              "        const buttonEl =\n",
              "          document.querySelector('#df-c4890067-4dec-434c-bce7-2e82e945947b button.colab-df-convert');\n",
              "        buttonEl.style.display =\n",
              "          google.colab.kernel.accessAllowed ? 'block' : 'none';\n",
              "\n",
              "        async function convertToInteractive(key) {\n",
              "          const element = document.querySelector('#df-c4890067-4dec-434c-bce7-2e82e945947b');\n",
              "          const dataTable =\n",
              "            await google.colab.kernel.invokeFunction('convertToInteractive',\n",
              "                                                     [key], {});\n",
              "          if (!dataTable) return;\n",
              "\n",
              "          const docLinkHtml = 'Like what you see? Visit the ' +\n",
              "            '<a target=\"_blank\" href=https://colab.research.google.com/notebooks/data_table.ipynb>data table notebook</a>'\n",
              "            + ' to learn more about interactive tables.';\n",
              "          element.innerHTML = '';\n",
              "          dataTable['output_type'] = 'display_data';\n",
              "          await google.colab.output.renderOutput(dataTable, element);\n",
              "          const docLink = document.createElement('div');\n",
              "          docLink.innerHTML = docLinkHtml;\n",
              "          element.appendChild(docLink);\n",
              "        }\n",
              "      </script>\n",
              "    </div>\n",
              "  </div>\n",
              "  "
            ]
          },
          "metadata": {},
          "execution_count": 155
        }
      ],
      "source": [
        "X"
      ]
    },
    {
      "cell_type": "markdown",
      "metadata": {
        "id": "ojXAtILTKvVc"
      },
      "source": [
        "- Perform a train test split"
      ]
    },
    {
      "cell_type": "code",
      "execution_count": null,
      "metadata": {
        "id": "YQMQCIlmKuqN"
      },
      "outputs": [],
      "source": [
        "X_train, X_test, y_train, y_test = train_test_split(X,y, random_state=42)"
      ]
    },
    {
      "cell_type": "code",
      "source": [
        "len(X_train)"
      ],
      "metadata": {
        "colab": {
          "base_uri": "https://localhost:8080/"
        },
        "id": "TgbFZwksbOvO",
        "outputId": "c839c0a2-b19f-4739-a1c4-d93f57d913ab"
      },
      "execution_count": 248,
      "outputs": [
        {
          "output_type": "execute_result",
          "data": {
            "text/plain": [
              "6392"
            ]
          },
          "metadata": {},
          "execution_count": 248
        }
      ]
    },
    {
      "cell_type": "code",
      "source": [
        "len(y_train)"
      ],
      "metadata": {
        "colab": {
          "base_uri": "https://localhost:8080/"
        },
        "id": "yUWrw3qybRHK",
        "outputId": "26247a3c-c0e7-4724-b801-59478a74f29f"
      },
      "execution_count": 249,
      "outputs": [
        {
          "output_type": "execute_result",
          "data": {
            "text/plain": [
              "6392"
            ]
          },
          "metadata": {},
          "execution_count": 249
        }
      ]
    },
    {
      "cell_type": "code",
      "source": [
        "len(y_test)"
      ],
      "metadata": {
        "colab": {
          "base_uri": "https://localhost:8080/"
        },
        "id": "JyIf0uYEbTAT",
        "outputId": "2c30d6da-a9ec-4ef9-c088-241c82613fb5"
      },
      "execution_count": 250,
      "outputs": [
        {
          "output_type": "execute_result",
          "data": {
            "text/plain": [
              "2131"
            ]
          },
          "metadata": {},
          "execution_count": 250
        }
      ]
    },
    {
      "cell_type": "code",
      "source": [
        "len(X_test)"
      ],
      "metadata": {
        "colab": {
          "base_uri": "https://localhost:8080/"
        },
        "id": "7B_92Rg1bVRa",
        "outputId": "d79b3ddf-4a8f-4e6d-e6de-aa22d798705c"
      },
      "execution_count": 254,
      "outputs": [
        {
          "output_type": "execute_result",
          "data": {
            "text/plain": [
              "2131"
            ]
          },
          "metadata": {},
          "execution_count": 254
        }
      ]
    },
    {
      "cell_type": "markdown",
      "metadata": {
        "id": "QFOBZtoaUuSY"
      },
      "source": [
        "# Create Preprocessing and pipeline"
      ]
    },
    {
      "cell_type": "markdown",
      "metadata": {
        "id": "8TI7_40dL1jI"
      },
      "source": [
        "- Create a preprocessing object to prepare the dataset for Machine Learning Make sure your imputation of missing values occurs after the train test split using SimpleImputer."
      ]
    },
    {
      "cell_type": "code",
      "execution_count": null,
      "metadata": {
        "id": "cn7XbLEILwmJ"
      },
      "outputs": [],
      "source": [
        "cat_selector = make_column_selector(dtype_include='object')\n",
        "num_cols = ['Item_Weight','Item_Visibility','Item_MRP','Outlet_Establishment_Year']\n",
        "ord_cols = ['Item_Fat_Content','Outlet_Size'] #item fat content, outlet_size is ordinal from above \n"
      ]
    },
    {
      "cell_type": "code",
      "execution_count": null,
      "metadata": {
        "colab": {
          "base_uri": "https://localhost:8080/"
        },
        "id": "YGGXGq7YMfPC",
        "outputId": "e29fbcd8-0a4e-4c0b-a40d-9e6e54015db7"
      },
      "outputs": [
        {
          "output_type": "stream",
          "name": "stdout",
          "text": [
            "<class 'pandas.core.frame.DataFrame'>\n",
            "RangeIndex: 8523 entries, 0 to 8522\n",
            "Data columns (total 9 columns):\n",
            " #   Column                     Non-Null Count  Dtype  \n",
            "---  ------                     --------------  -----  \n",
            " 0   Item_Weight                7060 non-null   float64\n",
            " 1   Item_Fat_Content           8523 non-null   int64  \n",
            " 2   Item_Visibility            8523 non-null   float64\n",
            " 3   Item_Type                  8523 non-null   object \n",
            " 4   Item_MRP                   8523 non-null   float64\n",
            " 5   Outlet_Establishment_Year  8523 non-null   int64  \n",
            " 6   Outlet_Size                6113 non-null   float64\n",
            " 7   Outlet_Location_Type       8523 non-null   object \n",
            " 8   Outlet_Type                8523 non-null   object \n",
            "dtypes: float64(4), int64(2), object(3)\n",
            "memory usage: 599.4+ KB\n"
          ]
        }
      ],
      "source": [
        "X.info()"
      ]
    },
    {
      "cell_type": "code",
      "execution_count": null,
      "metadata": {
        "id": "R0r0HHfzMJri"
      },
      "outputs": [],
      "source": [
        "most_frequent_imputer = SimpleImputer(strategy='most_frequent') #most frequent since I updated this to numbers earlier for Outlet_Size\n",
        "mean_imputer = SimpleImputer(strategy='mean') #for Item_Weight"
      ]
    },
    {
      "cell_type": "code",
      "execution_count": null,
      "metadata": {
        "id": "Et9QySuvMxMy"
      },
      "outputs": [],
      "source": [
        "scaler = StandardScaler()\n",
        "ohe = OneHotEncoder(handle_unknown='ignore', sparse=False)"
      ]
    },
    {
      "cell_type": "code",
      "execution_count": null,
      "metadata": {
        "colab": {
          "base_uri": "https://localhost:8080/",
          "height": 126
        },
        "id": "FUV1ixQLt2sM",
        "outputId": "08062eef-b33e-4867-b227-28131249d6a5"
      },
      "outputs": [
        {
          "output_type": "execute_result",
          "data": {
            "text/plain": [
              "Pipeline(steps=[('simpleimputer', SimpleImputer()),\n",
              "                ('standardscaler', StandardScaler())])"
            ],
            "text/html": [
              "<style>#sk-d774cbc3-676d-4203-a6fd-271a43b93009 {color: black;background-color: white;}#sk-d774cbc3-676d-4203-a6fd-271a43b93009 pre{padding: 0;}#sk-d774cbc3-676d-4203-a6fd-271a43b93009 div.sk-toggleable {background-color: white;}#sk-d774cbc3-676d-4203-a6fd-271a43b93009 label.sk-toggleable__label {cursor: pointer;display: block;width: 100%;margin-bottom: 0;padding: 0.3em;box-sizing: border-box;text-align: center;}#sk-d774cbc3-676d-4203-a6fd-271a43b93009 label.sk-toggleable__label-arrow:before {content: \"▸\";float: left;margin-right: 0.25em;color: #696969;}#sk-d774cbc3-676d-4203-a6fd-271a43b93009 label.sk-toggleable__label-arrow:hover:before {color: black;}#sk-d774cbc3-676d-4203-a6fd-271a43b93009 div.sk-estimator:hover label.sk-toggleable__label-arrow:before {color: black;}#sk-d774cbc3-676d-4203-a6fd-271a43b93009 div.sk-toggleable__content {max-height: 0;max-width: 0;overflow: hidden;text-align: left;background-color: #f0f8ff;}#sk-d774cbc3-676d-4203-a6fd-271a43b93009 div.sk-toggleable__content pre {margin: 0.2em;color: black;border-radius: 0.25em;background-color: #f0f8ff;}#sk-d774cbc3-676d-4203-a6fd-271a43b93009 input.sk-toggleable__control:checked~div.sk-toggleable__content {max-height: 200px;max-width: 100%;overflow: auto;}#sk-d774cbc3-676d-4203-a6fd-271a43b93009 input.sk-toggleable__control:checked~label.sk-toggleable__label-arrow:before {content: \"▾\";}#sk-d774cbc3-676d-4203-a6fd-271a43b93009 div.sk-estimator input.sk-toggleable__control:checked~label.sk-toggleable__label {background-color: #d4ebff;}#sk-d774cbc3-676d-4203-a6fd-271a43b93009 div.sk-label input.sk-toggleable__control:checked~label.sk-toggleable__label {background-color: #d4ebff;}#sk-d774cbc3-676d-4203-a6fd-271a43b93009 input.sk-hidden--visually {border: 0;clip: rect(1px 1px 1px 1px);clip: rect(1px, 1px, 1px, 1px);height: 1px;margin: -1px;overflow: hidden;padding: 0;position: absolute;width: 1px;}#sk-d774cbc3-676d-4203-a6fd-271a43b93009 div.sk-estimator {font-family: monospace;background-color: #f0f8ff;border: 1px dotted black;border-radius: 0.25em;box-sizing: border-box;margin-bottom: 0.5em;}#sk-d774cbc3-676d-4203-a6fd-271a43b93009 div.sk-estimator:hover {background-color: #d4ebff;}#sk-d774cbc3-676d-4203-a6fd-271a43b93009 div.sk-parallel-item::after {content: \"\";width: 100%;border-bottom: 1px solid gray;flex-grow: 1;}#sk-d774cbc3-676d-4203-a6fd-271a43b93009 div.sk-label:hover label.sk-toggleable__label {background-color: #d4ebff;}#sk-d774cbc3-676d-4203-a6fd-271a43b93009 div.sk-serial::before {content: \"\";position: absolute;border-left: 1px solid gray;box-sizing: border-box;top: 2em;bottom: 0;left: 50%;}#sk-d774cbc3-676d-4203-a6fd-271a43b93009 div.sk-serial {display: flex;flex-direction: column;align-items: center;background-color: white;padding-right: 0.2em;padding-left: 0.2em;}#sk-d774cbc3-676d-4203-a6fd-271a43b93009 div.sk-item {z-index: 1;}#sk-d774cbc3-676d-4203-a6fd-271a43b93009 div.sk-parallel {display: flex;align-items: stretch;justify-content: center;background-color: white;}#sk-d774cbc3-676d-4203-a6fd-271a43b93009 div.sk-parallel::before {content: \"\";position: absolute;border-left: 1px solid gray;box-sizing: border-box;top: 2em;bottom: 0;left: 50%;}#sk-d774cbc3-676d-4203-a6fd-271a43b93009 div.sk-parallel-item {display: flex;flex-direction: column;position: relative;background-color: white;}#sk-d774cbc3-676d-4203-a6fd-271a43b93009 div.sk-parallel-item:first-child::after {align-self: flex-end;width: 50%;}#sk-d774cbc3-676d-4203-a6fd-271a43b93009 div.sk-parallel-item:last-child::after {align-self: flex-start;width: 50%;}#sk-d774cbc3-676d-4203-a6fd-271a43b93009 div.sk-parallel-item:only-child::after {width: 0;}#sk-d774cbc3-676d-4203-a6fd-271a43b93009 div.sk-dashed-wrapped {border: 1px dashed gray;margin: 0 0.4em 0.5em 0.4em;box-sizing: border-box;padding-bottom: 0.4em;background-color: white;position: relative;}#sk-d774cbc3-676d-4203-a6fd-271a43b93009 div.sk-label label {font-family: monospace;font-weight: bold;background-color: white;display: inline-block;line-height: 1.2em;}#sk-d774cbc3-676d-4203-a6fd-271a43b93009 div.sk-label-container {position: relative;z-index: 2;text-align: center;}#sk-d774cbc3-676d-4203-a6fd-271a43b93009 div.sk-container {/* jupyter's `normalize.less` sets `[hidden] { display: none; }` but bootstrap.min.css set `[hidden] { display: none !important; }` so we also need the `!important` here to be able to override the default hidden behavior on the sphinx rendered scikit-learn.org. See: https://github.com/scikit-learn/scikit-learn/issues/21755 */display: inline-block !important;position: relative;}#sk-d774cbc3-676d-4203-a6fd-271a43b93009 div.sk-text-repr-fallback {display: none;}</style><div id=\"sk-d774cbc3-676d-4203-a6fd-271a43b93009\" class=\"sk-top-container\"><div class=\"sk-text-repr-fallback\"><pre>Pipeline(steps=[(&#x27;simpleimputer&#x27;, SimpleImputer()),\n",
              "                (&#x27;standardscaler&#x27;, StandardScaler())])</pre><b>Please rerun this cell to show the HTML repr or trust the notebook.</b></div><div class=\"sk-container\" hidden><div class=\"sk-item sk-dashed-wrapped\"><div class=\"sk-label-container\"><div class=\"sk-label sk-toggleable\"><input class=\"sk-toggleable__control sk-hidden--visually\" id=\"e47d8214-d215-48de-81fd-5d17f6408cf6\" type=\"checkbox\" ><label for=\"e47d8214-d215-48de-81fd-5d17f6408cf6\" class=\"sk-toggleable__label sk-toggleable__label-arrow\">Pipeline</label><div class=\"sk-toggleable__content\"><pre>Pipeline(steps=[(&#x27;simpleimputer&#x27;, SimpleImputer()),\n",
              "                (&#x27;standardscaler&#x27;, StandardScaler())])</pre></div></div></div><div class=\"sk-serial\"><div class=\"sk-item\"><div class=\"sk-estimator sk-toggleable\"><input class=\"sk-toggleable__control sk-hidden--visually\" id=\"51010c41-505a-4e87-ab14-b062c31bee96\" type=\"checkbox\" ><label for=\"51010c41-505a-4e87-ab14-b062c31bee96\" class=\"sk-toggleable__label sk-toggleable__label-arrow\">SimpleImputer</label><div class=\"sk-toggleable__content\"><pre>SimpleImputer()</pre></div></div></div><div class=\"sk-item\"><div class=\"sk-estimator sk-toggleable\"><input class=\"sk-toggleable__control sk-hidden--visually\" id=\"3e9fc268-a96a-4b2a-a0ad-4f16ed96f124\" type=\"checkbox\" ><label for=\"3e9fc268-a96a-4b2a-a0ad-4f16ed96f124\" class=\"sk-toggleable__label sk-toggleable__label-arrow\">StandardScaler</label><div class=\"sk-toggleable__content\"><pre>StandardScaler()</pre></div></div></div></div></div></div></div>"
            ]
          },
          "metadata": {},
          "execution_count": 177
        }
      ],
      "source": [
        "num_pipe = make_pipeline(mean_imputer,scaler)\n",
        "num_pipe"
      ]
    },
    {
      "cell_type": "code",
      "execution_count": null,
      "metadata": {
        "colab": {
          "base_uri": "https://localhost:8080/",
          "height": 92
        },
        "id": "ohMOXKgSugLP",
        "outputId": "8654e8d9-09d2-40ba-fd8f-52cd16a16394"
      },
      "outputs": [
        {
          "output_type": "execute_result",
          "data": {
            "text/plain": [
              "Pipeline(steps=[('onehotencoder',\n",
              "                 OneHotEncoder(handle_unknown='ignore', sparse=False))])"
            ],
            "text/html": [
              "<style>#sk-ab6301f9-ccf6-4296-9b63-9a31ae22d4e1 {color: black;background-color: white;}#sk-ab6301f9-ccf6-4296-9b63-9a31ae22d4e1 pre{padding: 0;}#sk-ab6301f9-ccf6-4296-9b63-9a31ae22d4e1 div.sk-toggleable {background-color: white;}#sk-ab6301f9-ccf6-4296-9b63-9a31ae22d4e1 label.sk-toggleable__label {cursor: pointer;display: block;width: 100%;margin-bottom: 0;padding: 0.3em;box-sizing: border-box;text-align: center;}#sk-ab6301f9-ccf6-4296-9b63-9a31ae22d4e1 label.sk-toggleable__label-arrow:before {content: \"▸\";float: left;margin-right: 0.25em;color: #696969;}#sk-ab6301f9-ccf6-4296-9b63-9a31ae22d4e1 label.sk-toggleable__label-arrow:hover:before {color: black;}#sk-ab6301f9-ccf6-4296-9b63-9a31ae22d4e1 div.sk-estimator:hover label.sk-toggleable__label-arrow:before {color: black;}#sk-ab6301f9-ccf6-4296-9b63-9a31ae22d4e1 div.sk-toggleable__content {max-height: 0;max-width: 0;overflow: hidden;text-align: left;background-color: #f0f8ff;}#sk-ab6301f9-ccf6-4296-9b63-9a31ae22d4e1 div.sk-toggleable__content pre {margin: 0.2em;color: black;border-radius: 0.25em;background-color: #f0f8ff;}#sk-ab6301f9-ccf6-4296-9b63-9a31ae22d4e1 input.sk-toggleable__control:checked~div.sk-toggleable__content {max-height: 200px;max-width: 100%;overflow: auto;}#sk-ab6301f9-ccf6-4296-9b63-9a31ae22d4e1 input.sk-toggleable__control:checked~label.sk-toggleable__label-arrow:before {content: \"▾\";}#sk-ab6301f9-ccf6-4296-9b63-9a31ae22d4e1 div.sk-estimator input.sk-toggleable__control:checked~label.sk-toggleable__label {background-color: #d4ebff;}#sk-ab6301f9-ccf6-4296-9b63-9a31ae22d4e1 div.sk-label input.sk-toggleable__control:checked~label.sk-toggleable__label {background-color: #d4ebff;}#sk-ab6301f9-ccf6-4296-9b63-9a31ae22d4e1 input.sk-hidden--visually {border: 0;clip: rect(1px 1px 1px 1px);clip: rect(1px, 1px, 1px, 1px);height: 1px;margin: -1px;overflow: hidden;padding: 0;position: absolute;width: 1px;}#sk-ab6301f9-ccf6-4296-9b63-9a31ae22d4e1 div.sk-estimator {font-family: monospace;background-color: #f0f8ff;border: 1px dotted black;border-radius: 0.25em;box-sizing: border-box;margin-bottom: 0.5em;}#sk-ab6301f9-ccf6-4296-9b63-9a31ae22d4e1 div.sk-estimator:hover {background-color: #d4ebff;}#sk-ab6301f9-ccf6-4296-9b63-9a31ae22d4e1 div.sk-parallel-item::after {content: \"\";width: 100%;border-bottom: 1px solid gray;flex-grow: 1;}#sk-ab6301f9-ccf6-4296-9b63-9a31ae22d4e1 div.sk-label:hover label.sk-toggleable__label {background-color: #d4ebff;}#sk-ab6301f9-ccf6-4296-9b63-9a31ae22d4e1 div.sk-serial::before {content: \"\";position: absolute;border-left: 1px solid gray;box-sizing: border-box;top: 2em;bottom: 0;left: 50%;}#sk-ab6301f9-ccf6-4296-9b63-9a31ae22d4e1 div.sk-serial {display: flex;flex-direction: column;align-items: center;background-color: white;padding-right: 0.2em;padding-left: 0.2em;}#sk-ab6301f9-ccf6-4296-9b63-9a31ae22d4e1 div.sk-item {z-index: 1;}#sk-ab6301f9-ccf6-4296-9b63-9a31ae22d4e1 div.sk-parallel {display: flex;align-items: stretch;justify-content: center;background-color: white;}#sk-ab6301f9-ccf6-4296-9b63-9a31ae22d4e1 div.sk-parallel::before {content: \"\";position: absolute;border-left: 1px solid gray;box-sizing: border-box;top: 2em;bottom: 0;left: 50%;}#sk-ab6301f9-ccf6-4296-9b63-9a31ae22d4e1 div.sk-parallel-item {display: flex;flex-direction: column;position: relative;background-color: white;}#sk-ab6301f9-ccf6-4296-9b63-9a31ae22d4e1 div.sk-parallel-item:first-child::after {align-self: flex-end;width: 50%;}#sk-ab6301f9-ccf6-4296-9b63-9a31ae22d4e1 div.sk-parallel-item:last-child::after {align-self: flex-start;width: 50%;}#sk-ab6301f9-ccf6-4296-9b63-9a31ae22d4e1 div.sk-parallel-item:only-child::after {width: 0;}#sk-ab6301f9-ccf6-4296-9b63-9a31ae22d4e1 div.sk-dashed-wrapped {border: 1px dashed gray;margin: 0 0.4em 0.5em 0.4em;box-sizing: border-box;padding-bottom: 0.4em;background-color: white;position: relative;}#sk-ab6301f9-ccf6-4296-9b63-9a31ae22d4e1 div.sk-label label {font-family: monospace;font-weight: bold;background-color: white;display: inline-block;line-height: 1.2em;}#sk-ab6301f9-ccf6-4296-9b63-9a31ae22d4e1 div.sk-label-container {position: relative;z-index: 2;text-align: center;}#sk-ab6301f9-ccf6-4296-9b63-9a31ae22d4e1 div.sk-container {/* jupyter's `normalize.less` sets `[hidden] { display: none; }` but bootstrap.min.css set `[hidden] { display: none !important; }` so we also need the `!important` here to be able to override the default hidden behavior on the sphinx rendered scikit-learn.org. See: https://github.com/scikit-learn/scikit-learn/issues/21755 */display: inline-block !important;position: relative;}#sk-ab6301f9-ccf6-4296-9b63-9a31ae22d4e1 div.sk-text-repr-fallback {display: none;}</style><div id=\"sk-ab6301f9-ccf6-4296-9b63-9a31ae22d4e1\" class=\"sk-top-container\"><div class=\"sk-text-repr-fallback\"><pre>Pipeline(steps=[(&#x27;onehotencoder&#x27;,\n",
              "                 OneHotEncoder(handle_unknown=&#x27;ignore&#x27;, sparse=False))])</pre><b>Please rerun this cell to show the HTML repr or trust the notebook.</b></div><div class=\"sk-container\" hidden><div class=\"sk-item sk-dashed-wrapped\"><div class=\"sk-label-container\"><div class=\"sk-label sk-toggleable\"><input class=\"sk-toggleable__control sk-hidden--visually\" id=\"a0bab029-387f-42ec-8386-f78be284704f\" type=\"checkbox\" ><label for=\"a0bab029-387f-42ec-8386-f78be284704f\" class=\"sk-toggleable__label sk-toggleable__label-arrow\">Pipeline</label><div class=\"sk-toggleable__content\"><pre>Pipeline(steps=[(&#x27;onehotencoder&#x27;,\n",
              "                 OneHotEncoder(handle_unknown=&#x27;ignore&#x27;, sparse=False))])</pre></div></div></div><div class=\"sk-serial\"><div class=\"sk-item\"><div class=\"sk-estimator sk-toggleable\"><input class=\"sk-toggleable__control sk-hidden--visually\" id=\"2ebe6e56-434f-4cd2-8881-48fc58d16c81\" type=\"checkbox\" ><label for=\"2ebe6e56-434f-4cd2-8881-48fc58d16c81\" class=\"sk-toggleable__label sk-toggleable__label-arrow\">OneHotEncoder</label><div class=\"sk-toggleable__content\"><pre>OneHotEncoder(handle_unknown=&#x27;ignore&#x27;, sparse=False)</pre></div></div></div></div></div></div></div>"
            ]
          },
          "metadata": {},
          "execution_count": 178
        }
      ],
      "source": [
        "cat_pipe = make_pipeline(ohe)\n",
        "cat_pipe"
      ]
    },
    {
      "cell_type": "code",
      "execution_count": null,
      "metadata": {
        "colab": {
          "base_uri": "https://localhost:8080/",
          "height": 126
        },
        "id": "na3w5_dhyTVn",
        "outputId": "8acae134-854f-42f3-a9f5-5c03dcdd32d2"
      },
      "outputs": [
        {
          "output_type": "execute_result",
          "data": {
            "text/plain": [
              "Pipeline(steps=[('simpleimputer', SimpleImputer(strategy='most_frequent')),\n",
              "                ('standardscaler', StandardScaler())])"
            ],
            "text/html": [
              "<style>#sk-f67ef2cc-e3a7-48b0-9515-35f38d36be66 {color: black;background-color: white;}#sk-f67ef2cc-e3a7-48b0-9515-35f38d36be66 pre{padding: 0;}#sk-f67ef2cc-e3a7-48b0-9515-35f38d36be66 div.sk-toggleable {background-color: white;}#sk-f67ef2cc-e3a7-48b0-9515-35f38d36be66 label.sk-toggleable__label {cursor: pointer;display: block;width: 100%;margin-bottom: 0;padding: 0.3em;box-sizing: border-box;text-align: center;}#sk-f67ef2cc-e3a7-48b0-9515-35f38d36be66 label.sk-toggleable__label-arrow:before {content: \"▸\";float: left;margin-right: 0.25em;color: #696969;}#sk-f67ef2cc-e3a7-48b0-9515-35f38d36be66 label.sk-toggleable__label-arrow:hover:before {color: black;}#sk-f67ef2cc-e3a7-48b0-9515-35f38d36be66 div.sk-estimator:hover label.sk-toggleable__label-arrow:before {color: black;}#sk-f67ef2cc-e3a7-48b0-9515-35f38d36be66 div.sk-toggleable__content {max-height: 0;max-width: 0;overflow: hidden;text-align: left;background-color: #f0f8ff;}#sk-f67ef2cc-e3a7-48b0-9515-35f38d36be66 div.sk-toggleable__content pre {margin: 0.2em;color: black;border-radius: 0.25em;background-color: #f0f8ff;}#sk-f67ef2cc-e3a7-48b0-9515-35f38d36be66 input.sk-toggleable__control:checked~div.sk-toggleable__content {max-height: 200px;max-width: 100%;overflow: auto;}#sk-f67ef2cc-e3a7-48b0-9515-35f38d36be66 input.sk-toggleable__control:checked~label.sk-toggleable__label-arrow:before {content: \"▾\";}#sk-f67ef2cc-e3a7-48b0-9515-35f38d36be66 div.sk-estimator input.sk-toggleable__control:checked~label.sk-toggleable__label {background-color: #d4ebff;}#sk-f67ef2cc-e3a7-48b0-9515-35f38d36be66 div.sk-label input.sk-toggleable__control:checked~label.sk-toggleable__label {background-color: #d4ebff;}#sk-f67ef2cc-e3a7-48b0-9515-35f38d36be66 input.sk-hidden--visually {border: 0;clip: rect(1px 1px 1px 1px);clip: rect(1px, 1px, 1px, 1px);height: 1px;margin: -1px;overflow: hidden;padding: 0;position: absolute;width: 1px;}#sk-f67ef2cc-e3a7-48b0-9515-35f38d36be66 div.sk-estimator {font-family: monospace;background-color: #f0f8ff;border: 1px dotted black;border-radius: 0.25em;box-sizing: border-box;margin-bottom: 0.5em;}#sk-f67ef2cc-e3a7-48b0-9515-35f38d36be66 div.sk-estimator:hover {background-color: #d4ebff;}#sk-f67ef2cc-e3a7-48b0-9515-35f38d36be66 div.sk-parallel-item::after {content: \"\";width: 100%;border-bottom: 1px solid gray;flex-grow: 1;}#sk-f67ef2cc-e3a7-48b0-9515-35f38d36be66 div.sk-label:hover label.sk-toggleable__label {background-color: #d4ebff;}#sk-f67ef2cc-e3a7-48b0-9515-35f38d36be66 div.sk-serial::before {content: \"\";position: absolute;border-left: 1px solid gray;box-sizing: border-box;top: 2em;bottom: 0;left: 50%;}#sk-f67ef2cc-e3a7-48b0-9515-35f38d36be66 div.sk-serial {display: flex;flex-direction: column;align-items: center;background-color: white;padding-right: 0.2em;padding-left: 0.2em;}#sk-f67ef2cc-e3a7-48b0-9515-35f38d36be66 div.sk-item {z-index: 1;}#sk-f67ef2cc-e3a7-48b0-9515-35f38d36be66 div.sk-parallel {display: flex;align-items: stretch;justify-content: center;background-color: white;}#sk-f67ef2cc-e3a7-48b0-9515-35f38d36be66 div.sk-parallel::before {content: \"\";position: absolute;border-left: 1px solid gray;box-sizing: border-box;top: 2em;bottom: 0;left: 50%;}#sk-f67ef2cc-e3a7-48b0-9515-35f38d36be66 div.sk-parallel-item {display: flex;flex-direction: column;position: relative;background-color: white;}#sk-f67ef2cc-e3a7-48b0-9515-35f38d36be66 div.sk-parallel-item:first-child::after {align-self: flex-end;width: 50%;}#sk-f67ef2cc-e3a7-48b0-9515-35f38d36be66 div.sk-parallel-item:last-child::after {align-self: flex-start;width: 50%;}#sk-f67ef2cc-e3a7-48b0-9515-35f38d36be66 div.sk-parallel-item:only-child::after {width: 0;}#sk-f67ef2cc-e3a7-48b0-9515-35f38d36be66 div.sk-dashed-wrapped {border: 1px dashed gray;margin: 0 0.4em 0.5em 0.4em;box-sizing: border-box;padding-bottom: 0.4em;background-color: white;position: relative;}#sk-f67ef2cc-e3a7-48b0-9515-35f38d36be66 div.sk-label label {font-family: monospace;font-weight: bold;background-color: white;display: inline-block;line-height: 1.2em;}#sk-f67ef2cc-e3a7-48b0-9515-35f38d36be66 div.sk-label-container {position: relative;z-index: 2;text-align: center;}#sk-f67ef2cc-e3a7-48b0-9515-35f38d36be66 div.sk-container {/* jupyter's `normalize.less` sets `[hidden] { display: none; }` but bootstrap.min.css set `[hidden] { display: none !important; }` so we also need the `!important` here to be able to override the default hidden behavior on the sphinx rendered scikit-learn.org. See: https://github.com/scikit-learn/scikit-learn/issues/21755 */display: inline-block !important;position: relative;}#sk-f67ef2cc-e3a7-48b0-9515-35f38d36be66 div.sk-text-repr-fallback {display: none;}</style><div id=\"sk-f67ef2cc-e3a7-48b0-9515-35f38d36be66\" class=\"sk-top-container\"><div class=\"sk-text-repr-fallback\"><pre>Pipeline(steps=[(&#x27;simpleimputer&#x27;, SimpleImputer(strategy=&#x27;most_frequent&#x27;)),\n",
              "                (&#x27;standardscaler&#x27;, StandardScaler())])</pre><b>Please rerun this cell to show the HTML repr or trust the notebook.</b></div><div class=\"sk-container\" hidden><div class=\"sk-item sk-dashed-wrapped\"><div class=\"sk-label-container\"><div class=\"sk-label sk-toggleable\"><input class=\"sk-toggleable__control sk-hidden--visually\" id=\"ae179ad5-46e5-4819-85bd-ce0ae22db813\" type=\"checkbox\" ><label for=\"ae179ad5-46e5-4819-85bd-ce0ae22db813\" class=\"sk-toggleable__label sk-toggleable__label-arrow\">Pipeline</label><div class=\"sk-toggleable__content\"><pre>Pipeline(steps=[(&#x27;simpleimputer&#x27;, SimpleImputer(strategy=&#x27;most_frequent&#x27;)),\n",
              "                (&#x27;standardscaler&#x27;, StandardScaler())])</pre></div></div></div><div class=\"sk-serial\"><div class=\"sk-item\"><div class=\"sk-estimator sk-toggleable\"><input class=\"sk-toggleable__control sk-hidden--visually\" id=\"a210443c-8af1-4d6b-9352-1c24b6374ee3\" type=\"checkbox\" ><label for=\"a210443c-8af1-4d6b-9352-1c24b6374ee3\" class=\"sk-toggleable__label sk-toggleable__label-arrow\">SimpleImputer</label><div class=\"sk-toggleable__content\"><pre>SimpleImputer(strategy=&#x27;most_frequent&#x27;)</pre></div></div></div><div class=\"sk-item\"><div class=\"sk-estimator sk-toggleable\"><input class=\"sk-toggleable__control sk-hidden--visually\" id=\"3caffc88-1632-4968-9e41-d6149fdc4336\" type=\"checkbox\" ><label for=\"3caffc88-1632-4968-9e41-d6149fdc4336\" class=\"sk-toggleable__label sk-toggleable__label-arrow\">StandardScaler</label><div class=\"sk-toggleable__content\"><pre>StandardScaler()</pre></div></div></div></div></div></div></div>"
            ]
          },
          "metadata": {},
          "execution_count": 179
        }
      ],
      "source": [
        "ord_pipe = make_pipeline(most_frequent_imputer,scaler) #made this extra pipeline due to updates from above and I wanted to have a mean average for Item Weight\n",
        "ord_pipe"
      ]
    },
    {
      "cell_type": "code",
      "execution_count": null,
      "metadata": {
        "id": "RodHc5X0yaX_"
      },
      "outputs": [],
      "source": [
        "num_tuple = (num_pipe, num_cols)\n",
        "cat_tuple = (cat_pipe, cat_selector)\n",
        "ord_tuple = (ord_pipe, ord_cols)"
      ]
    },
    {
      "cell_type": "code",
      "execution_count": null,
      "metadata": {
        "colab": {
          "base_uri": "https://localhost:8080/",
          "height": 152
        },
        "id": "2MusBopFzTnR",
        "outputId": "f3c6d8e8-8df1-4b83-88ee-1ec176c6a273"
      },
      "outputs": [
        {
          "output_type": "execute_result",
          "data": {
            "text/plain": [
              "ColumnTransformer(transformers=[('pipeline-1',\n",
              "                                 Pipeline(steps=[('simpleimputer',\n",
              "                                                  SimpleImputer()),\n",
              "                                                 ('standardscaler',\n",
              "                                                  StandardScaler())]),\n",
              "                                 ['Item_Weight', 'Item_Visibility', 'Item_MRP',\n",
              "                                  'Outlet_Establishment_Year']),\n",
              "                                ('pipeline-2',\n",
              "                                 Pipeline(steps=[('onehotencoder',\n",
              "                                                  OneHotEncoder(handle_unknown='ignore',\n",
              "                                                                sparse=False))]),\n",
              "                                 <sklearn.compose._column_transformer.make_column_selector object at 0x7f73bdf10e50>),\n",
              "                                ('pipeline-3',\n",
              "                                 Pipeline(steps=[('simpleimputer',\n",
              "                                                  SimpleImputer(strategy='most_frequent')),\n",
              "                                                 ('standardscaler',\n",
              "                                                  StandardScaler())]),\n",
              "                                 ['Item_Fat_Content', 'Outlet_Size'])])"
            ],
            "text/html": [
              "<style>#sk-6e9ce8b6-abd8-487f-a7ff-968070761bf4 {color: black;background-color: white;}#sk-6e9ce8b6-abd8-487f-a7ff-968070761bf4 pre{padding: 0;}#sk-6e9ce8b6-abd8-487f-a7ff-968070761bf4 div.sk-toggleable {background-color: white;}#sk-6e9ce8b6-abd8-487f-a7ff-968070761bf4 label.sk-toggleable__label {cursor: pointer;display: block;width: 100%;margin-bottom: 0;padding: 0.3em;box-sizing: border-box;text-align: center;}#sk-6e9ce8b6-abd8-487f-a7ff-968070761bf4 label.sk-toggleable__label-arrow:before {content: \"▸\";float: left;margin-right: 0.25em;color: #696969;}#sk-6e9ce8b6-abd8-487f-a7ff-968070761bf4 label.sk-toggleable__label-arrow:hover:before {color: black;}#sk-6e9ce8b6-abd8-487f-a7ff-968070761bf4 div.sk-estimator:hover label.sk-toggleable__label-arrow:before {color: black;}#sk-6e9ce8b6-abd8-487f-a7ff-968070761bf4 div.sk-toggleable__content {max-height: 0;max-width: 0;overflow: hidden;text-align: left;background-color: #f0f8ff;}#sk-6e9ce8b6-abd8-487f-a7ff-968070761bf4 div.sk-toggleable__content pre {margin: 0.2em;color: black;border-radius: 0.25em;background-color: #f0f8ff;}#sk-6e9ce8b6-abd8-487f-a7ff-968070761bf4 input.sk-toggleable__control:checked~div.sk-toggleable__content {max-height: 200px;max-width: 100%;overflow: auto;}#sk-6e9ce8b6-abd8-487f-a7ff-968070761bf4 input.sk-toggleable__control:checked~label.sk-toggleable__label-arrow:before {content: \"▾\";}#sk-6e9ce8b6-abd8-487f-a7ff-968070761bf4 div.sk-estimator input.sk-toggleable__control:checked~label.sk-toggleable__label {background-color: #d4ebff;}#sk-6e9ce8b6-abd8-487f-a7ff-968070761bf4 div.sk-label input.sk-toggleable__control:checked~label.sk-toggleable__label {background-color: #d4ebff;}#sk-6e9ce8b6-abd8-487f-a7ff-968070761bf4 input.sk-hidden--visually {border: 0;clip: rect(1px 1px 1px 1px);clip: rect(1px, 1px, 1px, 1px);height: 1px;margin: -1px;overflow: hidden;padding: 0;position: absolute;width: 1px;}#sk-6e9ce8b6-abd8-487f-a7ff-968070761bf4 div.sk-estimator {font-family: monospace;background-color: #f0f8ff;border: 1px dotted black;border-radius: 0.25em;box-sizing: border-box;margin-bottom: 0.5em;}#sk-6e9ce8b6-abd8-487f-a7ff-968070761bf4 div.sk-estimator:hover {background-color: #d4ebff;}#sk-6e9ce8b6-abd8-487f-a7ff-968070761bf4 div.sk-parallel-item::after {content: \"\";width: 100%;border-bottom: 1px solid gray;flex-grow: 1;}#sk-6e9ce8b6-abd8-487f-a7ff-968070761bf4 div.sk-label:hover label.sk-toggleable__label {background-color: #d4ebff;}#sk-6e9ce8b6-abd8-487f-a7ff-968070761bf4 div.sk-serial::before {content: \"\";position: absolute;border-left: 1px solid gray;box-sizing: border-box;top: 2em;bottom: 0;left: 50%;}#sk-6e9ce8b6-abd8-487f-a7ff-968070761bf4 div.sk-serial {display: flex;flex-direction: column;align-items: center;background-color: white;padding-right: 0.2em;padding-left: 0.2em;}#sk-6e9ce8b6-abd8-487f-a7ff-968070761bf4 div.sk-item {z-index: 1;}#sk-6e9ce8b6-abd8-487f-a7ff-968070761bf4 div.sk-parallel {display: flex;align-items: stretch;justify-content: center;background-color: white;}#sk-6e9ce8b6-abd8-487f-a7ff-968070761bf4 div.sk-parallel::before {content: \"\";position: absolute;border-left: 1px solid gray;box-sizing: border-box;top: 2em;bottom: 0;left: 50%;}#sk-6e9ce8b6-abd8-487f-a7ff-968070761bf4 div.sk-parallel-item {display: flex;flex-direction: column;position: relative;background-color: white;}#sk-6e9ce8b6-abd8-487f-a7ff-968070761bf4 div.sk-parallel-item:first-child::after {align-self: flex-end;width: 50%;}#sk-6e9ce8b6-abd8-487f-a7ff-968070761bf4 div.sk-parallel-item:last-child::after {align-self: flex-start;width: 50%;}#sk-6e9ce8b6-abd8-487f-a7ff-968070761bf4 div.sk-parallel-item:only-child::after {width: 0;}#sk-6e9ce8b6-abd8-487f-a7ff-968070761bf4 div.sk-dashed-wrapped {border: 1px dashed gray;margin: 0 0.4em 0.5em 0.4em;box-sizing: border-box;padding-bottom: 0.4em;background-color: white;position: relative;}#sk-6e9ce8b6-abd8-487f-a7ff-968070761bf4 div.sk-label label {font-family: monospace;font-weight: bold;background-color: white;display: inline-block;line-height: 1.2em;}#sk-6e9ce8b6-abd8-487f-a7ff-968070761bf4 div.sk-label-container {position: relative;z-index: 2;text-align: center;}#sk-6e9ce8b6-abd8-487f-a7ff-968070761bf4 div.sk-container {/* jupyter's `normalize.less` sets `[hidden] { display: none; }` but bootstrap.min.css set `[hidden] { display: none !important; }` so we also need the `!important` here to be able to override the default hidden behavior on the sphinx rendered scikit-learn.org. See: https://github.com/scikit-learn/scikit-learn/issues/21755 */display: inline-block !important;position: relative;}#sk-6e9ce8b6-abd8-487f-a7ff-968070761bf4 div.sk-text-repr-fallback {display: none;}</style><div id=\"sk-6e9ce8b6-abd8-487f-a7ff-968070761bf4\" class=\"sk-top-container\"><div class=\"sk-text-repr-fallback\"><pre>ColumnTransformer(transformers=[(&#x27;pipeline-1&#x27;,\n",
              "                                 Pipeline(steps=[(&#x27;simpleimputer&#x27;,\n",
              "                                                  SimpleImputer()),\n",
              "                                                 (&#x27;standardscaler&#x27;,\n",
              "                                                  StandardScaler())]),\n",
              "                                 [&#x27;Item_Weight&#x27;, &#x27;Item_Visibility&#x27;, &#x27;Item_MRP&#x27;,\n",
              "                                  &#x27;Outlet_Establishment_Year&#x27;]),\n",
              "                                (&#x27;pipeline-2&#x27;,\n",
              "                                 Pipeline(steps=[(&#x27;onehotencoder&#x27;,\n",
              "                                                  OneHotEncoder(handle_unknown=&#x27;ignore&#x27;,\n",
              "                                                                sparse=False))]),\n",
              "                                 &lt;sklearn.compose._column_transformer.make_column_selector object at 0x7f73bdf10e50&gt;),\n",
              "                                (&#x27;pipeline-3&#x27;,\n",
              "                                 Pipeline(steps=[(&#x27;simpleimputer&#x27;,\n",
              "                                                  SimpleImputer(strategy=&#x27;most_frequent&#x27;)),\n",
              "                                                 (&#x27;standardscaler&#x27;,\n",
              "                                                  StandardScaler())]),\n",
              "                                 [&#x27;Item_Fat_Content&#x27;, &#x27;Outlet_Size&#x27;])])</pre><b>Please rerun this cell to show the HTML repr or trust the notebook.</b></div><div class=\"sk-container\" hidden><div class=\"sk-item sk-dashed-wrapped\"><div class=\"sk-label-container\"><div class=\"sk-label sk-toggleable\"><input class=\"sk-toggleable__control sk-hidden--visually\" id=\"68ff6765-848c-46a4-addc-e7423e30a9d6\" type=\"checkbox\" ><label for=\"68ff6765-848c-46a4-addc-e7423e30a9d6\" class=\"sk-toggleable__label sk-toggleable__label-arrow\">ColumnTransformer</label><div class=\"sk-toggleable__content\"><pre>ColumnTransformer(transformers=[(&#x27;pipeline-1&#x27;,\n",
              "                                 Pipeline(steps=[(&#x27;simpleimputer&#x27;,\n",
              "                                                  SimpleImputer()),\n",
              "                                                 (&#x27;standardscaler&#x27;,\n",
              "                                                  StandardScaler())]),\n",
              "                                 [&#x27;Item_Weight&#x27;, &#x27;Item_Visibility&#x27;, &#x27;Item_MRP&#x27;,\n",
              "                                  &#x27;Outlet_Establishment_Year&#x27;]),\n",
              "                                (&#x27;pipeline-2&#x27;,\n",
              "                                 Pipeline(steps=[(&#x27;onehotencoder&#x27;,\n",
              "                                                  OneHotEncoder(handle_unknown=&#x27;ignore&#x27;,\n",
              "                                                                sparse=False))]),\n",
              "                                 &lt;sklearn.compose._column_transformer.make_column_selector object at 0x7f73bdf10e50&gt;),\n",
              "                                (&#x27;pipeline-3&#x27;,\n",
              "                                 Pipeline(steps=[(&#x27;simpleimputer&#x27;,\n",
              "                                                  SimpleImputer(strategy=&#x27;most_frequent&#x27;)),\n",
              "                                                 (&#x27;standardscaler&#x27;,\n",
              "                                                  StandardScaler())]),\n",
              "                                 [&#x27;Item_Fat_Content&#x27;, &#x27;Outlet_Size&#x27;])])</pre></div></div></div><div class=\"sk-parallel\"><div class=\"sk-parallel-item\"><div class=\"sk-item\"><div class=\"sk-label-container\"><div class=\"sk-label sk-toggleable\"><input class=\"sk-toggleable__control sk-hidden--visually\" id=\"2c036108-1f02-4f33-94f1-14ebf7d6ee78\" type=\"checkbox\" ><label for=\"2c036108-1f02-4f33-94f1-14ebf7d6ee78\" class=\"sk-toggleable__label sk-toggleable__label-arrow\">pipeline-1</label><div class=\"sk-toggleable__content\"><pre>[&#x27;Item_Weight&#x27;, &#x27;Item_Visibility&#x27;, &#x27;Item_MRP&#x27;, &#x27;Outlet_Establishment_Year&#x27;]</pre></div></div></div><div class=\"sk-serial\"><div class=\"sk-item\"><div class=\"sk-serial\"><div class=\"sk-item\"><div class=\"sk-estimator sk-toggleable\"><input class=\"sk-toggleable__control sk-hidden--visually\" id=\"ca8800be-2a9c-423b-8263-69c5a5b63ba7\" type=\"checkbox\" ><label for=\"ca8800be-2a9c-423b-8263-69c5a5b63ba7\" class=\"sk-toggleable__label sk-toggleable__label-arrow\">SimpleImputer</label><div class=\"sk-toggleable__content\"><pre>SimpleImputer()</pre></div></div></div><div class=\"sk-item\"><div class=\"sk-estimator sk-toggleable\"><input class=\"sk-toggleable__control sk-hidden--visually\" id=\"0db916a9-18af-437c-94fe-c35ca1f1f089\" type=\"checkbox\" ><label for=\"0db916a9-18af-437c-94fe-c35ca1f1f089\" class=\"sk-toggleable__label sk-toggleable__label-arrow\">StandardScaler</label><div class=\"sk-toggleable__content\"><pre>StandardScaler()</pre></div></div></div></div></div></div></div></div><div class=\"sk-parallel-item\"><div class=\"sk-item\"><div class=\"sk-label-container\"><div class=\"sk-label sk-toggleable\"><input class=\"sk-toggleable__control sk-hidden--visually\" id=\"ae5f4df5-8ddd-4cb3-bcba-44368b3538d1\" type=\"checkbox\" ><label for=\"ae5f4df5-8ddd-4cb3-bcba-44368b3538d1\" class=\"sk-toggleable__label sk-toggleable__label-arrow\">pipeline-2</label><div class=\"sk-toggleable__content\"><pre>&lt;sklearn.compose._column_transformer.make_column_selector object at 0x7f73bdf10e50&gt;</pre></div></div></div><div class=\"sk-serial\"><div class=\"sk-item\"><div class=\"sk-serial\"><div class=\"sk-item\"><div class=\"sk-estimator sk-toggleable\"><input class=\"sk-toggleable__control sk-hidden--visually\" id=\"893ba91c-d674-4504-bdf1-07856efb3b34\" type=\"checkbox\" ><label for=\"893ba91c-d674-4504-bdf1-07856efb3b34\" class=\"sk-toggleable__label sk-toggleable__label-arrow\">OneHotEncoder</label><div class=\"sk-toggleable__content\"><pre>OneHotEncoder(handle_unknown=&#x27;ignore&#x27;, sparse=False)</pre></div></div></div></div></div></div></div></div><div class=\"sk-parallel-item\"><div class=\"sk-item\"><div class=\"sk-label-container\"><div class=\"sk-label sk-toggleable\"><input class=\"sk-toggleable__control sk-hidden--visually\" id=\"ecaef2b2-3c7e-4de6-8e53-a3b9d709991b\" type=\"checkbox\" ><label for=\"ecaef2b2-3c7e-4de6-8e53-a3b9d709991b\" class=\"sk-toggleable__label sk-toggleable__label-arrow\">pipeline-3</label><div class=\"sk-toggleable__content\"><pre>[&#x27;Item_Fat_Content&#x27;, &#x27;Outlet_Size&#x27;]</pre></div></div></div><div class=\"sk-serial\"><div class=\"sk-item\"><div class=\"sk-serial\"><div class=\"sk-item\"><div class=\"sk-estimator sk-toggleable\"><input class=\"sk-toggleable__control sk-hidden--visually\" id=\"817c6e17-39db-4900-a8d6-35098dc45e06\" type=\"checkbox\" ><label for=\"817c6e17-39db-4900-a8d6-35098dc45e06\" class=\"sk-toggleable__label sk-toggleable__label-arrow\">SimpleImputer</label><div class=\"sk-toggleable__content\"><pre>SimpleImputer(strategy=&#x27;most_frequent&#x27;)</pre></div></div></div><div class=\"sk-item\"><div class=\"sk-estimator sk-toggleable\"><input class=\"sk-toggleable__control sk-hidden--visually\" id=\"4b47575e-4dff-4877-8b47-6442a2cac2e5\" type=\"checkbox\" ><label for=\"4b47575e-4dff-4877-8b47-6442a2cac2e5\" class=\"sk-toggleable__label sk-toggleable__label-arrow\">StandardScaler</label><div class=\"sk-toggleable__content\"><pre>StandardScaler()</pre></div></div></div></div></div></div></div></div></div></div></div></div>"
            ]
          },
          "metadata": {},
          "execution_count": 181
        }
      ],
      "source": [
        "preprocessor = make_column_transformer(num_tuple,cat_tuple,ord_tuple)\n",
        "preprocessor"
      ]
    },
    {
      "cell_type": "code",
      "execution_count": null,
      "metadata": {
        "colab": {
          "base_uri": "https://localhost:8080/",
          "height": 152
        },
        "id": "C0xEdV10zZDw",
        "outputId": "c5a6365a-4568-450f-d62f-b2a2e561c7b1"
      },
      "outputs": [
        {
          "output_type": "execute_result",
          "data": {
            "text/plain": [
              "ColumnTransformer(transformers=[('pipeline-1',\n",
              "                                 Pipeline(steps=[('simpleimputer',\n",
              "                                                  SimpleImputer()),\n",
              "                                                 ('standardscaler',\n",
              "                                                  StandardScaler())]),\n",
              "                                 ['Item_Weight', 'Item_Visibility', 'Item_MRP',\n",
              "                                  'Outlet_Establishment_Year']),\n",
              "                                ('pipeline-2',\n",
              "                                 Pipeline(steps=[('onehotencoder',\n",
              "                                                  OneHotEncoder(handle_unknown='ignore',\n",
              "                                                                sparse=False))]),\n",
              "                                 <sklearn.compose._column_transformer.make_column_selector object at 0x7f73bdf10e50>),\n",
              "                                ('pipeline-3',\n",
              "                                 Pipeline(steps=[('simpleimputer',\n",
              "                                                  SimpleImputer(strategy='most_frequent')),\n",
              "                                                 ('standardscaler',\n",
              "                                                  StandardScaler())]),\n",
              "                                 ['Item_Fat_Content', 'Outlet_Size'])])"
            ],
            "text/html": [
              "<style>#sk-736e4c31-8dd4-4382-a1e0-982fc74b5777 {color: black;background-color: white;}#sk-736e4c31-8dd4-4382-a1e0-982fc74b5777 pre{padding: 0;}#sk-736e4c31-8dd4-4382-a1e0-982fc74b5777 div.sk-toggleable {background-color: white;}#sk-736e4c31-8dd4-4382-a1e0-982fc74b5777 label.sk-toggleable__label {cursor: pointer;display: block;width: 100%;margin-bottom: 0;padding: 0.3em;box-sizing: border-box;text-align: center;}#sk-736e4c31-8dd4-4382-a1e0-982fc74b5777 label.sk-toggleable__label-arrow:before {content: \"▸\";float: left;margin-right: 0.25em;color: #696969;}#sk-736e4c31-8dd4-4382-a1e0-982fc74b5777 label.sk-toggleable__label-arrow:hover:before {color: black;}#sk-736e4c31-8dd4-4382-a1e0-982fc74b5777 div.sk-estimator:hover label.sk-toggleable__label-arrow:before {color: black;}#sk-736e4c31-8dd4-4382-a1e0-982fc74b5777 div.sk-toggleable__content {max-height: 0;max-width: 0;overflow: hidden;text-align: left;background-color: #f0f8ff;}#sk-736e4c31-8dd4-4382-a1e0-982fc74b5777 div.sk-toggleable__content pre {margin: 0.2em;color: black;border-radius: 0.25em;background-color: #f0f8ff;}#sk-736e4c31-8dd4-4382-a1e0-982fc74b5777 input.sk-toggleable__control:checked~div.sk-toggleable__content {max-height: 200px;max-width: 100%;overflow: auto;}#sk-736e4c31-8dd4-4382-a1e0-982fc74b5777 input.sk-toggleable__control:checked~label.sk-toggleable__label-arrow:before {content: \"▾\";}#sk-736e4c31-8dd4-4382-a1e0-982fc74b5777 div.sk-estimator input.sk-toggleable__control:checked~label.sk-toggleable__label {background-color: #d4ebff;}#sk-736e4c31-8dd4-4382-a1e0-982fc74b5777 div.sk-label input.sk-toggleable__control:checked~label.sk-toggleable__label {background-color: #d4ebff;}#sk-736e4c31-8dd4-4382-a1e0-982fc74b5777 input.sk-hidden--visually {border: 0;clip: rect(1px 1px 1px 1px);clip: rect(1px, 1px, 1px, 1px);height: 1px;margin: -1px;overflow: hidden;padding: 0;position: absolute;width: 1px;}#sk-736e4c31-8dd4-4382-a1e0-982fc74b5777 div.sk-estimator {font-family: monospace;background-color: #f0f8ff;border: 1px dotted black;border-radius: 0.25em;box-sizing: border-box;margin-bottom: 0.5em;}#sk-736e4c31-8dd4-4382-a1e0-982fc74b5777 div.sk-estimator:hover {background-color: #d4ebff;}#sk-736e4c31-8dd4-4382-a1e0-982fc74b5777 div.sk-parallel-item::after {content: \"\";width: 100%;border-bottom: 1px solid gray;flex-grow: 1;}#sk-736e4c31-8dd4-4382-a1e0-982fc74b5777 div.sk-label:hover label.sk-toggleable__label {background-color: #d4ebff;}#sk-736e4c31-8dd4-4382-a1e0-982fc74b5777 div.sk-serial::before {content: \"\";position: absolute;border-left: 1px solid gray;box-sizing: border-box;top: 2em;bottom: 0;left: 50%;}#sk-736e4c31-8dd4-4382-a1e0-982fc74b5777 div.sk-serial {display: flex;flex-direction: column;align-items: center;background-color: white;padding-right: 0.2em;padding-left: 0.2em;}#sk-736e4c31-8dd4-4382-a1e0-982fc74b5777 div.sk-item {z-index: 1;}#sk-736e4c31-8dd4-4382-a1e0-982fc74b5777 div.sk-parallel {display: flex;align-items: stretch;justify-content: center;background-color: white;}#sk-736e4c31-8dd4-4382-a1e0-982fc74b5777 div.sk-parallel::before {content: \"\";position: absolute;border-left: 1px solid gray;box-sizing: border-box;top: 2em;bottom: 0;left: 50%;}#sk-736e4c31-8dd4-4382-a1e0-982fc74b5777 div.sk-parallel-item {display: flex;flex-direction: column;position: relative;background-color: white;}#sk-736e4c31-8dd4-4382-a1e0-982fc74b5777 div.sk-parallel-item:first-child::after {align-self: flex-end;width: 50%;}#sk-736e4c31-8dd4-4382-a1e0-982fc74b5777 div.sk-parallel-item:last-child::after {align-self: flex-start;width: 50%;}#sk-736e4c31-8dd4-4382-a1e0-982fc74b5777 div.sk-parallel-item:only-child::after {width: 0;}#sk-736e4c31-8dd4-4382-a1e0-982fc74b5777 div.sk-dashed-wrapped {border: 1px dashed gray;margin: 0 0.4em 0.5em 0.4em;box-sizing: border-box;padding-bottom: 0.4em;background-color: white;position: relative;}#sk-736e4c31-8dd4-4382-a1e0-982fc74b5777 div.sk-label label {font-family: monospace;font-weight: bold;background-color: white;display: inline-block;line-height: 1.2em;}#sk-736e4c31-8dd4-4382-a1e0-982fc74b5777 div.sk-label-container {position: relative;z-index: 2;text-align: center;}#sk-736e4c31-8dd4-4382-a1e0-982fc74b5777 div.sk-container {/* jupyter's `normalize.less` sets `[hidden] { display: none; }` but bootstrap.min.css set `[hidden] { display: none !important; }` so we also need the `!important` here to be able to override the default hidden behavior on the sphinx rendered scikit-learn.org. See: https://github.com/scikit-learn/scikit-learn/issues/21755 */display: inline-block !important;position: relative;}#sk-736e4c31-8dd4-4382-a1e0-982fc74b5777 div.sk-text-repr-fallback {display: none;}</style><div id=\"sk-736e4c31-8dd4-4382-a1e0-982fc74b5777\" class=\"sk-top-container\"><div class=\"sk-text-repr-fallback\"><pre>ColumnTransformer(transformers=[(&#x27;pipeline-1&#x27;,\n",
              "                                 Pipeline(steps=[(&#x27;simpleimputer&#x27;,\n",
              "                                                  SimpleImputer()),\n",
              "                                                 (&#x27;standardscaler&#x27;,\n",
              "                                                  StandardScaler())]),\n",
              "                                 [&#x27;Item_Weight&#x27;, &#x27;Item_Visibility&#x27;, &#x27;Item_MRP&#x27;,\n",
              "                                  &#x27;Outlet_Establishment_Year&#x27;]),\n",
              "                                (&#x27;pipeline-2&#x27;,\n",
              "                                 Pipeline(steps=[(&#x27;onehotencoder&#x27;,\n",
              "                                                  OneHotEncoder(handle_unknown=&#x27;ignore&#x27;,\n",
              "                                                                sparse=False))]),\n",
              "                                 &lt;sklearn.compose._column_transformer.make_column_selector object at 0x7f73bdf10e50&gt;),\n",
              "                                (&#x27;pipeline-3&#x27;,\n",
              "                                 Pipeline(steps=[(&#x27;simpleimputer&#x27;,\n",
              "                                                  SimpleImputer(strategy=&#x27;most_frequent&#x27;)),\n",
              "                                                 (&#x27;standardscaler&#x27;,\n",
              "                                                  StandardScaler())]),\n",
              "                                 [&#x27;Item_Fat_Content&#x27;, &#x27;Outlet_Size&#x27;])])</pre><b>Please rerun this cell to show the HTML repr or trust the notebook.</b></div><div class=\"sk-container\" hidden><div class=\"sk-item sk-dashed-wrapped\"><div class=\"sk-label-container\"><div class=\"sk-label sk-toggleable\"><input class=\"sk-toggleable__control sk-hidden--visually\" id=\"448081e1-3e25-4662-b63c-8176c31f803f\" type=\"checkbox\" ><label for=\"448081e1-3e25-4662-b63c-8176c31f803f\" class=\"sk-toggleable__label sk-toggleable__label-arrow\">ColumnTransformer</label><div class=\"sk-toggleable__content\"><pre>ColumnTransformer(transformers=[(&#x27;pipeline-1&#x27;,\n",
              "                                 Pipeline(steps=[(&#x27;simpleimputer&#x27;,\n",
              "                                                  SimpleImputer()),\n",
              "                                                 (&#x27;standardscaler&#x27;,\n",
              "                                                  StandardScaler())]),\n",
              "                                 [&#x27;Item_Weight&#x27;, &#x27;Item_Visibility&#x27;, &#x27;Item_MRP&#x27;,\n",
              "                                  &#x27;Outlet_Establishment_Year&#x27;]),\n",
              "                                (&#x27;pipeline-2&#x27;,\n",
              "                                 Pipeline(steps=[(&#x27;onehotencoder&#x27;,\n",
              "                                                  OneHotEncoder(handle_unknown=&#x27;ignore&#x27;,\n",
              "                                                                sparse=False))]),\n",
              "                                 &lt;sklearn.compose._column_transformer.make_column_selector object at 0x7f73bdf10e50&gt;),\n",
              "                                (&#x27;pipeline-3&#x27;,\n",
              "                                 Pipeline(steps=[(&#x27;simpleimputer&#x27;,\n",
              "                                                  SimpleImputer(strategy=&#x27;most_frequent&#x27;)),\n",
              "                                                 (&#x27;standardscaler&#x27;,\n",
              "                                                  StandardScaler())]),\n",
              "                                 [&#x27;Item_Fat_Content&#x27;, &#x27;Outlet_Size&#x27;])])</pre></div></div></div><div class=\"sk-parallel\"><div class=\"sk-parallel-item\"><div class=\"sk-item\"><div class=\"sk-label-container\"><div class=\"sk-label sk-toggleable\"><input class=\"sk-toggleable__control sk-hidden--visually\" id=\"1d4e7f1a-8928-43dc-92f3-ce848dc2f39a\" type=\"checkbox\" ><label for=\"1d4e7f1a-8928-43dc-92f3-ce848dc2f39a\" class=\"sk-toggleable__label sk-toggleable__label-arrow\">pipeline-1</label><div class=\"sk-toggleable__content\"><pre>[&#x27;Item_Weight&#x27;, &#x27;Item_Visibility&#x27;, &#x27;Item_MRP&#x27;, &#x27;Outlet_Establishment_Year&#x27;]</pre></div></div></div><div class=\"sk-serial\"><div class=\"sk-item\"><div class=\"sk-serial\"><div class=\"sk-item\"><div class=\"sk-estimator sk-toggleable\"><input class=\"sk-toggleable__control sk-hidden--visually\" id=\"3ae96372-7a4a-4759-93a1-ae1398631ee2\" type=\"checkbox\" ><label for=\"3ae96372-7a4a-4759-93a1-ae1398631ee2\" class=\"sk-toggleable__label sk-toggleable__label-arrow\">SimpleImputer</label><div class=\"sk-toggleable__content\"><pre>SimpleImputer()</pre></div></div></div><div class=\"sk-item\"><div class=\"sk-estimator sk-toggleable\"><input class=\"sk-toggleable__control sk-hidden--visually\" id=\"76d581a4-d30f-4d80-ab99-e79dd0e03384\" type=\"checkbox\" ><label for=\"76d581a4-d30f-4d80-ab99-e79dd0e03384\" class=\"sk-toggleable__label sk-toggleable__label-arrow\">StandardScaler</label><div class=\"sk-toggleable__content\"><pre>StandardScaler()</pre></div></div></div></div></div></div></div></div><div class=\"sk-parallel-item\"><div class=\"sk-item\"><div class=\"sk-label-container\"><div class=\"sk-label sk-toggleable\"><input class=\"sk-toggleable__control sk-hidden--visually\" id=\"eb079a5a-906f-46da-aefe-083de666ace4\" type=\"checkbox\" ><label for=\"eb079a5a-906f-46da-aefe-083de666ace4\" class=\"sk-toggleable__label sk-toggleable__label-arrow\">pipeline-2</label><div class=\"sk-toggleable__content\"><pre>&lt;sklearn.compose._column_transformer.make_column_selector object at 0x7f73bdf10e50&gt;</pre></div></div></div><div class=\"sk-serial\"><div class=\"sk-item\"><div class=\"sk-serial\"><div class=\"sk-item\"><div class=\"sk-estimator sk-toggleable\"><input class=\"sk-toggleable__control sk-hidden--visually\" id=\"970fb90a-7ee8-48a8-80c3-17f99cdc0adb\" type=\"checkbox\" ><label for=\"970fb90a-7ee8-48a8-80c3-17f99cdc0adb\" class=\"sk-toggleable__label sk-toggleable__label-arrow\">OneHotEncoder</label><div class=\"sk-toggleable__content\"><pre>OneHotEncoder(handle_unknown=&#x27;ignore&#x27;, sparse=False)</pre></div></div></div></div></div></div></div></div><div class=\"sk-parallel-item\"><div class=\"sk-item\"><div class=\"sk-label-container\"><div class=\"sk-label sk-toggleable\"><input class=\"sk-toggleable__control sk-hidden--visually\" id=\"23f509b0-7e13-4461-81de-a00a5d464b42\" type=\"checkbox\" ><label for=\"23f509b0-7e13-4461-81de-a00a5d464b42\" class=\"sk-toggleable__label sk-toggleable__label-arrow\">pipeline-3</label><div class=\"sk-toggleable__content\"><pre>[&#x27;Item_Fat_Content&#x27;, &#x27;Outlet_Size&#x27;]</pre></div></div></div><div class=\"sk-serial\"><div class=\"sk-item\"><div class=\"sk-serial\"><div class=\"sk-item\"><div class=\"sk-estimator sk-toggleable\"><input class=\"sk-toggleable__control sk-hidden--visually\" id=\"e888e61f-a440-4370-8310-07fe8f472152\" type=\"checkbox\" ><label for=\"e888e61f-a440-4370-8310-07fe8f472152\" class=\"sk-toggleable__label sk-toggleable__label-arrow\">SimpleImputer</label><div class=\"sk-toggleable__content\"><pre>SimpleImputer(strategy=&#x27;most_frequent&#x27;)</pre></div></div></div><div class=\"sk-item\"><div class=\"sk-estimator sk-toggleable\"><input class=\"sk-toggleable__control sk-hidden--visually\" id=\"87f44af3-90aa-48b8-8ec2-5bdfb6aa4dcf\" type=\"checkbox\" ><label for=\"87f44af3-90aa-48b8-8ec2-5bdfb6aa4dcf\" class=\"sk-toggleable__label sk-toggleable__label-arrow\">StandardScaler</label><div class=\"sk-toggleable__content\"><pre>StandardScaler()</pre></div></div></div></div></div></div></div></div></div></div></div></div>"
            ]
          },
          "metadata": {},
          "execution_count": 182
        }
      ],
      "source": [
        "preprocessor.fit(X_train)"
      ]
    },
    {
      "cell_type": "code",
      "execution_count": null,
      "metadata": {
        "id": "B61Jv4vNzdWc"
      },
      "outputs": [],
      "source": [
        "#transform\n",
        "X_train_processed = preprocessor.transform(X_train)\n",
        "X_test_processed = preprocessor.transform(X_test)"
      ]
    },
    {
      "cell_type": "code",
      "execution_count": null,
      "metadata": {
        "colab": {
          "base_uri": "https://localhost:8080/"
        },
        "id": "tLkml8zdzy_v",
        "outputId": "828d8ff7-a94d-4e2e-86d1-bb0ca88000ea"
      },
      "outputs": [
        {
          "output_type": "stream",
          "name": "stdout",
          "text": [
            "0 missing values in training data\n",
            "0 missing values in testing data\n",
            "\n",
            "\n",
            "All data in X_train_processed are float64\n",
            "All data in X_test_processed are float64\n",
            "\n",
            "\n",
            "shape of data of X_train is (6392, 29)\n",
            "shape of data X_test is (2131, 29)\n",
            "\n",
            "\n"
          ]
        },
        {
          "output_type": "execute_result",
          "data": {
            "text/plain": [
              "array([[ 0.81724868, -0.71277507,  1.82810922, ...,  0.        ,\n",
              "        -0.7403206 ,  0.28737371],\n",
              "       [ 0.5563395 , -1.29105225,  0.60336888, ...,  0.        ,\n",
              "         1.35076614,  0.28737371],\n",
              "       [-0.13151196,  1.81331864,  0.24454056, ...,  0.        ,\n",
              "         1.35076614,  0.28737371],\n",
              "       ...,\n",
              "       [ 1.11373638, -0.92052713,  1.52302674, ...,  0.        ,\n",
              "        -0.7403206 ,  0.28737371],\n",
              "       [ 1.76600931, -0.2277552 , -0.38377708, ...,  0.        ,\n",
              "        -0.7403206 ,  0.28737371],\n",
              "       [ 0.81724868, -0.95867683, -0.73836105, ...,  0.        ,\n",
              "        -0.7403206 , -1.38404828]])"
            ]
          },
          "metadata": {},
          "execution_count": 184
        }
      ],
      "source": [
        "# Check for missing values and that data is scaled and one-hot encoded\n",
        "#This code was extracted from LP \n",
        "print(np.isnan(X_train_processed).sum().sum(), 'missing values in training data')\n",
        "print(np.isnan(X_test_processed).sum().sum(), 'missing values in testing data')\n",
        "print('\\n')\n",
        "print('All data in X_train_processed are', X_train_processed.dtype)\n",
        "print('All data in X_test_processed are', X_test_processed.dtype)\n",
        "print('\\n')\n",
        "print('shape of data of X_train is', X_train_processed.shape)\n",
        "print('shape of data X_test is', X_test_processed.shape)\n",
        "print('\\n')\n",
        "X_train_processed\n",
        "\n"
      ]
    },
    {
      "cell_type": "code",
      "execution_count": null,
      "metadata": {
        "colab": {
          "base_uri": "https://localhost:8080/",
          "height": 392
        },
        "id": "SaChe7aqZ_vX",
        "outputId": "a566df51-089c-414c-da8c-6177d3ca0aa1"
      },
      "outputs": [
        {
          "output_type": "execute_result",
          "data": {
            "text/plain": [
              "             0         1         2         3    4    5    6    7    8    9   \\\n",
              "0  8.172487e-01 -0.712775  1.828109  1.327849  0.0  0.0  0.0  0.0  0.0  0.0   \n",
              "1  5.563395e-01 -1.291052  0.603369  1.327849  0.0  0.0  0.0  0.0  0.0  0.0   \n",
              "2 -1.315120e-01  1.813319  0.244541  0.136187  0.0  0.0  0.0  0.0  0.0  0.0   \n",
              "3 -1.169219e+00 -1.004931 -0.952591  0.732018  1.0  0.0  0.0  0.0  0.0  0.0   \n",
              "4  1.528819e+00 -0.965484 -0.336460  0.493686  0.0  0.0  0.0  0.0  0.0  1.0   \n",
              "5  4.213344e-16 -0.114462 -0.508205 -1.532139  0.0  0.0  0.0  0.0  0.0  1.0   \n",
              "6  1.884604e+00 -0.074214 -0.859553  0.732018  1.0  0.0  0.0  0.0  0.0  0.0   \n",
              "7  4.213344e-16 -0.047974  1.942997 -1.532139  0.0  1.0  0.0  0.0  0.0  0.0   \n",
              "8  1.611836e+00  1.851567  1.799954  0.732018  0.0  0.0  0.0  1.0  0.0  0.0   \n",
              "9 -1.119409e+00 -0.533682 -0.416764  0.732018  0.0  0.0  0.0  0.0  0.0  0.0   \n",
              "\n",
              "   ...   19   20   21   22   23   24   25   26        27        28  \n",
              "0  ...  0.0  0.0  0.0  1.0  0.0  0.0  1.0  0.0 -0.740321  0.287374  \n",
              "1  ...  0.0  0.0  0.0  1.0  0.0  0.0  1.0  0.0  1.350766  0.287374  \n",
              "2  ...  0.0  1.0  0.0  0.0  0.0  1.0  0.0  0.0  1.350766  0.287374  \n",
              "3  ...  0.0  0.0  1.0  0.0  0.0  1.0  0.0  0.0 -0.740321 -1.384048  \n",
              "4  ...  0.0  0.0  1.0  0.0  0.0  1.0  0.0  0.0 -0.740321  0.287374  \n",
              "5  ...  0.0  1.0  0.0  0.0  1.0  0.0  0.0  0.0  1.350766 -1.384048  \n",
              "6  ...  0.0  0.0  1.0  0.0  0.0  1.0  0.0  0.0  1.350766 -1.384048  \n",
              "7  ...  0.0  0.0  0.0  1.0  0.0  0.0  0.0  1.0  1.350766  0.287374  \n",
              "8  ...  0.0  0.0  1.0  0.0  0.0  1.0  0.0  0.0  1.350766 -1.384048  \n",
              "9  ...  0.0  0.0  1.0  0.0  0.0  1.0  0.0  0.0 -0.740321 -1.384048  \n",
              "\n",
              "[10 rows x 29 columns]"
            ],
            "text/html": [
              "\n",
              "  <div id=\"df-d3349219-5484-4b1a-ac10-216cccb55eb3\">\n",
              "    <div class=\"colab-df-container\">\n",
              "      <div>\n",
              "<style scoped>\n",
              "    .dataframe tbody tr th:only-of-type {\n",
              "        vertical-align: middle;\n",
              "    }\n",
              "\n",
              "    .dataframe tbody tr th {\n",
              "        vertical-align: top;\n",
              "    }\n",
              "\n",
              "    .dataframe thead th {\n",
              "        text-align: right;\n",
              "    }\n",
              "</style>\n",
              "<table border=\"1\" class=\"dataframe\">\n",
              "  <thead>\n",
              "    <tr style=\"text-align: right;\">\n",
              "      <th></th>\n",
              "      <th>0</th>\n",
              "      <th>1</th>\n",
              "      <th>2</th>\n",
              "      <th>3</th>\n",
              "      <th>4</th>\n",
              "      <th>5</th>\n",
              "      <th>6</th>\n",
              "      <th>7</th>\n",
              "      <th>8</th>\n",
              "      <th>9</th>\n",
              "      <th>...</th>\n",
              "      <th>19</th>\n",
              "      <th>20</th>\n",
              "      <th>21</th>\n",
              "      <th>22</th>\n",
              "      <th>23</th>\n",
              "      <th>24</th>\n",
              "      <th>25</th>\n",
              "      <th>26</th>\n",
              "      <th>27</th>\n",
              "      <th>28</th>\n",
              "    </tr>\n",
              "  </thead>\n",
              "  <tbody>\n",
              "    <tr>\n",
              "      <th>0</th>\n",
              "      <td>8.172487e-01</td>\n",
              "      <td>-0.712775</td>\n",
              "      <td>1.828109</td>\n",
              "      <td>1.327849</td>\n",
              "      <td>0.0</td>\n",
              "      <td>0.0</td>\n",
              "      <td>0.0</td>\n",
              "      <td>0.0</td>\n",
              "      <td>0.0</td>\n",
              "      <td>0.0</td>\n",
              "      <td>...</td>\n",
              "      <td>0.0</td>\n",
              "      <td>0.0</td>\n",
              "      <td>0.0</td>\n",
              "      <td>1.0</td>\n",
              "      <td>0.0</td>\n",
              "      <td>0.0</td>\n",
              "      <td>1.0</td>\n",
              "      <td>0.0</td>\n",
              "      <td>-0.740321</td>\n",
              "      <td>0.287374</td>\n",
              "    </tr>\n",
              "    <tr>\n",
              "      <th>1</th>\n",
              "      <td>5.563395e-01</td>\n",
              "      <td>-1.291052</td>\n",
              "      <td>0.603369</td>\n",
              "      <td>1.327849</td>\n",
              "      <td>0.0</td>\n",
              "      <td>0.0</td>\n",
              "      <td>0.0</td>\n",
              "      <td>0.0</td>\n",
              "      <td>0.0</td>\n",
              "      <td>0.0</td>\n",
              "      <td>...</td>\n",
              "      <td>0.0</td>\n",
              "      <td>0.0</td>\n",
              "      <td>0.0</td>\n",
              "      <td>1.0</td>\n",
              "      <td>0.0</td>\n",
              "      <td>0.0</td>\n",
              "      <td>1.0</td>\n",
              "      <td>0.0</td>\n",
              "      <td>1.350766</td>\n",
              "      <td>0.287374</td>\n",
              "    </tr>\n",
              "    <tr>\n",
              "      <th>2</th>\n",
              "      <td>-1.315120e-01</td>\n",
              "      <td>1.813319</td>\n",
              "      <td>0.244541</td>\n",
              "      <td>0.136187</td>\n",
              "      <td>0.0</td>\n",
              "      <td>0.0</td>\n",
              "      <td>0.0</td>\n",
              "      <td>0.0</td>\n",
              "      <td>0.0</td>\n",
              "      <td>0.0</td>\n",
              "      <td>...</td>\n",
              "      <td>0.0</td>\n",
              "      <td>1.0</td>\n",
              "      <td>0.0</td>\n",
              "      <td>0.0</td>\n",
              "      <td>0.0</td>\n",
              "      <td>1.0</td>\n",
              "      <td>0.0</td>\n",
              "      <td>0.0</td>\n",
              "      <td>1.350766</td>\n",
              "      <td>0.287374</td>\n",
              "    </tr>\n",
              "    <tr>\n",
              "      <th>3</th>\n",
              "      <td>-1.169219e+00</td>\n",
              "      <td>-1.004931</td>\n",
              "      <td>-0.952591</td>\n",
              "      <td>0.732018</td>\n",
              "      <td>1.0</td>\n",
              "      <td>0.0</td>\n",
              "      <td>0.0</td>\n",
              "      <td>0.0</td>\n",
              "      <td>0.0</td>\n",
              "      <td>0.0</td>\n",
              "      <td>...</td>\n",
              "      <td>0.0</td>\n",
              "      <td>0.0</td>\n",
              "      <td>1.0</td>\n",
              "      <td>0.0</td>\n",
              "      <td>0.0</td>\n",
              "      <td>1.0</td>\n",
              "      <td>0.0</td>\n",
              "      <td>0.0</td>\n",
              "      <td>-0.740321</td>\n",
              "      <td>-1.384048</td>\n",
              "    </tr>\n",
              "    <tr>\n",
              "      <th>4</th>\n",
              "      <td>1.528819e+00</td>\n",
              "      <td>-0.965484</td>\n",
              "      <td>-0.336460</td>\n",
              "      <td>0.493686</td>\n",
              "      <td>0.0</td>\n",
              "      <td>0.0</td>\n",
              "      <td>0.0</td>\n",
              "      <td>0.0</td>\n",
              "      <td>0.0</td>\n",
              "      <td>1.0</td>\n",
              "      <td>...</td>\n",
              "      <td>0.0</td>\n",
              "      <td>0.0</td>\n",
              "      <td>1.0</td>\n",
              "      <td>0.0</td>\n",
              "      <td>0.0</td>\n",
              "      <td>1.0</td>\n",
              "      <td>0.0</td>\n",
              "      <td>0.0</td>\n",
              "      <td>-0.740321</td>\n",
              "      <td>0.287374</td>\n",
              "    </tr>\n",
              "    <tr>\n",
              "      <th>5</th>\n",
              "      <td>4.213344e-16</td>\n",
              "      <td>-0.114462</td>\n",
              "      <td>-0.508205</td>\n",
              "      <td>-1.532139</td>\n",
              "      <td>0.0</td>\n",
              "      <td>0.0</td>\n",
              "      <td>0.0</td>\n",
              "      <td>0.0</td>\n",
              "      <td>0.0</td>\n",
              "      <td>1.0</td>\n",
              "      <td>...</td>\n",
              "      <td>0.0</td>\n",
              "      <td>1.0</td>\n",
              "      <td>0.0</td>\n",
              "      <td>0.0</td>\n",
              "      <td>1.0</td>\n",
              "      <td>0.0</td>\n",
              "      <td>0.0</td>\n",
              "      <td>0.0</td>\n",
              "      <td>1.350766</td>\n",
              "      <td>-1.384048</td>\n",
              "    </tr>\n",
              "    <tr>\n",
              "      <th>6</th>\n",
              "      <td>1.884604e+00</td>\n",
              "      <td>-0.074214</td>\n",
              "      <td>-0.859553</td>\n",
              "      <td>0.732018</td>\n",
              "      <td>1.0</td>\n",
              "      <td>0.0</td>\n",
              "      <td>0.0</td>\n",
              "      <td>0.0</td>\n",
              "      <td>0.0</td>\n",
              "      <td>0.0</td>\n",
              "      <td>...</td>\n",
              "      <td>0.0</td>\n",
              "      <td>0.0</td>\n",
              "      <td>1.0</td>\n",
              "      <td>0.0</td>\n",
              "      <td>0.0</td>\n",
              "      <td>1.0</td>\n",
              "      <td>0.0</td>\n",
              "      <td>0.0</td>\n",
              "      <td>1.350766</td>\n",
              "      <td>-1.384048</td>\n",
              "    </tr>\n",
              "    <tr>\n",
              "      <th>7</th>\n",
              "      <td>4.213344e-16</td>\n",
              "      <td>-0.047974</td>\n",
              "      <td>1.942997</td>\n",
              "      <td>-1.532139</td>\n",
              "      <td>0.0</td>\n",
              "      <td>1.0</td>\n",
              "      <td>0.0</td>\n",
              "      <td>0.0</td>\n",
              "      <td>0.0</td>\n",
              "      <td>0.0</td>\n",
              "      <td>...</td>\n",
              "      <td>0.0</td>\n",
              "      <td>0.0</td>\n",
              "      <td>0.0</td>\n",
              "      <td>1.0</td>\n",
              "      <td>0.0</td>\n",
              "      <td>0.0</td>\n",
              "      <td>0.0</td>\n",
              "      <td>1.0</td>\n",
              "      <td>1.350766</td>\n",
              "      <td>0.287374</td>\n",
              "    </tr>\n",
              "    <tr>\n",
              "      <th>8</th>\n",
              "      <td>1.611836e+00</td>\n",
              "      <td>1.851567</td>\n",
              "      <td>1.799954</td>\n",
              "      <td>0.732018</td>\n",
              "      <td>0.0</td>\n",
              "      <td>0.0</td>\n",
              "      <td>0.0</td>\n",
              "      <td>1.0</td>\n",
              "      <td>0.0</td>\n",
              "      <td>0.0</td>\n",
              "      <td>...</td>\n",
              "      <td>0.0</td>\n",
              "      <td>0.0</td>\n",
              "      <td>1.0</td>\n",
              "      <td>0.0</td>\n",
              "      <td>0.0</td>\n",
              "      <td>1.0</td>\n",
              "      <td>0.0</td>\n",
              "      <td>0.0</td>\n",
              "      <td>1.350766</td>\n",
              "      <td>-1.384048</td>\n",
              "    </tr>\n",
              "    <tr>\n",
              "      <th>9</th>\n",
              "      <td>-1.119409e+00</td>\n",
              "      <td>-0.533682</td>\n",
              "      <td>-0.416764</td>\n",
              "      <td>0.732018</td>\n",
              "      <td>0.0</td>\n",
              "      <td>0.0</td>\n",
              "      <td>0.0</td>\n",
              "      <td>0.0</td>\n",
              "      <td>0.0</td>\n",
              "      <td>0.0</td>\n",
              "      <td>...</td>\n",
              "      <td>0.0</td>\n",
              "      <td>0.0</td>\n",
              "      <td>1.0</td>\n",
              "      <td>0.0</td>\n",
              "      <td>0.0</td>\n",
              "      <td>1.0</td>\n",
              "      <td>0.0</td>\n",
              "      <td>0.0</td>\n",
              "      <td>-0.740321</td>\n",
              "      <td>-1.384048</td>\n",
              "    </tr>\n",
              "  </tbody>\n",
              "</table>\n",
              "<p>10 rows × 29 columns</p>\n",
              "</div>\n",
              "      <button class=\"colab-df-convert\" onclick=\"convertToInteractive('df-d3349219-5484-4b1a-ac10-216cccb55eb3')\"\n",
              "              title=\"Convert this dataframe to an interactive table.\"\n",
              "              style=\"display:none;\">\n",
              "        \n",
              "  <svg xmlns=\"http://www.w3.org/2000/svg\" height=\"24px\"viewBox=\"0 0 24 24\"\n",
              "       width=\"24px\">\n",
              "    <path d=\"M0 0h24v24H0V0z\" fill=\"none\"/>\n",
              "    <path d=\"M18.56 5.44l.94 2.06.94-2.06 2.06-.94-2.06-.94-.94-2.06-.94 2.06-2.06.94zm-11 1L8.5 8.5l.94-2.06 2.06-.94-2.06-.94L8.5 2.5l-.94 2.06-2.06.94zm10 10l.94 2.06.94-2.06 2.06-.94-2.06-.94-.94-2.06-.94 2.06-2.06.94z\"/><path d=\"M17.41 7.96l-1.37-1.37c-.4-.4-.92-.59-1.43-.59-.52 0-1.04.2-1.43.59L10.3 9.45l-7.72 7.72c-.78.78-.78 2.05 0 2.83L4 21.41c.39.39.9.59 1.41.59.51 0 1.02-.2 1.41-.59l7.78-7.78 2.81-2.81c.8-.78.8-2.07 0-2.86zM5.41 20L4 18.59l7.72-7.72 1.47 1.35L5.41 20z\"/>\n",
              "  </svg>\n",
              "      </button>\n",
              "      \n",
              "  <style>\n",
              "    .colab-df-container {\n",
              "      display:flex;\n",
              "      flex-wrap:wrap;\n",
              "      gap: 12px;\n",
              "    }\n",
              "\n",
              "    .colab-df-convert {\n",
              "      background-color: #E8F0FE;\n",
              "      border: none;\n",
              "      border-radius: 50%;\n",
              "      cursor: pointer;\n",
              "      display: none;\n",
              "      fill: #1967D2;\n",
              "      height: 32px;\n",
              "      padding: 0 0 0 0;\n",
              "      width: 32px;\n",
              "    }\n",
              "\n",
              "    .colab-df-convert:hover {\n",
              "      background-color: #E2EBFA;\n",
              "      box-shadow: 0px 1px 2px rgba(60, 64, 67, 0.3), 0px 1px 3px 1px rgba(60, 64, 67, 0.15);\n",
              "      fill: #174EA6;\n",
              "    }\n",
              "\n",
              "    [theme=dark] .colab-df-convert {\n",
              "      background-color: #3B4455;\n",
              "      fill: #D2E3FC;\n",
              "    }\n",
              "\n",
              "    [theme=dark] .colab-df-convert:hover {\n",
              "      background-color: #434B5C;\n",
              "      box-shadow: 0px 1px 3px 1px rgba(0, 0, 0, 0.15);\n",
              "      filter: drop-shadow(0px 1px 2px rgba(0, 0, 0, 0.3));\n",
              "      fill: #FFFFFF;\n",
              "    }\n",
              "  </style>\n",
              "\n",
              "      <script>\n",
              "        const buttonEl =\n",
              "          document.querySelector('#df-d3349219-5484-4b1a-ac10-216cccb55eb3 button.colab-df-convert');\n",
              "        buttonEl.style.display =\n",
              "          google.colab.kernel.accessAllowed ? 'block' : 'none';\n",
              "\n",
              "        async function convertToInteractive(key) {\n",
              "          const element = document.querySelector('#df-d3349219-5484-4b1a-ac10-216cccb55eb3');\n",
              "          const dataTable =\n",
              "            await google.colab.kernel.invokeFunction('convertToInteractive',\n",
              "                                                     [key], {});\n",
              "          if (!dataTable) return;\n",
              "\n",
              "          const docLinkHtml = 'Like what you see? Visit the ' +\n",
              "            '<a target=\"_blank\" href=https://colab.research.google.com/notebooks/data_table.ipynb>data table notebook</a>'\n",
              "            + ' to learn more about interactive tables.';\n",
              "          element.innerHTML = '';\n",
              "          dataTable['output_type'] = 'display_data';\n",
              "          await google.colab.output.renderOutput(dataTable, element);\n",
              "          const docLink = document.createElement('div');\n",
              "          docLink.innerHTML = docLinkHtml;\n",
              "          element.appendChild(docLink);\n",
              "        }\n",
              "      </script>\n",
              "    </div>\n",
              "  </div>\n",
              "  "
            ]
          },
          "metadata": {},
          "execution_count": 185
        }
      ],
      "source": [
        "X_train_df = pd.DataFrame(X_train_processed)\n",
        "X_train_df.head(10)"
      ]
    },
    {
      "cell_type": "markdown",
      "metadata": {
        "id": "5Hfg882RVl7z"
      },
      "source": [
        "# Create a Linear Regression\n",
        "- Build a Linear Regression Model\n",
        "- Evaluate the performance of your model based on r^2\n",
        "- Evaluate the performance of your model based on rmse"
      ]
    },
    {
      "cell_type": "code",
      "execution_count": null,
      "metadata": {
        "id": "9UVygve6VyVA"
      },
      "outputs": [],
      "source": [
        "from sklearn.linear_model import LinearRegression\n",
        "reg_lin = LinearRegression()"
      ]
    },
    {
      "cell_type": "code",
      "execution_count": null,
      "metadata": {
        "colab": {
          "base_uri": "https://localhost:8080/",
          "height": 92
        },
        "id": "fjtdY3z_WmEh",
        "outputId": "cc0173c8-366c-4e68-b382-2dcbc7105b81"
      },
      "outputs": [
        {
          "output_type": "execute_result",
          "data": {
            "text/plain": [
              "Pipeline(steps=[('linearregression', LinearRegression())])"
            ],
            "text/html": [
              "<style>#sk-e9f7a1e2-4fe5-41dc-b93b-06c019aa4207 {color: black;background-color: white;}#sk-e9f7a1e2-4fe5-41dc-b93b-06c019aa4207 pre{padding: 0;}#sk-e9f7a1e2-4fe5-41dc-b93b-06c019aa4207 div.sk-toggleable {background-color: white;}#sk-e9f7a1e2-4fe5-41dc-b93b-06c019aa4207 label.sk-toggleable__label {cursor: pointer;display: block;width: 100%;margin-bottom: 0;padding: 0.3em;box-sizing: border-box;text-align: center;}#sk-e9f7a1e2-4fe5-41dc-b93b-06c019aa4207 label.sk-toggleable__label-arrow:before {content: \"▸\";float: left;margin-right: 0.25em;color: #696969;}#sk-e9f7a1e2-4fe5-41dc-b93b-06c019aa4207 label.sk-toggleable__label-arrow:hover:before {color: black;}#sk-e9f7a1e2-4fe5-41dc-b93b-06c019aa4207 div.sk-estimator:hover label.sk-toggleable__label-arrow:before {color: black;}#sk-e9f7a1e2-4fe5-41dc-b93b-06c019aa4207 div.sk-toggleable__content {max-height: 0;max-width: 0;overflow: hidden;text-align: left;background-color: #f0f8ff;}#sk-e9f7a1e2-4fe5-41dc-b93b-06c019aa4207 div.sk-toggleable__content pre {margin: 0.2em;color: black;border-radius: 0.25em;background-color: #f0f8ff;}#sk-e9f7a1e2-4fe5-41dc-b93b-06c019aa4207 input.sk-toggleable__control:checked~div.sk-toggleable__content {max-height: 200px;max-width: 100%;overflow: auto;}#sk-e9f7a1e2-4fe5-41dc-b93b-06c019aa4207 input.sk-toggleable__control:checked~label.sk-toggleable__label-arrow:before {content: \"▾\";}#sk-e9f7a1e2-4fe5-41dc-b93b-06c019aa4207 div.sk-estimator input.sk-toggleable__control:checked~label.sk-toggleable__label {background-color: #d4ebff;}#sk-e9f7a1e2-4fe5-41dc-b93b-06c019aa4207 div.sk-label input.sk-toggleable__control:checked~label.sk-toggleable__label {background-color: #d4ebff;}#sk-e9f7a1e2-4fe5-41dc-b93b-06c019aa4207 input.sk-hidden--visually {border: 0;clip: rect(1px 1px 1px 1px);clip: rect(1px, 1px, 1px, 1px);height: 1px;margin: -1px;overflow: hidden;padding: 0;position: absolute;width: 1px;}#sk-e9f7a1e2-4fe5-41dc-b93b-06c019aa4207 div.sk-estimator {font-family: monospace;background-color: #f0f8ff;border: 1px dotted black;border-radius: 0.25em;box-sizing: border-box;margin-bottom: 0.5em;}#sk-e9f7a1e2-4fe5-41dc-b93b-06c019aa4207 div.sk-estimator:hover {background-color: #d4ebff;}#sk-e9f7a1e2-4fe5-41dc-b93b-06c019aa4207 div.sk-parallel-item::after {content: \"\";width: 100%;border-bottom: 1px solid gray;flex-grow: 1;}#sk-e9f7a1e2-4fe5-41dc-b93b-06c019aa4207 div.sk-label:hover label.sk-toggleable__label {background-color: #d4ebff;}#sk-e9f7a1e2-4fe5-41dc-b93b-06c019aa4207 div.sk-serial::before {content: \"\";position: absolute;border-left: 1px solid gray;box-sizing: border-box;top: 2em;bottom: 0;left: 50%;}#sk-e9f7a1e2-4fe5-41dc-b93b-06c019aa4207 div.sk-serial {display: flex;flex-direction: column;align-items: center;background-color: white;padding-right: 0.2em;padding-left: 0.2em;}#sk-e9f7a1e2-4fe5-41dc-b93b-06c019aa4207 div.sk-item {z-index: 1;}#sk-e9f7a1e2-4fe5-41dc-b93b-06c019aa4207 div.sk-parallel {display: flex;align-items: stretch;justify-content: center;background-color: white;}#sk-e9f7a1e2-4fe5-41dc-b93b-06c019aa4207 div.sk-parallel::before {content: \"\";position: absolute;border-left: 1px solid gray;box-sizing: border-box;top: 2em;bottom: 0;left: 50%;}#sk-e9f7a1e2-4fe5-41dc-b93b-06c019aa4207 div.sk-parallel-item {display: flex;flex-direction: column;position: relative;background-color: white;}#sk-e9f7a1e2-4fe5-41dc-b93b-06c019aa4207 div.sk-parallel-item:first-child::after {align-self: flex-end;width: 50%;}#sk-e9f7a1e2-4fe5-41dc-b93b-06c019aa4207 div.sk-parallel-item:last-child::after {align-self: flex-start;width: 50%;}#sk-e9f7a1e2-4fe5-41dc-b93b-06c019aa4207 div.sk-parallel-item:only-child::after {width: 0;}#sk-e9f7a1e2-4fe5-41dc-b93b-06c019aa4207 div.sk-dashed-wrapped {border: 1px dashed gray;margin: 0 0.4em 0.5em 0.4em;box-sizing: border-box;padding-bottom: 0.4em;background-color: white;position: relative;}#sk-e9f7a1e2-4fe5-41dc-b93b-06c019aa4207 div.sk-label label {font-family: monospace;font-weight: bold;background-color: white;display: inline-block;line-height: 1.2em;}#sk-e9f7a1e2-4fe5-41dc-b93b-06c019aa4207 div.sk-label-container {position: relative;z-index: 2;text-align: center;}#sk-e9f7a1e2-4fe5-41dc-b93b-06c019aa4207 div.sk-container {/* jupyter's `normalize.less` sets `[hidden] { display: none; }` but bootstrap.min.css set `[hidden] { display: none !important; }` so we also need the `!important` here to be able to override the default hidden behavior on the sphinx rendered scikit-learn.org. See: https://github.com/scikit-learn/scikit-learn/issues/21755 */display: inline-block !important;position: relative;}#sk-e9f7a1e2-4fe5-41dc-b93b-06c019aa4207 div.sk-text-repr-fallback {display: none;}</style><div id=\"sk-e9f7a1e2-4fe5-41dc-b93b-06c019aa4207\" class=\"sk-top-container\"><div class=\"sk-text-repr-fallback\"><pre>Pipeline(steps=[(&#x27;linearregression&#x27;, LinearRegression())])</pre><b>Please rerun this cell to show the HTML repr or trust the notebook.</b></div><div class=\"sk-container\" hidden><div class=\"sk-item sk-dashed-wrapped\"><div class=\"sk-label-container\"><div class=\"sk-label sk-toggleable\"><input class=\"sk-toggleable__control sk-hidden--visually\" id=\"ef0db8b7-2e29-4ce6-bccd-f29ea17e4473\" type=\"checkbox\" ><label for=\"ef0db8b7-2e29-4ce6-bccd-f29ea17e4473\" class=\"sk-toggleable__label sk-toggleable__label-arrow\">Pipeline</label><div class=\"sk-toggleable__content\"><pre>Pipeline(steps=[(&#x27;linearregression&#x27;, LinearRegression())])</pre></div></div></div><div class=\"sk-serial\"><div class=\"sk-item\"><div class=\"sk-estimator sk-toggleable\"><input class=\"sk-toggleable__control sk-hidden--visually\" id=\"2fc4f031-eef2-4879-828b-3ff936ab939d\" type=\"checkbox\" ><label for=\"2fc4f031-eef2-4879-828b-3ff936ab939d\" class=\"sk-toggleable__label sk-toggleable__label-arrow\">LinearRegression</label><div class=\"sk-toggleable__content\"><pre>LinearRegression()</pre></div></div></div></div></div></div></div>"
            ]
          },
          "metadata": {},
          "execution_count": 190
        }
      ],
      "source": [
        "reg_pipe = make_pipeline(reg_lin)\n",
        "reg_pipe"
      ]
    },
    {
      "cell_type": "code",
      "execution_count": null,
      "metadata": {
        "colab": {
          "base_uri": "https://localhost:8080/",
          "height": 92
        },
        "id": "pxV7wsSxWqLp",
        "outputId": "b61d05ee-d246-4067-ef36-a34ba3a82243"
      },
      "outputs": [
        {
          "output_type": "execute_result",
          "data": {
            "text/plain": [
              "Pipeline(steps=[('linearregression', LinearRegression())])"
            ],
            "text/html": [
              "<style>#sk-f76a4024-3e73-4a98-9a38-95960361ae7a {color: black;background-color: white;}#sk-f76a4024-3e73-4a98-9a38-95960361ae7a pre{padding: 0;}#sk-f76a4024-3e73-4a98-9a38-95960361ae7a div.sk-toggleable {background-color: white;}#sk-f76a4024-3e73-4a98-9a38-95960361ae7a label.sk-toggleable__label {cursor: pointer;display: block;width: 100%;margin-bottom: 0;padding: 0.3em;box-sizing: border-box;text-align: center;}#sk-f76a4024-3e73-4a98-9a38-95960361ae7a label.sk-toggleable__label-arrow:before {content: \"▸\";float: left;margin-right: 0.25em;color: #696969;}#sk-f76a4024-3e73-4a98-9a38-95960361ae7a label.sk-toggleable__label-arrow:hover:before {color: black;}#sk-f76a4024-3e73-4a98-9a38-95960361ae7a div.sk-estimator:hover label.sk-toggleable__label-arrow:before {color: black;}#sk-f76a4024-3e73-4a98-9a38-95960361ae7a div.sk-toggleable__content {max-height: 0;max-width: 0;overflow: hidden;text-align: left;background-color: #f0f8ff;}#sk-f76a4024-3e73-4a98-9a38-95960361ae7a div.sk-toggleable__content pre {margin: 0.2em;color: black;border-radius: 0.25em;background-color: #f0f8ff;}#sk-f76a4024-3e73-4a98-9a38-95960361ae7a input.sk-toggleable__control:checked~div.sk-toggleable__content {max-height: 200px;max-width: 100%;overflow: auto;}#sk-f76a4024-3e73-4a98-9a38-95960361ae7a input.sk-toggleable__control:checked~label.sk-toggleable__label-arrow:before {content: \"▾\";}#sk-f76a4024-3e73-4a98-9a38-95960361ae7a div.sk-estimator input.sk-toggleable__control:checked~label.sk-toggleable__label {background-color: #d4ebff;}#sk-f76a4024-3e73-4a98-9a38-95960361ae7a div.sk-label input.sk-toggleable__control:checked~label.sk-toggleable__label {background-color: #d4ebff;}#sk-f76a4024-3e73-4a98-9a38-95960361ae7a input.sk-hidden--visually {border: 0;clip: rect(1px 1px 1px 1px);clip: rect(1px, 1px, 1px, 1px);height: 1px;margin: -1px;overflow: hidden;padding: 0;position: absolute;width: 1px;}#sk-f76a4024-3e73-4a98-9a38-95960361ae7a div.sk-estimator {font-family: monospace;background-color: #f0f8ff;border: 1px dotted black;border-radius: 0.25em;box-sizing: border-box;margin-bottom: 0.5em;}#sk-f76a4024-3e73-4a98-9a38-95960361ae7a div.sk-estimator:hover {background-color: #d4ebff;}#sk-f76a4024-3e73-4a98-9a38-95960361ae7a div.sk-parallel-item::after {content: \"\";width: 100%;border-bottom: 1px solid gray;flex-grow: 1;}#sk-f76a4024-3e73-4a98-9a38-95960361ae7a div.sk-label:hover label.sk-toggleable__label {background-color: #d4ebff;}#sk-f76a4024-3e73-4a98-9a38-95960361ae7a div.sk-serial::before {content: \"\";position: absolute;border-left: 1px solid gray;box-sizing: border-box;top: 2em;bottom: 0;left: 50%;}#sk-f76a4024-3e73-4a98-9a38-95960361ae7a div.sk-serial {display: flex;flex-direction: column;align-items: center;background-color: white;padding-right: 0.2em;padding-left: 0.2em;}#sk-f76a4024-3e73-4a98-9a38-95960361ae7a div.sk-item {z-index: 1;}#sk-f76a4024-3e73-4a98-9a38-95960361ae7a div.sk-parallel {display: flex;align-items: stretch;justify-content: center;background-color: white;}#sk-f76a4024-3e73-4a98-9a38-95960361ae7a div.sk-parallel::before {content: \"\";position: absolute;border-left: 1px solid gray;box-sizing: border-box;top: 2em;bottom: 0;left: 50%;}#sk-f76a4024-3e73-4a98-9a38-95960361ae7a div.sk-parallel-item {display: flex;flex-direction: column;position: relative;background-color: white;}#sk-f76a4024-3e73-4a98-9a38-95960361ae7a div.sk-parallel-item:first-child::after {align-self: flex-end;width: 50%;}#sk-f76a4024-3e73-4a98-9a38-95960361ae7a div.sk-parallel-item:last-child::after {align-self: flex-start;width: 50%;}#sk-f76a4024-3e73-4a98-9a38-95960361ae7a div.sk-parallel-item:only-child::after {width: 0;}#sk-f76a4024-3e73-4a98-9a38-95960361ae7a div.sk-dashed-wrapped {border: 1px dashed gray;margin: 0 0.4em 0.5em 0.4em;box-sizing: border-box;padding-bottom: 0.4em;background-color: white;position: relative;}#sk-f76a4024-3e73-4a98-9a38-95960361ae7a div.sk-label label {font-family: monospace;font-weight: bold;background-color: white;display: inline-block;line-height: 1.2em;}#sk-f76a4024-3e73-4a98-9a38-95960361ae7a div.sk-label-container {position: relative;z-index: 2;text-align: center;}#sk-f76a4024-3e73-4a98-9a38-95960361ae7a div.sk-container {/* jupyter's `normalize.less` sets `[hidden] { display: none; }` but bootstrap.min.css set `[hidden] { display: none !important; }` so we also need the `!important` here to be able to override the default hidden behavior on the sphinx rendered scikit-learn.org. See: https://github.com/scikit-learn/scikit-learn/issues/21755 */display: inline-block !important;position: relative;}#sk-f76a4024-3e73-4a98-9a38-95960361ae7a div.sk-text-repr-fallback {display: none;}</style><div id=\"sk-f76a4024-3e73-4a98-9a38-95960361ae7a\" class=\"sk-top-container\"><div class=\"sk-text-repr-fallback\"><pre>Pipeline(steps=[(&#x27;linearregression&#x27;, LinearRegression())])</pre><b>Please rerun this cell to show the HTML repr or trust the notebook.</b></div><div class=\"sk-container\" hidden><div class=\"sk-item sk-dashed-wrapped\"><div class=\"sk-label-container\"><div class=\"sk-label sk-toggleable\"><input class=\"sk-toggleable__control sk-hidden--visually\" id=\"ffb420b3-8d1f-4c19-abd1-827ace684f2b\" type=\"checkbox\" ><label for=\"ffb420b3-8d1f-4c19-abd1-827ace684f2b\" class=\"sk-toggleable__label sk-toggleable__label-arrow\">Pipeline</label><div class=\"sk-toggleable__content\"><pre>Pipeline(steps=[(&#x27;linearregression&#x27;, LinearRegression())])</pre></div></div></div><div class=\"sk-serial\"><div class=\"sk-item\"><div class=\"sk-estimator sk-toggleable\"><input class=\"sk-toggleable__control sk-hidden--visually\" id=\"44e1bd29-840a-42e4-b135-f743ddfca943\" type=\"checkbox\" ><label for=\"44e1bd29-840a-42e4-b135-f743ddfca943\" class=\"sk-toggleable__label sk-toggleable__label-arrow\">LinearRegression</label><div class=\"sk-toggleable__content\"><pre>LinearRegression()</pre></div></div></div></div></div></div></div>"
            ]
          },
          "metadata": {},
          "execution_count": 191
        }
      ],
      "source": [
        "reg_pipe.fit(X_train_processed, y_train)"
      ]
    },
    {
      "cell_type": "code",
      "execution_count": null,
      "metadata": {
        "id": "fXEgOaraxhkc"
      },
      "outputs": [],
      "source": [
        "reg_pipe_pred_train = reg_pipe.predict(X_train_processed)"
      ]
    },
    {
      "cell_type": "code",
      "execution_count": null,
      "metadata": {
        "id": "ldCiQETJWskx"
      },
      "outputs": [],
      "source": [
        "reg_pipe_pred_test = reg_pipe.predict(X_test_processed)"
      ]
    },
    {
      "cell_type": "code",
      "execution_count": null,
      "metadata": {
        "colab": {
          "base_uri": "https://localhost:8080/"
        },
        "id": "EDeZp_O5xpna",
        "outputId": "eb1ab0bd-14f8-4d54-da88-50b4482e865d"
      },
      "outputs": [
        {
          "output_type": "stream",
          "name": "stdout",
          "text": [
            "MAE 847.4170862441568,\n",
            " MSE 1300450.9691665014,\n",
            " RMSE: 1140.3731710131124,\n",
            " R^2: 0.560577653797139 \n"
          ]
        }
      ],
      "source": [
        "eval_regression(y_train, reg_pipe_pred_train)"
      ]
    },
    {
      "cell_type": "code",
      "execution_count": null,
      "metadata": {
        "colab": {
          "base_uri": "https://localhost:8080/"
        },
        "id": "VOw5dZ7exaMR",
        "outputId": "b38818c4-2065-432a-b070-6fad2841302a"
      },
      "outputs": [
        {
          "output_type": "stream",
          "name": "stdout",
          "text": [
            "MAE 805.2705998928618,\n",
            " MSE 1197572.9147431627,\n",
            " RMSE: 1094.3367465013512,\n",
            " R^2: 0.5659359284921062 \n"
          ]
        }
      ],
      "source": [
        "eval_regression(y_test, reg_pipe_pred_test)"
      ]
    },
    {
      "cell_type": "markdown",
      "source": [
        "- The model is showing about 56.1% of the variance on the target on the training set and 56.59% of the vairance on the target on the test set. The model has a bit a medium bias as it R2 number is sitting around 56%. There could be some outside variables that may be causing the model to not predict as well."
      ],
      "metadata": {
        "id": "pQhk1SRrtcA2"
      }
    },
    {
      "cell_type": "markdown",
      "metadata": {
        "id": "FRLlBoRNkrlj"
      },
      "source": [
        "# Regression Tree Model - Decision Tree\n",
        "\n"
      ]
    },
    {
      "cell_type": "code",
      "execution_count": null,
      "metadata": {
        "id": "7k0NenvakwR3"
      },
      "outputs": [],
      "source": [
        "#Decision Tree Model\n",
        "from sklearn.tree import DecisionTreeRegressor\n",
        "import matplotlib.pyplot as plt\n",
        "dec_tree = DecisionTreeRegressor(random_state=42)"
      ]
    },
    {
      "cell_type": "code",
      "execution_count": null,
      "metadata": {
        "colab": {
          "base_uri": "https://localhost:8080/",
          "height": 75
        },
        "id": "TdcgAQVLk5Qe",
        "outputId": "5f525be2-cf40-410b-ac96-3d09bcb38cea"
      },
      "outputs": [
        {
          "output_type": "execute_result",
          "data": {
            "text/plain": [
              "DecisionTreeRegressor(random_state=42)"
            ],
            "text/html": [
              "<style>#sk-94e24dc0-8bf9-41e6-8b69-350fbe253b6e {color: black;background-color: white;}#sk-94e24dc0-8bf9-41e6-8b69-350fbe253b6e pre{padding: 0;}#sk-94e24dc0-8bf9-41e6-8b69-350fbe253b6e div.sk-toggleable {background-color: white;}#sk-94e24dc0-8bf9-41e6-8b69-350fbe253b6e label.sk-toggleable__label {cursor: pointer;display: block;width: 100%;margin-bottom: 0;padding: 0.3em;box-sizing: border-box;text-align: center;}#sk-94e24dc0-8bf9-41e6-8b69-350fbe253b6e label.sk-toggleable__label-arrow:before {content: \"▸\";float: left;margin-right: 0.25em;color: #696969;}#sk-94e24dc0-8bf9-41e6-8b69-350fbe253b6e label.sk-toggleable__label-arrow:hover:before {color: black;}#sk-94e24dc0-8bf9-41e6-8b69-350fbe253b6e div.sk-estimator:hover label.sk-toggleable__label-arrow:before {color: black;}#sk-94e24dc0-8bf9-41e6-8b69-350fbe253b6e div.sk-toggleable__content {max-height: 0;max-width: 0;overflow: hidden;text-align: left;background-color: #f0f8ff;}#sk-94e24dc0-8bf9-41e6-8b69-350fbe253b6e div.sk-toggleable__content pre {margin: 0.2em;color: black;border-radius: 0.25em;background-color: #f0f8ff;}#sk-94e24dc0-8bf9-41e6-8b69-350fbe253b6e input.sk-toggleable__control:checked~div.sk-toggleable__content {max-height: 200px;max-width: 100%;overflow: auto;}#sk-94e24dc0-8bf9-41e6-8b69-350fbe253b6e input.sk-toggleable__control:checked~label.sk-toggleable__label-arrow:before {content: \"▾\";}#sk-94e24dc0-8bf9-41e6-8b69-350fbe253b6e div.sk-estimator input.sk-toggleable__control:checked~label.sk-toggleable__label {background-color: #d4ebff;}#sk-94e24dc0-8bf9-41e6-8b69-350fbe253b6e div.sk-label input.sk-toggleable__control:checked~label.sk-toggleable__label {background-color: #d4ebff;}#sk-94e24dc0-8bf9-41e6-8b69-350fbe253b6e input.sk-hidden--visually {border: 0;clip: rect(1px 1px 1px 1px);clip: rect(1px, 1px, 1px, 1px);height: 1px;margin: -1px;overflow: hidden;padding: 0;position: absolute;width: 1px;}#sk-94e24dc0-8bf9-41e6-8b69-350fbe253b6e div.sk-estimator {font-family: monospace;background-color: #f0f8ff;border: 1px dotted black;border-radius: 0.25em;box-sizing: border-box;margin-bottom: 0.5em;}#sk-94e24dc0-8bf9-41e6-8b69-350fbe253b6e div.sk-estimator:hover {background-color: #d4ebff;}#sk-94e24dc0-8bf9-41e6-8b69-350fbe253b6e div.sk-parallel-item::after {content: \"\";width: 100%;border-bottom: 1px solid gray;flex-grow: 1;}#sk-94e24dc0-8bf9-41e6-8b69-350fbe253b6e div.sk-label:hover label.sk-toggleable__label {background-color: #d4ebff;}#sk-94e24dc0-8bf9-41e6-8b69-350fbe253b6e div.sk-serial::before {content: \"\";position: absolute;border-left: 1px solid gray;box-sizing: border-box;top: 2em;bottom: 0;left: 50%;}#sk-94e24dc0-8bf9-41e6-8b69-350fbe253b6e div.sk-serial {display: flex;flex-direction: column;align-items: center;background-color: white;padding-right: 0.2em;padding-left: 0.2em;}#sk-94e24dc0-8bf9-41e6-8b69-350fbe253b6e div.sk-item {z-index: 1;}#sk-94e24dc0-8bf9-41e6-8b69-350fbe253b6e div.sk-parallel {display: flex;align-items: stretch;justify-content: center;background-color: white;}#sk-94e24dc0-8bf9-41e6-8b69-350fbe253b6e div.sk-parallel::before {content: \"\";position: absolute;border-left: 1px solid gray;box-sizing: border-box;top: 2em;bottom: 0;left: 50%;}#sk-94e24dc0-8bf9-41e6-8b69-350fbe253b6e div.sk-parallel-item {display: flex;flex-direction: column;position: relative;background-color: white;}#sk-94e24dc0-8bf9-41e6-8b69-350fbe253b6e div.sk-parallel-item:first-child::after {align-self: flex-end;width: 50%;}#sk-94e24dc0-8bf9-41e6-8b69-350fbe253b6e div.sk-parallel-item:last-child::after {align-self: flex-start;width: 50%;}#sk-94e24dc0-8bf9-41e6-8b69-350fbe253b6e div.sk-parallel-item:only-child::after {width: 0;}#sk-94e24dc0-8bf9-41e6-8b69-350fbe253b6e div.sk-dashed-wrapped {border: 1px dashed gray;margin: 0 0.4em 0.5em 0.4em;box-sizing: border-box;padding-bottom: 0.4em;background-color: white;position: relative;}#sk-94e24dc0-8bf9-41e6-8b69-350fbe253b6e div.sk-label label {font-family: monospace;font-weight: bold;background-color: white;display: inline-block;line-height: 1.2em;}#sk-94e24dc0-8bf9-41e6-8b69-350fbe253b6e div.sk-label-container {position: relative;z-index: 2;text-align: center;}#sk-94e24dc0-8bf9-41e6-8b69-350fbe253b6e div.sk-container {/* jupyter's `normalize.less` sets `[hidden] { display: none; }` but bootstrap.min.css set `[hidden] { display: none !important; }` so we also need the `!important` here to be able to override the default hidden behavior on the sphinx rendered scikit-learn.org. See: https://github.com/scikit-learn/scikit-learn/issues/21755 */display: inline-block !important;position: relative;}#sk-94e24dc0-8bf9-41e6-8b69-350fbe253b6e div.sk-text-repr-fallback {display: none;}</style><div id=\"sk-94e24dc0-8bf9-41e6-8b69-350fbe253b6e\" class=\"sk-top-container\"><div class=\"sk-text-repr-fallback\"><pre>DecisionTreeRegressor(random_state=42)</pre><b>Please rerun this cell to show the HTML repr or trust the notebook.</b></div><div class=\"sk-container\" hidden><div class=\"sk-item\"><div class=\"sk-estimator sk-toggleable\"><input class=\"sk-toggleable__control sk-hidden--visually\" id=\"e578b6fe-a691-4519-8285-2610fd21cfb7\" type=\"checkbox\" checked><label for=\"e578b6fe-a691-4519-8285-2610fd21cfb7\" class=\"sk-toggleable__label sk-toggleable__label-arrow\">DecisionTreeRegressor</label><div class=\"sk-toggleable__content\"><pre>DecisionTreeRegressor(random_state=42)</pre></div></div></div></div></div>"
            ]
          },
          "metadata": {},
          "execution_count": 197
        }
      ],
      "source": [
        "dec_tree.fit(X_train_processed,y_train)"
      ]
    },
    {
      "cell_type": "code",
      "execution_count": null,
      "metadata": {
        "id": "9HkbivthlAnV"
      },
      "outputs": [],
      "source": [
        "dec_train_pred = dec_tree.predict(X_train_processed)\n",
        "dec_test_pred = dec_tree.predict(X_test_processed)"
      ]
    },
    {
      "cell_type": "code",
      "execution_count": null,
      "metadata": {
        "colab": {
          "base_uri": "https://localhost:8080/"
        },
        "id": "743qBsr9liX9",
        "outputId": "a2ca5aa9-47d9-4743-e6f5-1eaf3b3d4c44"
      },
      "outputs": [
        {
          "output_type": "stream",
          "name": "stdout",
          "text": [
            "1.0\n",
            "0.1795366622091431\n"
          ]
        }
      ],
      "source": [
        "#Evaluate the model\n",
        "dec_train_score = dec_tree.score(X_train_processed,y_train)\n",
        "dec_test_score = dec_tree.score(X_test_processed,y_test)\n",
        "print(dec_train_score)\n",
        "print(dec_test_score)"
      ]
    },
    {
      "cell_type": "code",
      "execution_count": null,
      "metadata": {
        "colab": {
          "base_uri": "https://localhost:8080/"
        },
        "id": "gIbilG0xlmmU",
        "outputId": "76650b91-f226-46d6-a8e5-8c75ae0454b7"
      },
      "outputs": [
        {
          "output_type": "execute_result",
          "data": {
            "text/plain": [
              "40"
            ]
          },
          "metadata": {},
          "execution_count": 200
        }
      ],
      "source": [
        "dec_tree.get_depth()"
      ]
    },
    {
      "cell_type": "code",
      "execution_count": null,
      "metadata": {
        "colab": {
          "base_uri": "https://localhost:8080/"
        },
        "id": "0QcZe3f2lvyb",
        "outputId": "1efe33b2-7996-4369-c070-b2556dd81499"
      },
      "outputs": [
        {
          "output_type": "execute_result",
          "data": {
            "text/plain": [
              "6262"
            ]
          },
          "metadata": {},
          "execution_count": 201
        }
      ],
      "source": [
        "dec_tree.get_n_leaves()"
      ]
    },
    {
      "cell_type": "code",
      "execution_count": null,
      "metadata": {
        "colab": {
          "base_uri": "https://localhost:8080/"
        },
        "id": "2aQ7ln4_lwYP",
        "outputId": "a41bf284-e339-451b-d81c-14078e1791da"
      },
      "outputs": [
        {
          "output_type": "stream",
          "name": "stdout",
          "text": [
            "[2, 3, 4, 5, 6, 7, 8, 9, 10, 11, 12, 13, 14, 15, 16, 17, 18, 19, 20, 21, 22, 23, 24, 25, 26, 27, 28, 29, 30, 31, 32, 33, 34, 35, 36, 37, 38, 39, 40]\n"
          ]
        }
      ],
      "source": [
        "#Get values for values between the 0-20 \n",
        "dec_depths = list(range(2,41)) #every values from 0-20\n",
        "print(dec_depths)\n",
        "#create a dataframe to store the score\n",
        "dec_scores = pd.DataFrame(index=dec_depths, columns=['Test Score','Train Score'])\n",
        "for depth in dec_depths:\n",
        "  dec_tree = DecisionTreeRegressor(max_depth=depth, random_state = 42)\n",
        "  dec_tree.fit(X_train_processed, y_train)\n",
        "  dec_train_score = dec_tree.score(X_train_processed,y_train)\n",
        "  dec_test_score = dec_tree.score(X_test_processed,y_test)\n",
        "  dec_scores.loc[depth, 'Train Score'] = dec_train_score\n",
        "  dec_scores.loc[depth, 'Test Score'] = dec_test_score"
      ]
    },
    {
      "cell_type": "code",
      "execution_count": null,
      "metadata": {
        "colab": {
          "base_uri": "https://localhost:8080/",
          "height": 280
        },
        "id": "USFSRInal1h0",
        "outputId": "47234ef4-b753-45ee-e35d-86512c091ff6"
      },
      "outputs": [
        {
          "output_type": "display_data",
          "data": {
            "text/plain": [
              "<Figure size 432x288 with 1 Axes>"
            ],
            "image/png": "[encoded data removed]"
          },
          "metadata": {
            "needs_background": "light"
          }
        }
      ],
      "source": [
        "plt.plot(dec_depths,dec_scores['Test Score'])\n",
        "plt.xlabel('max_depth')         \n",
        "plt.ylabel('R2');"
      ]
    },
    {
      "cell_type": "code",
      "execution_count": null,
      "metadata": {
        "colab": {
          "base_uri": "https://localhost:8080/",
          "height": 206
        },
        "id": "iHVJ5WyTmC2I",
        "outputId": "6ff19917-a79d-465a-d57a-2508119b06f5"
      },
      "outputs": [
        {
          "output_type": "execute_result",
          "data": {
            "text/plain": [
              "  Test Score Train Score\n",
              "5    0.59471     0.60394\n",
              "4   0.584005    0.582625\n",
              "6   0.582587    0.615072\n",
              "7   0.576544    0.626454\n",
              "8   0.562411    0.642714"
            ],
            "text/html": [
              "\n",
              "  <div id=\"df-cb1cde08-0a4e-4660-9db6-680f0aa66748\">\n",
              "    <div class=\"colab-df-container\">\n",
              "      <div>\n",
              "<style scoped>\n",
              "    .dataframe tbody tr th:only-of-type {\n",
              "        vertical-align: middle;\n",
              "    }\n",
              "\n",
              "    .dataframe tbody tr th {\n",
              "        vertical-align: top;\n",
              "    }\n",
              "\n",
              "    .dataframe thead th {\n",
              "        text-align: right;\n",
              "    }\n",
              "</style>\n",
              "<table border=\"1\" class=\"dataframe\">\n",
              "  <thead>\n",
              "    <tr style=\"text-align: right;\">\n",
              "      <th></th>\n",
              "      <th>Test Score</th>\n",
              "      <th>Train Score</th>\n",
              "    </tr>\n",
              "  </thead>\n",
              "  <tbody>\n",
              "    <tr>\n",
              "      <th>5</th>\n",
              "      <td>0.59471</td>\n",
              "      <td>0.60394</td>\n",
              "    </tr>\n",
              "    <tr>\n",
              "      <th>4</th>\n",
              "      <td>0.584005</td>\n",
              "      <td>0.582625</td>\n",
              "    </tr>\n",
              "    <tr>\n",
              "      <th>6</th>\n",
              "      <td>0.582587</td>\n",
              "      <td>0.615072</td>\n",
              "    </tr>\n",
              "    <tr>\n",
              "      <th>7</th>\n",
              "      <td>0.576544</td>\n",
              "      <td>0.626454</td>\n",
              "    </tr>\n",
              "    <tr>\n",
              "      <th>8</th>\n",
              "      <td>0.562411</td>\n",
              "      <td>0.642714</td>\n",
              "    </tr>\n",
              "  </tbody>\n",
              "</table>\n",
              "</div>\n",
              "      <button class=\"colab-df-convert\" onclick=\"convertToInteractive('df-cb1cde08-0a4e-4660-9db6-680f0aa66748')\"\n",
              "              title=\"Convert this dataframe to an interactive table.\"\n",
              "              style=\"display:none;\">\n",
              "        \n",
              "  <svg xmlns=\"http://www.w3.org/2000/svg\" height=\"24px\"viewBox=\"0 0 24 24\"\n",
              "       width=\"24px\">\n",
              "    <path d=\"M0 0h24v24H0V0z\" fill=\"none\"/>\n",
              "    <path d=\"M18.56 5.44l.94 2.06.94-2.06 2.06-.94-2.06-.94-.94-2.06-.94 2.06-2.06.94zm-11 1L8.5 8.5l.94-2.06 2.06-.94-2.06-.94L8.5 2.5l-.94 2.06-2.06.94zm10 10l.94 2.06.94-2.06 2.06-.94-2.06-.94-.94-2.06-.94 2.06-2.06.94z\"/><path d=\"M17.41 7.96l-1.37-1.37c-.4-.4-.92-.59-1.43-.59-.52 0-1.04.2-1.43.59L10.3 9.45l-7.72 7.72c-.78.78-.78 2.05 0 2.83L4 21.41c.39.39.9.59 1.41.59.51 0 1.02-.2 1.41-.59l7.78-7.78 2.81-2.81c.8-.78.8-2.07 0-2.86zM5.41 20L4 18.59l7.72-7.72 1.47 1.35L5.41 20z\"/>\n",
              "  </svg>\n",
              "      </button>\n",
              "      \n",
              "  <style>\n",
              "    .colab-df-container {\n",
              "      display:flex;\n",
              "      flex-wrap:wrap;\n",
              "      gap: 12px;\n",
              "    }\n",
              "\n",
              "    .colab-df-convert {\n",
              "      background-color: #E8F0FE;\n",
              "      border: none;\n",
              "      border-radius: 50%;\n",
              "      cursor: pointer;\n",
              "      display: none;\n",
              "      fill: #1967D2;\n",
              "      height: 32px;\n",
              "      padding: 0 0 0 0;\n",
              "      width: 32px;\n",
              "    }\n",
              "\n",
              "    .colab-df-convert:hover {\n",
              "      background-color: #E2EBFA;\n",
              "      box-shadow: 0px 1px 2px rgba(60, 64, 67, 0.3), 0px 1px 3px 1px rgba(60, 64, 67, 0.15);\n",
              "      fill: #174EA6;\n",
              "    }\n",
              "\n",
              "    [theme=dark] .colab-df-convert {\n",
              "      background-color: #3B4455;\n",
              "      fill: #D2E3FC;\n",
              "    }\n",
              "\n",
              "    [theme=dark] .colab-df-convert:hover {\n",
              "      background-color: #434B5C;\n",
              "      box-shadow: 0px 1px 3px 1px rgba(0, 0, 0, 0.15);\n",
              "      filter: drop-shadow(0px 1px 2px rgba(0, 0, 0, 0.3));\n",
              "      fill: #FFFFFF;\n",
              "    }\n",
              "  </style>\n",
              "\n",
              "      <script>\n",
              "        const buttonEl =\n",
              "          document.querySelector('#df-cb1cde08-0a4e-4660-9db6-680f0aa66748 button.colab-df-convert');\n",
              "        buttonEl.style.display =\n",
              "          google.colab.kernel.accessAllowed ? 'block' : 'none';\n",
              "\n",
              "        async function convertToInteractive(key) {\n",
              "          const element = document.querySelector('#df-cb1cde08-0a4e-4660-9db6-680f0aa66748');\n",
              "          const dataTable =\n",
              "            await google.colab.kernel.invokeFunction('convertToInteractive',\n",
              "                                                     [key], {});\n",
              "          if (!dataTable) return;\n",
              "\n",
              "          const docLinkHtml = 'Like what you see? Visit the ' +\n",
              "            '<a target=\"_blank\" href=https://colab.research.google.com/notebooks/data_table.ipynb>data table notebook</a>'\n",
              "            + ' to learn more about interactive tables.';\n",
              "          element.innerHTML = '';\n",
              "          dataTable['output_type'] = 'display_data';\n",
              "          await google.colab.output.renderOutput(dataTable, element);\n",
              "          const docLink = document.createElement('div');\n",
              "          docLink.innerHTML = docLinkHtml;\n",
              "          element.appendChild(docLink);\n",
              "        }\n",
              "      </script>\n",
              "    </div>\n",
              "  </div>\n",
              "  "
            ]
          },
          "metadata": {},
          "execution_count": 204
        }
      ],
      "source": [
        "#sort the list\n",
        "dec_sorted_scores = dec_scores.sort_values(by='Test Score', ascending = False)\n",
        "dec_sorted_scores.head()"
      ]
    },
    {
      "cell_type": "code",
      "execution_count": null,
      "metadata": {
        "colab": {
          "base_uri": "https://localhost:8080/"
        },
        "id": "kM0RBmfGmEY_",
        "outputId": "6f1797c2-37d0-407a-bf7d-ec46895487af"
      },
      "outputs": [
        {
          "output_type": "stream",
          "name": "stdout",
          "text": [
            "The Train score is: 0.6039397477322958\n",
            "The Test score is: 0.5947099753159972\n"
          ]
        }
      ],
      "source": [
        "# Run the model with our optimized value for max_depth\n",
        "dec_tree_5 = DecisionTreeRegressor(max_depth = 5, random_state = 42)\n",
        "dec_tree_5.fit(X_train_processed, y_train)\n",
        "train_5_score = dec_tree_5.score(X_train_processed, y_train)\n",
        "test_5_score = dec_tree_5.score(X_test_processed, y_test)\n",
        "print(f'The Train score is: {train_5_score}')\n",
        "print(f'The Test score is: {test_5_score}')\n"
      ]
    },
    {
      "cell_type": "code",
      "execution_count": null,
      "metadata": {
        "colab": {
          "base_uri": "https://localhost:8080/"
        },
        "id": "vXTbJLWuyww6",
        "outputId": "7d6d1116-fe8c-437c-b448-52b8ee8e3ab7"
      },
      "outputs": [
        {
          "output_type": "stream",
          "name": "stdout",
          "text": [
            "MAE 762.6101695559577,\n",
            " MSE 1172122.7729098853,\n",
            " RMSE: 1082.6461900869947,\n",
            " R^2: 0.6039397477322958 \n"
          ]
        }
      ],
      "source": [
        "eval_regression(y_train, dec_tree_5.predict(X_train_processed))"
      ]
    },
    {
      "cell_type": "code",
      "execution_count": null,
      "metadata": {
        "colab": {
          "base_uri": "https://localhost:8080/"
        },
        "id": "ghLEKpCEmOlT",
        "outputId": "b9966a29-4b55-4a45-d499-552c460eec47"
      },
      "outputs": [
        {
          "output_type": "stream",
          "name": "stdout",
          "text": [
            "MAE 738.3173097797824,\n",
            " MSE 1118185.973077762,\n",
            " RMSE: 1057.4431299496734,\n",
            " R^2: 0.5947099753159972 \n"
          ]
        }
      ],
      "source": [
        "eval_regression(y_test, dec_tree_5.predict(X_test_processed))"
      ]
    },
    {
      "cell_type": "markdown",
      "source": [
        "- The model is showing about 60.39% of the variance on the target on the training set and 59.47% of the vairance on the target on the test set. The model has a bit a medium bias as the R2 number is sitting around 60%. There could be some outside variables that may be causing the model to not predict as well."
      ],
      "metadata": {
        "id": "oegFEaoRuXsY"
      }
    },
    {
      "cell_type": "markdown",
      "metadata": {
        "id": "_IpV6ZrpoGXG"
      },
      "source": [
        "# Regression Tree Model - Bagged Tree Model\n",
        "\n"
      ]
    },
    {
      "cell_type": "code",
      "execution_count": null,
      "metadata": {
        "id": "VNJFtlaxoc2w"
      },
      "outputs": [],
      "source": [
        "from sklearn.ensemble import BaggingRegressor #import bagging regressor\n",
        "bagreg = BaggingRegressor(random_state=42)"
      ]
    },
    {
      "cell_type": "code",
      "execution_count": null,
      "metadata": {
        "colab": {
          "base_uri": "https://localhost:8080/",
          "height": 75
        },
        "id": "HTxjxPqnoe2q",
        "outputId": "e6e9468a-9e27-4ff9-e9ed-f85a4a7d717c"
      },
      "outputs": [
        {
          "output_type": "execute_result",
          "data": {
            "text/plain": [
              "BaggingRegressor(random_state=42)"
            ],
            "text/html": [
              "<style>#sk-1e2bd1ac-c709-4b70-8620-784d1b04ea3a {color: black;background-color: white;}#sk-1e2bd1ac-c709-4b70-8620-784d1b04ea3a pre{padding: 0;}#sk-1e2bd1ac-c709-4b70-8620-784d1b04ea3a div.sk-toggleable {background-color: white;}#sk-1e2bd1ac-c709-4b70-8620-784d1b04ea3a label.sk-toggleable__label {cursor: pointer;display: block;width: 100%;margin-bottom: 0;padding: 0.3em;box-sizing: border-box;text-align: center;}#sk-1e2bd1ac-c709-4b70-8620-784d1b04ea3a label.sk-toggleable__label-arrow:before {content: \"▸\";float: left;margin-right: 0.25em;color: #696969;}#sk-1e2bd1ac-c709-4b70-8620-784d1b04ea3a label.sk-toggleable__label-arrow:hover:before {color: black;}#sk-1e2bd1ac-c709-4b70-8620-784d1b04ea3a div.sk-estimator:hover label.sk-toggleable__label-arrow:before {color: black;}#sk-1e2bd1ac-c709-4b70-8620-784d1b04ea3a div.sk-toggleable__content {max-height: 0;max-width: 0;overflow: hidden;text-align: left;background-color: #f0f8ff;}#sk-1e2bd1ac-c709-4b70-8620-784d1b04ea3a div.sk-toggleable__content pre {margin: 0.2em;color: black;border-radius: 0.25em;background-color: #f0f8ff;}#sk-1e2bd1ac-c709-4b70-8620-784d1b04ea3a input.sk-toggleable__control:checked~div.sk-toggleable__content {max-height: 200px;max-width: 100%;overflow: auto;}#sk-1e2bd1ac-c709-4b70-8620-784d1b04ea3a input.sk-toggleable__control:checked~label.sk-toggleable__label-arrow:before {content: \"▾\";}#sk-1e2bd1ac-c709-4b70-8620-784d1b04ea3a div.sk-estimator input.sk-toggleable__control:checked~label.sk-toggleable__label {background-color: #d4ebff;}#sk-1e2bd1ac-c709-4b70-8620-784d1b04ea3a div.sk-label input.sk-toggleable__control:checked~label.sk-toggleable__label {background-color: #d4ebff;}#sk-1e2bd1ac-c709-4b70-8620-784d1b04ea3a input.sk-hidden--visually {border: 0;clip: rect(1px 1px 1px 1px);clip: rect(1px, 1px, 1px, 1px);height: 1px;margin: -1px;overflow: hidden;padding: 0;position: absolute;width: 1px;}#sk-1e2bd1ac-c709-4b70-8620-784d1b04ea3a div.sk-estimator {font-family: monospace;background-color: #f0f8ff;border: 1px dotted black;border-radius: 0.25em;box-sizing: border-box;margin-bottom: 0.5em;}#sk-1e2bd1ac-c709-4b70-8620-784d1b04ea3a div.sk-estimator:hover {background-color: #d4ebff;}#sk-1e2bd1ac-c709-4b70-8620-784d1b04ea3a div.sk-parallel-item::after {content: \"\";width: 100%;border-bottom: 1px solid gray;flex-grow: 1;}#sk-1e2bd1ac-c709-4b70-8620-784d1b04ea3a div.sk-label:hover label.sk-toggleable__label {background-color: #d4ebff;}#sk-1e2bd1ac-c709-4b70-8620-784d1b04ea3a div.sk-serial::before {content: \"\";position: absolute;border-left: 1px solid gray;box-sizing: border-box;top: 2em;bottom: 0;left: 50%;}#sk-1e2bd1ac-c709-4b70-8620-784d1b04ea3a div.sk-serial {display: flex;flex-direction: column;align-items: center;background-color: white;padding-right: 0.2em;padding-left: 0.2em;}#sk-1e2bd1ac-c709-4b70-8620-784d1b04ea3a div.sk-item {z-index: 1;}#sk-1e2bd1ac-c709-4b70-8620-784d1b04ea3a div.sk-parallel {display: flex;align-items: stretch;justify-content: center;background-color: white;}#sk-1e2bd1ac-c709-4b70-8620-784d1b04ea3a div.sk-parallel::before {content: \"\";position: absolute;border-left: 1px solid gray;box-sizing: border-box;top: 2em;bottom: 0;left: 50%;}#sk-1e2bd1ac-c709-4b70-8620-784d1b04ea3a div.sk-parallel-item {display: flex;flex-direction: column;position: relative;background-color: white;}#sk-1e2bd1ac-c709-4b70-8620-784d1b04ea3a div.sk-parallel-item:first-child::after {align-self: flex-end;width: 50%;}#sk-1e2bd1ac-c709-4b70-8620-784d1b04ea3a div.sk-parallel-item:last-child::after {align-self: flex-start;width: 50%;}#sk-1e2bd1ac-c709-4b70-8620-784d1b04ea3a div.sk-parallel-item:only-child::after {width: 0;}#sk-1e2bd1ac-c709-4b70-8620-784d1b04ea3a div.sk-dashed-wrapped {border: 1px dashed gray;margin: 0 0.4em 0.5em 0.4em;box-sizing: border-box;padding-bottom: 0.4em;background-color: white;position: relative;}#sk-1e2bd1ac-c709-4b70-8620-784d1b04ea3a div.sk-label label {font-family: monospace;font-weight: bold;background-color: white;display: inline-block;line-height: 1.2em;}#sk-1e2bd1ac-c709-4b70-8620-784d1b04ea3a div.sk-label-container {position: relative;z-index: 2;text-align: center;}#sk-1e2bd1ac-c709-4b70-8620-784d1b04ea3a div.sk-container {/* jupyter's `normalize.less` sets `[hidden] { display: none; }` but bootstrap.min.css set `[hidden] { display: none !important; }` so we also need the `!important` here to be able to override the default hidden behavior on the sphinx rendered scikit-learn.org. See: https://github.com/scikit-learn/scikit-learn/issues/21755 */display: inline-block !important;position: relative;}#sk-1e2bd1ac-c709-4b70-8620-784d1b04ea3a div.sk-text-repr-fallback {display: none;}</style><div id=\"sk-1e2bd1ac-c709-4b70-8620-784d1b04ea3a\" class=\"sk-top-container\"><div class=\"sk-text-repr-fallback\"><pre>BaggingRegressor(random_state=42)</pre><b>Please rerun this cell to show the HTML repr or trust the notebook.</b></div><div class=\"sk-container\" hidden><div class=\"sk-item\"><div class=\"sk-estimator sk-toggleable\"><input class=\"sk-toggleable__control sk-hidden--visually\" id=\"4fa0944d-9a2e-450e-b776-c79d2626ca8e\" type=\"checkbox\" checked><label for=\"4fa0944d-9a2e-450e-b776-c79d2626ca8e\" class=\"sk-toggleable__label sk-toggleable__label-arrow\">BaggingRegressor</label><div class=\"sk-toggleable__content\"><pre>BaggingRegressor(random_state=42)</pre></div></div></div></div></div>"
            ]
          },
          "metadata": {},
          "execution_count": 209
        }
      ],
      "source": [
        "bagreg.fit(X_train_processed,y_train)"
      ]
    },
    {
      "cell_type": "code",
      "execution_count": null,
      "metadata": {
        "id": "VN2xTblO03wj"
      },
      "outputs": [],
      "source": [
        "#predict bag on TRAIN SET\n",
        "bagreg_pred_train = bagreg.predict(X_train_processed)"
      ]
    },
    {
      "cell_type": "code",
      "execution_count": null,
      "metadata": {
        "id": "GV7OnBJXonOK"
      },
      "outputs": [],
      "source": [
        "#predict bag on TEST SET\n",
        "bagreg_pred_test = bagreg.predict(X_test_processed)"
      ]
    },
    {
      "cell_type": "code",
      "execution_count": null,
      "metadata": {
        "colab": {
          "base_uri": "https://localhost:8080/"
        },
        "id": "X8px6JXroqQj",
        "outputId": "5d5c88f0-cc38-4920-c3f8-c9ac7f5fd0b8"
      },
      "outputs": [
        {
          "output_type": "stream",
          "name": "stdout",
          "text": [
            "0.9176333699160624\n",
            "0.5263969071947812\n"
          ]
        }
      ],
      "source": [
        "#Evaluate the model\n",
        "bagreg_train_score = bagreg.score(X_train_processed,y_train)\n",
        "bagreg_test_score = bagreg.score(X_test_processed, y_test)\n",
        "print(bagreg_train_score)\n",
        "print(bagreg_test_score)"
      ]
    },
    {
      "cell_type": "code",
      "execution_count": null,
      "metadata": {
        "id": "8keSaqdGovLC"
      },
      "outputs": [],
      "source": [
        "#estimator values\n",
        "estimators = [10,50,60,70,80,90,100,130,140,150,200,210,220,230]\n",
        "bagreg_scores = pd.DataFrame(index=estimators,columns=['Train Score','Test Score'])\n",
        "\n",
        "for num_estimators in estimators:\n",
        "  bagreg = BaggingRegressor(n_estimators=num_estimators, random_state=42)\n",
        "  bagreg.fit(X_train_processed,y_train)\n",
        "  bagreg_train_score = bagreg.score(X_train_processed,y_train)\n",
        "  bagreg_test_score = bagreg.score(X_test_processed,y_test)\n",
        "  bagreg_scores.loc[num_estimators, 'Train Score'] = bagreg_train_score\n",
        "  bagreg_scores.loc[num_estimators, 'Test Score'] = bagreg_test_score"
      ]
    },
    {
      "cell_type": "code",
      "source": [
        "plt.plot(bagreg_scores['Test Score']);"
      ],
      "metadata": {
        "colab": {
          "base_uri": "https://localhost:8080/",
          "height": 265
        },
        "id": "GzKE03cYUdL5",
        "outputId": "5c994cbf-b579-448a-c3de-45a72ead5c26"
      },
      "execution_count": null,
      "outputs": [
        {
          "output_type": "display_data",
          "data": {
            "text/plain": [
              "<Figure size 432x288 with 1 Axes>"
            ],
            "image/png": "[encoded data removed]"
          },
          "metadata": {
            "needs_background": "light"
          }
        }
      ]
    },
    {
      "cell_type": "code",
      "execution_count": null,
      "metadata": {
        "colab": {
          "base_uri": "https://localhost:8080/",
          "height": 488
        },
        "id": "VPv2M3bZzfQR",
        "outputId": "f25d0ade-50ca-4ea1-83b9-cdb325e01d7c"
      },
      "outputs": [
        {
          "output_type": "execute_result",
          "data": {
            "text/plain": [
              "    Train Score Test Score\n",
              "140    0.938403   0.552857\n",
              "150    0.938411   0.552667\n",
              "210    0.938922   0.552342\n",
              "200    0.938903   0.551977\n",
              "130    0.938101   0.551948\n",
              "100    0.937434   0.551831\n",
              "220    0.938994   0.551769\n",
              "230    0.938985   0.551346\n",
              "90     0.937055   0.550732\n",
              "80     0.936773   0.549552\n",
              "70     0.936109   0.549108\n",
              "60     0.935463   0.548684\n",
              "50     0.934672   0.547815\n",
              "10     0.917633   0.526397"
            ],
            "text/html": [
              "\n",
              "  <div id=\"df-9946f0a2-b428-4c36-9bd9-4aa90b2da282\">\n",
              "    <div class=\"colab-df-container\">\n",
              "      <div>\n",
              "<style scoped>\n",
              "    .dataframe tbody tr th:only-of-type {\n",
              "        vertical-align: middle;\n",
              "    }\n",
              "\n",
              "    .dataframe tbody tr th {\n",
              "        vertical-align: top;\n",
              "    }\n",
              "\n",
              "    .dataframe thead th {\n",
              "        text-align: right;\n",
              "    }\n",
              "</style>\n",
              "<table border=\"1\" class=\"dataframe\">\n",
              "  <thead>\n",
              "    <tr style=\"text-align: right;\">\n",
              "      <th></th>\n",
              "      <th>Train Score</th>\n",
              "      <th>Test Score</th>\n",
              "    </tr>\n",
              "  </thead>\n",
              "  <tbody>\n",
              "    <tr>\n",
              "      <th>140</th>\n",
              "      <td>0.938403</td>\n",
              "      <td>0.552857</td>\n",
              "    </tr>\n",
              "    <tr>\n",
              "      <th>150</th>\n",
              "      <td>0.938411</td>\n",
              "      <td>0.552667</td>\n",
              "    </tr>\n",
              "    <tr>\n",
              "      <th>210</th>\n",
              "      <td>0.938922</td>\n",
              "      <td>0.552342</td>\n",
              "    </tr>\n",
              "    <tr>\n",
              "      <th>200</th>\n",
              "      <td>0.938903</td>\n",
              "      <td>0.551977</td>\n",
              "    </tr>\n",
              "    <tr>\n",
              "      <th>130</th>\n",
              "      <td>0.938101</td>\n",
              "      <td>0.551948</td>\n",
              "    </tr>\n",
              "    <tr>\n",
              "      <th>100</th>\n",
              "      <td>0.937434</td>\n",
              "      <td>0.551831</td>\n",
              "    </tr>\n",
              "    <tr>\n",
              "      <th>220</th>\n",
              "      <td>0.938994</td>\n",
              "      <td>0.551769</td>\n",
              "    </tr>\n",
              "    <tr>\n",
              "      <th>230</th>\n",
              "      <td>0.938985</td>\n",
              "      <td>0.551346</td>\n",
              "    </tr>\n",
              "    <tr>\n",
              "      <th>90</th>\n",
              "      <td>0.937055</td>\n",
              "      <td>0.550732</td>\n",
              "    </tr>\n",
              "    <tr>\n",
              "      <th>80</th>\n",
              "      <td>0.936773</td>\n",
              "      <td>0.549552</td>\n",
              "    </tr>\n",
              "    <tr>\n",
              "      <th>70</th>\n",
              "      <td>0.936109</td>\n",
              "      <td>0.549108</td>\n",
              "    </tr>\n",
              "    <tr>\n",
              "      <th>60</th>\n",
              "      <td>0.935463</td>\n",
              "      <td>0.548684</td>\n",
              "    </tr>\n",
              "    <tr>\n",
              "      <th>50</th>\n",
              "      <td>0.934672</td>\n",
              "      <td>0.547815</td>\n",
              "    </tr>\n",
              "    <tr>\n",
              "      <th>10</th>\n",
              "      <td>0.917633</td>\n",
              "      <td>0.526397</td>\n",
              "    </tr>\n",
              "  </tbody>\n",
              "</table>\n",
              "</div>\n",
              "      <button class=\"colab-df-convert\" onclick=\"convertToInteractive('df-9946f0a2-b428-4c36-9bd9-4aa90b2da282')\"\n",
              "              title=\"Convert this dataframe to an interactive table.\"\n",
              "              style=\"display:none;\">\n",
              "        \n",
              "  <svg xmlns=\"http://www.w3.org/2000/svg\" height=\"24px\"viewBox=\"0 0 24 24\"\n",
              "       width=\"24px\">\n",
              "    <path d=\"M0 0h24v24H0V0z\" fill=\"none\"/>\n",
              "    <path d=\"M18.56 5.44l.94 2.06.94-2.06 2.06-.94-2.06-.94-.94-2.06-.94 2.06-2.06.94zm-11 1L8.5 8.5l.94-2.06 2.06-.94-2.06-.94L8.5 2.5l-.94 2.06-2.06.94zm10 10l.94 2.06.94-2.06 2.06-.94-2.06-.94-.94-2.06-.94 2.06-2.06.94z\"/><path d=\"M17.41 7.96l-1.37-1.37c-.4-.4-.92-.59-1.43-.59-.52 0-1.04.2-1.43.59L10.3 9.45l-7.72 7.72c-.78.78-.78 2.05 0 2.83L4 21.41c.39.39.9.59 1.41.59.51 0 1.02-.2 1.41-.59l7.78-7.78 2.81-2.81c.8-.78.8-2.07 0-2.86zM5.41 20L4 18.59l7.72-7.72 1.47 1.35L5.41 20z\"/>\n",
              "  </svg>\n",
              "      </button>\n",
              "      \n",
              "  <style>\n",
              "    .colab-df-container {\n",
              "      display:flex;\n",
              "      flex-wrap:wrap;\n",
              "      gap: 12px;\n",
              "    }\n",
              "\n",
              "    .colab-df-convert {\n",
              "      background-color: #E8F0FE;\n",
              "      border: none;\n",
              "      border-radius: 50%;\n",
              "      cursor: pointer;\n",
              "      display: none;\n",
              "      fill: #1967D2;\n",
              "      height: 32px;\n",
              "      padding: 0 0 0 0;\n",
              "      width: 32px;\n",
              "    }\n",
              "\n",
              "    .colab-df-convert:hover {\n",
              "      background-color: #E2EBFA;\n",
              "      box-shadow: 0px 1px 2px rgba(60, 64, 67, 0.3), 0px 1px 3px 1px rgba(60, 64, 67, 0.15);\n",
              "      fill: #174EA6;\n",
              "    }\n",
              "\n",
              "    [theme=dark] .colab-df-convert {\n",
              "      background-color: #3B4455;\n",
              "      fill: #D2E3FC;\n",
              "    }\n",
              "\n",
              "    [theme=dark] .colab-df-convert:hover {\n",
              "      background-color: #434B5C;\n",
              "      box-shadow: 0px 1px 3px 1px rgba(0, 0, 0, 0.15);\n",
              "      filter: drop-shadow(0px 1px 2px rgba(0, 0, 0, 0.3));\n",
              "      fill: #FFFFFF;\n",
              "    }\n",
              "  </style>\n",
              "\n",
              "      <script>\n",
              "        const buttonEl =\n",
              "          document.querySelector('#df-9946f0a2-b428-4c36-9bd9-4aa90b2da282 button.colab-df-convert');\n",
              "        buttonEl.style.display =\n",
              "          google.colab.kernel.accessAllowed ? 'block' : 'none';\n",
              "\n",
              "        async function convertToInteractive(key) {\n",
              "          const element = document.querySelector('#df-9946f0a2-b428-4c36-9bd9-4aa90b2da282');\n",
              "          const dataTable =\n",
              "            await google.colab.kernel.invokeFunction('convertToInteractive',\n",
              "                                                     [key], {});\n",
              "          if (!dataTable) return;\n",
              "\n",
              "          const docLinkHtml = 'Like what you see? Visit the ' +\n",
              "            '<a target=\"_blank\" href=https://colab.research.google.com/notebooks/data_table.ipynb>data table notebook</a>'\n",
              "            + ' to learn more about interactive tables.';\n",
              "          element.innerHTML = '';\n",
              "          dataTable['output_type'] = 'display_data';\n",
              "          await google.colab.output.renderOutput(dataTable, element);\n",
              "          const docLink = document.createElement('div');\n",
              "          docLink.innerHTML = docLinkHtml;\n",
              "          element.appendChild(docLink);\n",
              "        }\n",
              "      </script>\n",
              "    </div>\n",
              "  </div>\n",
              "  "
            ]
          },
          "metadata": {},
          "execution_count": 227
        }
      ],
      "source": [
        "bagreg_scores = bagreg_scores.sort_values(by='Test Score', ascending = False)\n",
        "bagreg_scores"
      ]
    },
    {
      "cell_type": "code",
      "execution_count": null,
      "metadata": {
        "colab": {
          "base_uri": "https://localhost:8080/"
        },
        "id": "1R2ybiFszp2V",
        "outputId": "ddaf5818-613d-4078-a7ea-1674435b72c0"
      },
      "outputs": [
        {
          "output_type": "stream",
          "name": "stdout",
          "text": [
            "The Train score is: 0.9382215037204403\n",
            "The Test score is: 0.552649901934082\n"
          ]
        }
      ],
      "source": [
        "# instantiate and fit the best version of the model\n",
        "bag_reg_tuned = BaggingRegressor(n_estimators = 140)\n",
        "bag_reg_tuned.fit(X_train_processed,y_train)\n",
        "\n",
        "# Evaluate the model \n",
        "print(f'The Train score is:', bag_reg_tuned.score(X_train_processed, y_train))\n",
        "print(f'The Test score is:', bag_reg_tuned.score(X_test_processed, y_test))"
      ]
    },
    {
      "cell_type": "code",
      "execution_count": null,
      "metadata": {
        "colab": {
          "base_uri": "https://localhost:8080/"
        },
        "id": "I2Az5ACk0k1R",
        "outputId": "4ac0343b-278a-408d-e151-a01d36ea4332"
      },
      "outputs": [
        {
          "output_type": "stream",
          "name": "stdout",
          "text": [
            "MAE 297.3672938288933,\n",
            " MSE 182830.72323161573,\n",
            " RMSE: 427.58709432303465,\n",
            " R^2: 0.9382215037204403 \n"
          ]
        }
      ],
      "source": [
        "eval_regression(y_train, bag_reg_tuned.predict(X_train_processed))"
      ]
    },
    {
      "cell_type": "code",
      "execution_count": null,
      "metadata": {
        "colab": {
          "background_save": true
        },
        "id": "C5jMRyfq1LF3",
        "outputId": "7cc745b7-a96e-4d8b-a5e8-6b8d62c0669d"
      },
      "outputs": [
        {
          "name": "stdout",
          "output_type": "stream",
          "text": [
            "MAE 787.3789541999062,\n",
            " MSE 1306660.176484586,\n",
            " RMSE: 1143.0923744319994,\n",
            " R^2: 0.5263969071947812 \n"
          ]
        }
      ],
      "source": [
        "eval_regression(y_train, bag_reg_tuned.predict(X_test_processed))"
      ]
    },
    {
      "cell_type": "markdown",
      "source": [
        "- The model is showing about 93.82% of the variance on the target on the training set and 52.64% of the vairance on the target on the test set. The model is overfitting as it has a high R2 score for the training set and a much lower R2 for the test set."
      ],
      "metadata": {
        "id": "zmcjduNgufqF"
      }
    },
    {
      "cell_type": "markdown",
      "metadata": {
        "id": "OTAyR7jG1Xq9"
      },
      "source": [
        "# Regression Tree Model - Random Forest Model"
      ]
    },
    {
      "cell_type": "code",
      "execution_count": null,
      "metadata": {
        "id": "NRRnmXg612WQ"
      },
      "outputs": [],
      "source": [
        "from sklearn.ensemble import RandomForestRegressor\n",
        "rf = RandomForestRegressor(random_state = 42)"
      ]
    },
    {
      "cell_type": "code",
      "execution_count": null,
      "metadata": {
        "colab": {
          "base_uri": "https://localhost:8080/",
          "height": 75
        },
        "id": "uhvjTulm19Hr",
        "outputId": "0fdce011-4771-440f-9a2e-d404daf11faf"
      },
      "outputs": [
        {
          "output_type": "execute_result",
          "data": {
            "text/plain": [
              "RandomForestRegressor(random_state=42)"
            ],
            "text/html": [
              "<style>#sk-cd1a8729-1f4c-4d1f-bb56-548360e45a4b {color: black;background-color: white;}#sk-cd1a8729-1f4c-4d1f-bb56-548360e45a4b pre{padding: 0;}#sk-cd1a8729-1f4c-4d1f-bb56-548360e45a4b div.sk-toggleable {background-color: white;}#sk-cd1a8729-1f4c-4d1f-bb56-548360e45a4b label.sk-toggleable__label {cursor: pointer;display: block;width: 100%;margin-bottom: 0;padding: 0.3em;box-sizing: border-box;text-align: center;}#sk-cd1a8729-1f4c-4d1f-bb56-548360e45a4b label.sk-toggleable__label-arrow:before {content: \"▸\";float: left;margin-right: 0.25em;color: #696969;}#sk-cd1a8729-1f4c-4d1f-bb56-548360e45a4b label.sk-toggleable__label-arrow:hover:before {color: black;}#sk-cd1a8729-1f4c-4d1f-bb56-548360e45a4b div.sk-estimator:hover label.sk-toggleable__label-arrow:before {color: black;}#sk-cd1a8729-1f4c-4d1f-bb56-548360e45a4b div.sk-toggleable__content {max-height: 0;max-width: 0;overflow: hidden;text-align: left;background-color: #f0f8ff;}#sk-cd1a8729-1f4c-4d1f-bb56-548360e45a4b div.sk-toggleable__content pre {margin: 0.2em;color: black;border-radius: 0.25em;background-color: #f0f8ff;}#sk-cd1a8729-1f4c-4d1f-bb56-548360e45a4b input.sk-toggleable__control:checked~div.sk-toggleable__content {max-height: 200px;max-width: 100%;overflow: auto;}#sk-cd1a8729-1f4c-4d1f-bb56-548360e45a4b input.sk-toggleable__control:checked~label.sk-toggleable__label-arrow:before {content: \"▾\";}#sk-cd1a8729-1f4c-4d1f-bb56-548360e45a4b div.sk-estimator input.sk-toggleable__control:checked~label.sk-toggleable__label {background-color: #d4ebff;}#sk-cd1a8729-1f4c-4d1f-bb56-548360e45a4b div.sk-label input.sk-toggleable__control:checked~label.sk-toggleable__label {background-color: #d4ebff;}#sk-cd1a8729-1f4c-4d1f-bb56-548360e45a4b input.sk-hidden--visually {border: 0;clip: rect(1px 1px 1px 1px);clip: rect(1px, 1px, 1px, 1px);height: 1px;margin: -1px;overflow: hidden;padding: 0;position: absolute;width: 1px;}#sk-cd1a8729-1f4c-4d1f-bb56-548360e45a4b div.sk-estimator {font-family: monospace;background-color: #f0f8ff;border: 1px dotted black;border-radius: 0.25em;box-sizing: border-box;margin-bottom: 0.5em;}#sk-cd1a8729-1f4c-4d1f-bb56-548360e45a4b div.sk-estimator:hover {background-color: #d4ebff;}#sk-cd1a8729-1f4c-4d1f-bb56-548360e45a4b div.sk-parallel-item::after {content: \"\";width: 100%;border-bottom: 1px solid gray;flex-grow: 1;}#sk-cd1a8729-1f4c-4d1f-bb56-548360e45a4b div.sk-label:hover label.sk-toggleable__label {background-color: #d4ebff;}#sk-cd1a8729-1f4c-4d1f-bb56-548360e45a4b div.sk-serial::before {content: \"\";position: absolute;border-left: 1px solid gray;box-sizing: border-box;top: 2em;bottom: 0;left: 50%;}#sk-cd1a8729-1f4c-4d1f-bb56-548360e45a4b div.sk-serial {display: flex;flex-direction: column;align-items: center;background-color: white;padding-right: 0.2em;padding-left: 0.2em;}#sk-cd1a8729-1f4c-4d1f-bb56-548360e45a4b div.sk-item {z-index: 1;}#sk-cd1a8729-1f4c-4d1f-bb56-548360e45a4b div.sk-parallel {display: flex;align-items: stretch;justify-content: center;background-color: white;}#sk-cd1a8729-1f4c-4d1f-bb56-548360e45a4b div.sk-parallel::before {content: \"\";position: absolute;border-left: 1px solid gray;box-sizing: border-box;top: 2em;bottom: 0;left: 50%;}#sk-cd1a8729-1f4c-4d1f-bb56-548360e45a4b div.sk-parallel-item {display: flex;flex-direction: column;position: relative;background-color: white;}#sk-cd1a8729-1f4c-4d1f-bb56-548360e45a4b div.sk-parallel-item:first-child::after {align-self: flex-end;width: 50%;}#sk-cd1a8729-1f4c-4d1f-bb56-548360e45a4b div.sk-parallel-item:last-child::after {align-self: flex-start;width: 50%;}#sk-cd1a8729-1f4c-4d1f-bb56-548360e45a4b div.sk-parallel-item:only-child::after {width: 0;}#sk-cd1a8729-1f4c-4d1f-bb56-548360e45a4b div.sk-dashed-wrapped {border: 1px dashed gray;margin: 0 0.4em 0.5em 0.4em;box-sizing: border-box;padding-bottom: 0.4em;background-color: white;position: relative;}#sk-cd1a8729-1f4c-4d1f-bb56-548360e45a4b div.sk-label label {font-family: monospace;font-weight: bold;background-color: white;display: inline-block;line-height: 1.2em;}#sk-cd1a8729-1f4c-4d1f-bb56-548360e45a4b div.sk-label-container {position: relative;z-index: 2;text-align: center;}#sk-cd1a8729-1f4c-4d1f-bb56-548360e45a4b div.sk-container {/* jupyter's `normalize.less` sets `[hidden] { display: none; }` but bootstrap.min.css set `[hidden] { display: none !important; }` so we also need the `!important` here to be able to override the default hidden behavior on the sphinx rendered scikit-learn.org. See: https://github.com/scikit-learn/scikit-learn/issues/21755 */display: inline-block !important;position: relative;}#sk-cd1a8729-1f4c-4d1f-bb56-548360e45a4b div.sk-text-repr-fallback {display: none;}</style><div id=\"sk-cd1a8729-1f4c-4d1f-bb56-548360e45a4b\" class=\"sk-top-container\"><div class=\"sk-text-repr-fallback\"><pre>RandomForestRegressor(random_state=42)</pre><b>Please rerun this cell to show the HTML repr or trust the notebook.</b></div><div class=\"sk-container\" hidden><div class=\"sk-item\"><div class=\"sk-estimator sk-toggleable\"><input class=\"sk-toggleable__control sk-hidden--visually\" id=\"ceb2c262-2ba1-4bdc-a9cf-e9c92832d637\" type=\"checkbox\" checked><label for=\"ceb2c262-2ba1-4bdc-a9cf-e9c92832d637\" class=\"sk-toggleable__label sk-toggleable__label-arrow\">RandomForestRegressor</label><div class=\"sk-toggleable__content\"><pre>RandomForestRegressor(random_state=42)</pre></div></div></div></div></div>"
            ]
          },
          "metadata": {},
          "execution_count": 232
        }
      ],
      "source": [
        "rf.fit(X_train_processed, y_train)"
      ]
    },
    {
      "cell_type": "code",
      "execution_count": null,
      "metadata": {
        "id": "Ah7tjNAM2IeW"
      },
      "outputs": [],
      "source": [
        "rf_pred_train = rf.predict(X_train_processed)\n",
        "rf_pred_test = rf.predict(X_test_processed)"
      ]
    },
    {
      "cell_type": "code",
      "execution_count": null,
      "metadata": {
        "colab": {
          "base_uri": "https://localhost:8080/"
        },
        "id": "QNGuNt482Q7X",
        "outputId": "3f5c5002-f806-4b9a-eb89-cfdf75eda313"
      },
      "outputs": [
        {
          "output_type": "stream",
          "name": "stdout",
          "text": [
            "0.9376795944001952\n",
            "0.5510855566019801\n"
          ]
        }
      ],
      "source": [
        "#Evaluate the model\n",
        "rf_train_score = rf.score(X_train_processed, y_train)\n",
        "rf_test_score = rf.score(X_test_processed, y_test)\n",
        "print(rf_train_score)\n",
        "print(rf_test_score)"
      ]
    },
    {
      "cell_type": "code",
      "execution_count": null,
      "metadata": {
        "colab": {
          "base_uri": "https://localhost:8080/"
        },
        "id": "gktCkDkC2c-M",
        "outputId": "dc5d951e-05da-418f-9ef9-b097206ebf45"
      },
      "outputs": [
        {
          "output_type": "execute_result",
          "data": {
            "text/plain": [
              "42"
            ]
          },
          "metadata": {},
          "execution_count": 235
        }
      ],
      "source": [
        "#Get the max depth \n",
        "est_depths = [estimator.get_depth() for estimator in rf.estimators_]\n",
        "max(est_depths)\n"
      ]
    },
    {
      "cell_type": "code",
      "execution_count": null,
      "metadata": {
        "id": "MlCMHFtR2jYc"
      },
      "outputs": [],
      "source": [
        "rf_depths = range(1, max(est_depths))\n",
        "rf_scores = pd.DataFrame(index=rf_depths, columns=['Test Score'])\n",
        "for depth in rf_depths:    \n",
        "   model = RandomForestRegressor(max_depth=depth)\n",
        "   model.fit(X_train_processed, y_train)\n",
        "   rf_scores.loc[depth, 'Train Score'] = model.score(X_train_processed, y_train)\n",
        "   rf_scores.loc[depth, 'Test Score'] = model.score(X_test_processed, y_test)\n",
        "   rf_scores.head()\n"
      ]
    },
    {
      "cell_type": "code",
      "execution_count": null,
      "metadata": {
        "colab": {
          "base_uri": "https://localhost:8080/",
          "height": 265
        },
        "id": "hzMp5VCo3wBN",
        "outputId": "1445b86a-a595-4dd5-859f-08596a304d5c"
      },
      "outputs": [
        {
          "output_type": "display_data",
          "data": {
            "text/plain": [
              "<Figure size 432x288 with 1 Axes>"
            ],
            "image/png": "[encoded data removed]"
          },
          "metadata": {
            "needs_background": "light"
          }
        }
      ],
      "source": [
        "plt.plot(dec_depths,dec_scores['Test Score']);"
      ]
    },
    {
      "cell_type": "code",
      "execution_count": null,
      "metadata": {
        "colab": {
          "base_uri": "https://localhost:8080/",
          "height": 206
        },
        "id": "q9s1mVCD317K",
        "outputId": "cc6db881-acc9-4bcd-9725-38c0eded7423"
      },
      "outputs": [
        {
          "output_type": "execute_result",
          "data": {
            "text/plain": [
              "  Test Score  Train Score\n",
              "5   0.603317     0.610297\n",
              "6   0.601245     0.624702\n",
              "7   0.598444     0.642526\n",
              "4   0.597782     0.596357\n",
              "8   0.594532     0.663553"
            ],
            "text/html": [
              "\n",
              "  <div id=\"df-d3d25450-68ca-4602-a669-30c1f58a4e13\">\n",
              "    <div class=\"colab-df-container\">\n",
              "      <div>\n",
              "<style scoped>\n",
              "    .dataframe tbody tr th:only-of-type {\n",
              "        vertical-align: middle;\n",
              "    }\n",
              "\n",
              "    .dataframe tbody tr th {\n",
              "        vertical-align: top;\n",
              "    }\n",
              "\n",
              "    .dataframe thead th {\n",
              "        text-align: right;\n",
              "    }\n",
              "</style>\n",
              "<table border=\"1\" class=\"dataframe\">\n",
              "  <thead>\n",
              "    <tr style=\"text-align: right;\">\n",
              "      <th></th>\n",
              "      <th>Test Score</th>\n",
              "      <th>Train Score</th>\n",
              "    </tr>\n",
              "  </thead>\n",
              "  <tbody>\n",
              "    <tr>\n",
              "      <th>5</th>\n",
              "      <td>0.603317</td>\n",
              "      <td>0.610297</td>\n",
              "    </tr>\n",
              "    <tr>\n",
              "      <th>6</th>\n",
              "      <td>0.601245</td>\n",
              "      <td>0.624702</td>\n",
              "    </tr>\n",
              "    <tr>\n",
              "      <th>7</th>\n",
              "      <td>0.598444</td>\n",
              "      <td>0.642526</td>\n",
              "    </tr>\n",
              "    <tr>\n",
              "      <th>4</th>\n",
              "      <td>0.597782</td>\n",
              "      <td>0.596357</td>\n",
              "    </tr>\n",
              "    <tr>\n",
              "      <th>8</th>\n",
              "      <td>0.594532</td>\n",
              "      <td>0.663553</td>\n",
              "    </tr>\n",
              "  </tbody>\n",
              "</table>\n",
              "</div>\n",
              "      <button class=\"colab-df-convert\" onclick=\"convertToInteractive('df-d3d25450-68ca-4602-a669-30c1f58a4e13')\"\n",
              "              title=\"Convert this dataframe to an interactive table.\"\n",
              "              style=\"display:none;\">\n",
              "        \n",
              "  <svg xmlns=\"http://www.w3.org/2000/svg\" height=\"24px\"viewBox=\"0 0 24 24\"\n",
              "       width=\"24px\">\n",
              "    <path d=\"M0 0h24v24H0V0z\" fill=\"none\"/>\n",
              "    <path d=\"M18.56 5.44l.94 2.06.94-2.06 2.06-.94-2.06-.94-.94-2.06-.94 2.06-2.06.94zm-11 1L8.5 8.5l.94-2.06 2.06-.94-2.06-.94L8.5 2.5l-.94 2.06-2.06.94zm10 10l.94 2.06.94-2.06 2.06-.94-2.06-.94-.94-2.06-.94 2.06-2.06.94z\"/><path d=\"M17.41 7.96l-1.37-1.37c-.4-.4-.92-.59-1.43-.59-.52 0-1.04.2-1.43.59L10.3 9.45l-7.72 7.72c-.78.78-.78 2.05 0 2.83L4 21.41c.39.39.9.59 1.41.59.51 0 1.02-.2 1.41-.59l7.78-7.78 2.81-2.81c.8-.78.8-2.07 0-2.86zM5.41 20L4 18.59l7.72-7.72 1.47 1.35L5.41 20z\"/>\n",
              "  </svg>\n",
              "      </button>\n",
              "      \n",
              "  <style>\n",
              "    .colab-df-container {\n",
              "      display:flex;\n",
              "      flex-wrap:wrap;\n",
              "      gap: 12px;\n",
              "    }\n",
              "\n",
              "    .colab-df-convert {\n",
              "      background-color: #E8F0FE;\n",
              "      border: none;\n",
              "      border-radius: 50%;\n",
              "      cursor: pointer;\n",
              "      display: none;\n",
              "      fill: #1967D2;\n",
              "      height: 32px;\n",
              "      padding: 0 0 0 0;\n",
              "      width: 32px;\n",
              "    }\n",
              "\n",
              "    .colab-df-convert:hover {\n",
              "      background-color: #E2EBFA;\n",
              "      box-shadow: 0px 1px 2px rgba(60, 64, 67, 0.3), 0px 1px 3px 1px rgba(60, 64, 67, 0.15);\n",
              "      fill: #174EA6;\n",
              "    }\n",
              "\n",
              "    [theme=dark] .colab-df-convert {\n",
              "      background-color: #3B4455;\n",
              "      fill: #D2E3FC;\n",
              "    }\n",
              "\n",
              "    [theme=dark] .colab-df-convert:hover {\n",
              "      background-color: #434B5C;\n",
              "      box-shadow: 0px 1px 3px 1px rgba(0, 0, 0, 0.15);\n",
              "      filter: drop-shadow(0px 1px 2px rgba(0, 0, 0, 0.3));\n",
              "      fill: #FFFFFF;\n",
              "    }\n",
              "  </style>\n",
              "\n",
              "      <script>\n",
              "        const buttonEl =\n",
              "          document.querySelector('#df-d3d25450-68ca-4602-a669-30c1f58a4e13 button.colab-df-convert');\n",
              "        buttonEl.style.display =\n",
              "          google.colab.kernel.accessAllowed ? 'block' : 'none';\n",
              "\n",
              "        async function convertToInteractive(key) {\n",
              "          const element = document.querySelector('#df-d3d25450-68ca-4602-a669-30c1f58a4e13');\n",
              "          const dataTable =\n",
              "            await google.colab.kernel.invokeFunction('convertToInteractive',\n",
              "                                                     [key], {});\n",
              "          if (!dataTable) return;\n",
              "\n",
              "          const docLinkHtml = 'Like what you see? Visit the ' +\n",
              "            '<a target=\"_blank\" href=https://colab.research.google.com/notebooks/data_table.ipynb>data table notebook</a>'\n",
              "            + ' to learn more about interactive tables.';\n",
              "          element.innerHTML = '';\n",
              "          dataTable['output_type'] = 'display_data';\n",
              "          await google.colab.output.renderOutput(dataTable, element);\n",
              "          const docLink = document.createElement('div');\n",
              "          docLink.innerHTML = docLinkHtml;\n",
              "          element.appendChild(docLink);\n",
              "        }\n",
              "      </script>\n",
              "    </div>\n",
              "  </div>\n",
              "  "
            ]
          },
          "metadata": {},
          "execution_count": 238
        }
      ],
      "source": [
        "rf_scores = rf_scores.sort_values(by='Test Score', ascending = False)\n",
        "rf_scores.head()\n",
        "# 22 is the best depth"
      ]
    },
    {
      "cell_type": "code",
      "execution_count": null,
      "metadata": {
        "id": "U-KmcGyU5KrP"
      },
      "outputs": [],
      "source": [
        "# using 22 as the best max depth choose n_estimators\n",
        "n_ests = [10,20,30,40,50, 100, 150, 200, 250]\n",
        "scores2 = pd.DataFrame(index=n_ests, columns=['Test Score', 'Train Score'])\n",
        "for n in n_ests:\n",
        "   model = RandomForestRegressor(max_depth=5, n_estimators=n)\n",
        "   model.fit(X_train_processed, y_train)\n",
        "   scores2.loc[n, 'Train Score'] = model.score(X_train_processed, y_train)\n",
        "   scores2.loc[n, 'Test Score'] = model.score(X_test_processed, y_test)\n",
        "\n"
      ]
    },
    {
      "cell_type": "code",
      "execution_count": null,
      "metadata": {
        "colab": {
          "background_save": true
        },
        "id": "Oon1-xS25bWF",
        "outputId": "301616ac-64f6-40c1-de06-baad0e53924b"
      },
      "outputs": [
        {
          "data": {
            "text/html": [
              "\n",
              "  <div id=\"df-61c0c73b-7316-424b-98bc-93d4e3f7562c\">\n",
              "    <div class=\"colab-df-container\">\n",
              "      <div>\n",
              "<style scoped>\n",
              "    .dataframe tbody tr th:only-of-type {\n",
              "        vertical-align: middle;\n",
              "    }\n",
              "\n",
              "    .dataframe tbody tr th {\n",
              "        vertical-align: top;\n",
              "    }\n",
              "\n",
              "    .dataframe thead th {\n",
              "        text-align: right;\n",
              "    }\n",
              "</style>\n",
              "<table border=\"1\" class=\"dataframe\">\n",
              "  <thead>\n",
              "    <tr style=\"text-align: right;\">\n",
              "      <th></th>\n",
              "      <th>Test Score</th>\n",
              "      <th>Train Score</th>\n",
              "    </tr>\n",
              "  </thead>\n",
              "  <tbody>\n",
              "    <tr>\n",
              "      <th>200</th>\n",
              "      <td>0.603297</td>\n",
              "      <td>0.61052</td>\n",
              "    </tr>\n",
              "    <tr>\n",
              "      <th>30</th>\n",
              "      <td>0.602965</td>\n",
              "      <td>0.609895</td>\n",
              "    </tr>\n",
              "    <tr>\n",
              "      <th>150</th>\n",
              "      <td>0.602945</td>\n",
              "      <td>0.610354</td>\n",
              "    </tr>\n",
              "    <tr>\n",
              "      <th>20</th>\n",
              "      <td>0.602896</td>\n",
              "      <td>0.609103</td>\n",
              "    </tr>\n",
              "    <tr>\n",
              "      <th>250</th>\n",
              "      <td>0.602725</td>\n",
              "      <td>0.610563</td>\n",
              "    </tr>\n",
              "  </tbody>\n",
              "</table>\n",
              "</div>\n",
              "      <button class=\"colab-df-convert\" onclick=\"convertToInteractive('df-61c0c73b-7316-424b-98bc-93d4e3f7562c')\"\n",
              "              title=\"Convert this dataframe to an interactive table.\"\n",
              "              style=\"display:none;\">\n",
              "        \n",
              "  <svg xmlns=\"http://www.w3.org/2000/svg\" height=\"24px\"viewBox=\"0 0 24 24\"\n",
              "       width=\"24px\">\n",
              "    <path d=\"M0 0h24v24H0V0z\" fill=\"none\"/>\n",
              "    <path d=\"M18.56 5.44l.94 2.06.94-2.06 2.06-.94-2.06-.94-.94-2.06-.94 2.06-2.06.94zm-11 1L8.5 8.5l.94-2.06 2.06-.94-2.06-.94L8.5 2.5l-.94 2.06-2.06.94zm10 10l.94 2.06.94-2.06 2.06-.94-2.06-.94-.94-2.06-.94 2.06-2.06.94z\"/><path d=\"M17.41 7.96l-1.37-1.37c-.4-.4-.92-.59-1.43-.59-.52 0-1.04.2-1.43.59L10.3 9.45l-7.72 7.72c-.78.78-.78 2.05 0 2.83L4 21.41c.39.39.9.59 1.41.59.51 0 1.02-.2 1.41-.59l7.78-7.78 2.81-2.81c.8-.78.8-2.07 0-2.86zM5.41 20L4 18.59l7.72-7.72 1.47 1.35L5.41 20z\"/>\n",
              "  </svg>\n",
              "      </button>\n",
              "      \n",
              "  <style>\n",
              "    .colab-df-container {\n",
              "      display:flex;\n",
              "      flex-wrap:wrap;\n",
              "      gap: 12px;\n",
              "    }\n",
              "\n",
              "    .colab-df-convert {\n",
              "      background-color: #E8F0FE;\n",
              "      border: none;\n",
              "      border-radius: 50%;\n",
              "      cursor: pointer;\n",
              "      display: none;\n",
              "      fill: #1967D2;\n",
              "      height: 32px;\n",
              "      padding: 0 0 0 0;\n",
              "      width: 32px;\n",
              "    }\n",
              "\n",
              "    .colab-df-convert:hover {\n",
              "      background-color: #E2EBFA;\n",
              "      box-shadow: 0px 1px 2px rgba(60, 64, 67, 0.3), 0px 1px 3px 1px rgba(60, 64, 67, 0.15);\n",
              "      fill: #174EA6;\n",
              "    }\n",
              "\n",
              "    [theme=dark] .colab-df-convert {\n",
              "      background-color: #3B4455;\n",
              "      fill: #D2E3FC;\n",
              "    }\n",
              "\n",
              "    [theme=dark] .colab-df-convert:hover {\n",
              "      background-color: #434B5C;\n",
              "      box-shadow: 0px 1px 3px 1px rgba(0, 0, 0, 0.15);\n",
              "      filter: drop-shadow(0px 1px 2px rgba(0, 0, 0, 0.3));\n",
              "      fill: #FFFFFF;\n",
              "    }\n",
              "  </style>\n",
              "\n",
              "      <script>\n",
              "        const buttonEl =\n",
              "          document.querySelector('#df-61c0c73b-7316-424b-98bc-93d4e3f7562c button.colab-df-convert');\n",
              "        buttonEl.style.display =\n",
              "          google.colab.kernel.accessAllowed ? 'block' : 'none';\n",
              "\n",
              "        async function convertToInteractive(key) {\n",
              "          const element = document.querySelector('#df-61c0c73b-7316-424b-98bc-93d4e3f7562c');\n",
              "          const dataTable =\n",
              "            await google.colab.kernel.invokeFunction('convertToInteractive',\n",
              "                                                     [key], {});\n",
              "          if (!dataTable) return;\n",
              "\n",
              "          const docLinkHtml = 'Like what you see? Visit the ' +\n",
              "            '<a target=\"_blank\" href=https://colab.research.google.com/notebooks/data_table.ipynb>data table notebook</a>'\n",
              "            + ' to learn more about interactive tables.';\n",
              "          element.innerHTML = '';\n",
              "          dataTable['output_type'] = 'display_data';\n",
              "          await google.colab.output.renderOutput(dataTable, element);\n",
              "          const docLink = document.createElement('div');\n",
              "          docLink.innerHTML = docLinkHtml;\n",
              "          element.appendChild(docLink);\n",
              "        }\n",
              "      </script>\n",
              "    </div>\n",
              "  </div>\n",
              "  "
            ],
            "text/plain": [
              "    Test Score Train Score\n",
              "200   0.603297     0.61052\n",
              "30    0.602965    0.609895\n",
              "150   0.602945    0.610354\n",
              "20    0.602896    0.609103\n",
              "250   0.602725    0.610563"
            ]
          },
          "execution_count": 72,
          "metadata": {},
          "output_type": "execute_result"
        }
      ],
      "source": [
        "scores2 = scores2.sort_values(by='Test Score', ascending = False)\n",
        "scores2.head()"
      ]
    },
    {
      "cell_type": "code",
      "execution_count": null,
      "metadata": {
        "colab": {
          "base_uri": "https://localhost:8080/"
        },
        "id": "jajoUh1f5v4z",
        "outputId": "afd4b9a6-5927-402b-87a2-c1421c311d38"
      },
      "outputs": [
        {
          "output_type": "stream",
          "name": "stdout",
          "text": [
            "MAE 755.0750430249775,\n",
            " MSE 1152240.9988003864,\n",
            " RMSE: 1073.4248920163843,\n",
            " R^2: 0.6106577986492563 \n"
          ]
        }
      ],
      "source": [
        "eval_regression(y_train, model.predict(X_train_processed))"
      ]
    },
    {
      "cell_type": "code",
      "execution_count": null,
      "metadata": {
        "colab": {
          "base_uri": "https://localhost:8080/"
        },
        "id": "Cm4MoEzr6x6w",
        "outputId": "856faa54-0d03-4a16-a2b2-6e30596ba787"
      },
      "outputs": [
        {
          "output_type": "stream",
          "name": "stdout",
          "text": [
            "MAE 728.7554376038553,\n",
            " MSE 1095663.9497252242,\n",
            " RMSE: 1046.739676197107,\n",
            " R^2: 0.6028731535531195 \n"
          ]
        }
      ],
      "source": [
        "eval_regression(y_test, model.predict(X_test_processed))"
      ]
    },
    {
      "cell_type": "markdown",
      "source": [
        "- The model is showing about 61.07% of the variance on the target on the training set and 60.29% of the vairance on the target on the test set. The model is showing a medium bias as the R2 is not very high but the train and test set are similar. "
      ],
      "metadata": {
        "id": "Q7v_YZKtuxyx"
      }
    },
    {
      "cell_type": "markdown",
      "source": [
        "# Recommendation:\n",
        "- My recommendation would be to use the Random Forest Model. The Bagged Tree model was too overfitting. The Random Forest Model compared to the Linear Regression and Decision Tree had a higher R2. Although the R2 is sitting at around 60%, the reason this could be is due to outside factors such as population density, medium income, etc that would effect sales. "
      ],
      "metadata": {
        "id": "2xGnC1bpu-ck"
      }
    }
  ],
  "metadata": {
    "colab": {
      "name": "Food_Sales_Prediction_ML.ipynb",
      "provenance": [],
      "mount_file_id": "1TDBhx75Qsm7kfNluyOJRLzyod5JLwgxE",
      "authorship_tag": "ABX9TyMWe9Btal80Phyc1Qz0pClL",
      "include_colab_link": true
    },
    "kernelspec": {
      "display_name": "Python 3",
      "name": "python3"
    },
    "language_info": {
      "name": "python"
    }
  },
  "nbformat": 4,
  "nbformat_minor": 0
}